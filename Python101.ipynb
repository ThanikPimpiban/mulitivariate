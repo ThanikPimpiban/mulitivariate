{
  "nbformat": 4,
  "nbformat_minor": 0,
  "metadata": {
    "colab": {
      "name": "Python101.ipynb",
      "provenance": [],
      "authorship_tag": "ABX9TyNySFpfm9bE0GS0mIJ3v0g4",
      "include_colab_link": true
    },
    "kernelspec": {
      "name": "python3",
      "display_name": "Python 3"
    }
  },
  "cells": [
    {
      "cell_type": "markdown",
      "metadata": {
        "id": "view-in-github",
        "colab_type": "text"
      },
      "source": [
        "<a href=\"https://colab.research.google.com/github/ThanikPimpiban/mulitivariate/blob/main/Python101.ipynb\" target=\"_parent\"><img src=\"https://colab.research.google.com/assets/colab-badge.svg\" alt=\"Open In Colab\"/></a>"
      ]
    },
    {
      "cell_type": "markdown",
      "metadata": {
        "id": "Esrys7jTLjfY"
      },
      "source": [
        "#**ตัวแปร variable**#"
      ]
    },
    {
      "cell_type": "markdown",
      "metadata": {
        "id": "c7G3bRliMYgN"
      },
      "source": [
        "##**หลักการเบื้องต้น**##\r\n",
        "\r\n",
        "1.ตั้งให้สื่อ\r\n",
        "\r\n",
        "2.ENG\r\n",
        "\r\n",
        "3.ใช้ตัวเลขได้แต่ห้ามขึ้นต้นด้วยตัวเลข\r\n",
        "\r\n",
        "4.ห้ามเว้นวรรค\r\n",
        "\r\n",
        "5.ตัวเล็กกับตัวใหญ่ต่างกัน"
      ]
    },
    {
      "cell_type": "markdown",
      "metadata": {
        "id": "DHa_imi8M1t1"
      },
      "source": [
        "มี output 2 mode : ออกหน้าจอ กับ เก็บไว้ใน var"
      ]
    },
    {
      "cell_type": "code",
      "metadata": {
        "colab": {
          "base_uri": "https://localhost:8080/"
        },
        "id": "Q_lifgovLof2",
        "outputId": "390d00be-3d97-45a4-afec-7d02a9170dd0"
      },
      "source": [
        "a = 3\r\n",
        "b = 4\r\n",
        "print(a*b)"
      ],
      "execution_count": 5,
      "outputs": [
        {
          "output_type": "stream",
          "text": [
            "12\n"
          ],
          "name": "stdout"
        }
      ]
    },
    {
      "cell_type": "markdown",
      "metadata": {
        "id": "6hYQORz1NvMN"
      },
      "source": [
        "#**ชนิดของตัวแปร มี 3 ชนิด คือ** \r\n",
        "\r\n",
        "1.int\r\n",
        "\r\n",
        "2.char or string    \r\n",
        " \r\n",
        "3.float\r\n"
      ]
    },
    {
      "cell_type": "code",
      "metadata": {
        "id": "d1hCqcdqPhXA"
      },
      "source": [
        "a = 'First'   # เครื่องหมาย '  '  ใส่ข้อความ"
      ],
      "execution_count": 6,
      "outputs": []
    },
    {
      "cell_type": "code",
      "metadata": {
        "colab": {
          "base_uri": "https://localhost:8080/",
          "height": 34
        },
        "id": "bx-n-O3KPjmJ",
        "outputId": "ca1965ec-5600-4478-c600-9efc5c9cdca3"
      },
      "source": [
        "a"
      ],
      "execution_count": 7,
      "outputs": [
        {
          "output_type": "execute_result",
          "data": {
            "application/vnd.google.colaboratory.intrinsic+json": {
              "type": "string"
            },
            "text/plain": [
              "'First'"
            ]
          },
          "metadata": {
            "tags": []
          },
          "execution_count": 7
        }
      ]
    },
    {
      "cell_type": "code",
      "metadata": {
        "colab": {
          "base_uri": "https://localhost:8080/"
        },
        "id": "LdlzK6SaQq4O",
        "outputId": "d7277290-b00b-43e3-c848-b1fa7eb58e39"
      },
      "source": [
        "b = 'ธนิก'\r\n",
        "print(b)"
      ],
      "execution_count": 8,
      "outputs": [
        {
          "output_type": "stream",
          "text": [
            "ธนิก\n"
          ],
          "name": "stdout"
        }
      ]
    },
    {
      "cell_type": "code",
      "metadata": {
        "id": "0p47WbYaQzEA"
      },
      "source": [
        ""
      ],
      "execution_count": null,
      "outputs": []
    },
    {
      "cell_type": "markdown",
      "metadata": {
        "id": "fcERi5d2R1_V"
      },
      "source": [
        "#**การเปลี่ยนชนิดของตัวแปร**#\r\n",
        "\r\n"
      ]
    },
    {
      "cell_type": "code",
      "metadata": {
        "colab": {
          "base_uri": "https://localhost:8080/"
        },
        "id": "38V-O62ASFzr",
        "outputId": "87165188-54e7-4e1a-bc8e-f8bc838739b4"
      },
      "source": [
        "aaa=1234567\r\n",
        "ccc='21546'\r\n",
        "\r\n",
        "aaa+int(ccc)"
      ],
      "execution_count": 9,
      "outputs": [
        {
          "output_type": "execute_result",
          "data": {
            "text/plain": [
              "1256113"
            ]
          },
          "metadata": {
            "tags": []
          },
          "execution_count": 9
        }
      ]
    },
    {
      "cell_type": "code",
      "metadata": {
        "id": "EmPQkwo9Shw1"
      },
      "source": [
        ""
      ],
      "execution_count": null,
      "outputs": []
    },
    {
      "cell_type": "markdown",
      "metadata": {
        "id": "_2ExaQCQSj8O"
      },
      "source": [
        "#**Operation (เครื่องหมาย + - * /)**#\r\n",
        "\r\n",
        "เครื่องหมาย **%** คือ modulo การหารเอาเศษ"
      ]
    },
    {
      "cell_type": "code",
      "metadata": {
        "colab": {
          "base_uri": "https://localhost:8080/"
        },
        "id": "8aARCn6nSxWs",
        "outputId": "08a24bca-17f8-4285-dd58-27373b065c5e"
      },
      "source": [
        "aaa+int(ccc) "
      ],
      "execution_count": 12,
      "outputs": [
        {
          "output_type": "execute_result",
          "data": {
            "text/plain": [
              "1256113"
            ]
          },
          "metadata": {
            "tags": []
          },
          "execution_count": 12
        }
      ]
    },
    {
      "cell_type": "code",
      "metadata": {
        "colab": {
          "base_uri": "https://localhost:8080/"
        },
        "id": "CNtxqsugSz1s",
        "outputId": "63310282-3bd4-4a49-933b-5ee511ccff16"
      },
      "source": [
        "5%2   # ใช้ mod "
      ],
      "execution_count": 13,
      "outputs": [
        {
          "output_type": "execute_result",
          "data": {
            "text/plain": [
              "1"
            ]
          },
          "metadata": {
            "tags": []
          },
          "execution_count": 13
        }
      ]
    },
    {
      "cell_type": "code",
      "metadata": {
        "id": "0ysKsVZqTbR9"
      },
      "source": [
        ""
      ],
      "execution_count": null,
      "outputs": []
    },
    {
      "cell_type": "markdown",
      "metadata": {
        "id": "a1YsbackT9ag"
      },
      "source": [
        "#**การใช้ print**#\r\n",
        "\r\n",
        "เพิ่ม f หน้า 'string' และใช้ {} ใส่ code \r\n",
        "\r\n",
        "*\\n* ตัดบรรทัด\r\n",
        "\r\n",
        "*\\n\\*  ใช้ตัดโค้ดขึ้นบรรทัดใหม่"
      ]
    },
    {
      "cell_type": "code",
      "metadata": {
        "colab": {
          "base_uri": "https://localhost:8080/"
        },
        "id": "XkkhkPTKU6gA",
        "outputId": "992fc109-74d6-4090-cd38-622fa1adf046"
      },
      "source": [
        "print(f' % คือการหารเอาเศษ เช่น 7%3 ={7%3}\\n\\\r\n",
        "แต่ การหารปกติ เช่น 7/3 = {7/3}\\n\\\r\n",
        " แต่ การหารเอาส่วน 7//3 ={7//3}\\n\\\r\n",
        "  หรือ int() เพื่ออการหารเอาส่วน เช่น 7//3 = {int(7//3)}')"
      ],
      "execution_count": 90,
      "outputs": [
        {
          "output_type": "stream",
          "text": [
            " % คือการหารเอาเศษ เช่น 7%3 =1\n",
            "แต่ การหารปกติ เช่น 7/3 = 2.3333333333333335\n",
            " แต่ การหารเอาส่วน 7//3 =2\n",
            "  หรือ int() เพื่ออการหารเอาส่วน เช่น 7//3 = 2\n"
          ],
          "name": "stdout"
        }
      ]
    },
    {
      "cell_type": "code",
      "metadata": {
        "id": "b5m2Ui4_VoCT"
      },
      "source": [
        ""
      ],
      "execution_count": null,
      "outputs": []
    },
    {
      "cell_type": "markdown",
      "metadata": {
        "id": "0nFTOvA_XWx-"
      },
      "source": [
        "##**โครงสร้างข้อมูล**##\r\n",
        "\r\n",
        "list คือ การเอาข้อมูลหลายๆข้อมูลมาเรียงต่อกัน \r\n",
        "\r\n",
        "[111,'first',546,'งง']"
      ]
    },
    {
      "cell_type": "markdown",
      "metadata": {
        "id": "orgCK4ieX2Dp"
      },
      "source": [
        "**square brackets**\r\n"
      ]
    },
    {
      "cell_type": "code",
      "metadata": {
        "colab": {
          "base_uri": "https://localhost:8080/"
        },
        "id": "EQMm_5LuX1H8",
        "outputId": "fe4a5689-a587-4bef-deaf-9e17b599ef2a"
      },
      "source": [
        "list_a = []              # เหมือนกับ array ใน c++\r\n",
        "print(list_a)"
      ],
      "execution_count": 26,
      "outputs": [
        {
          "output_type": "stream",
          "text": [
            "[]\n"
          ],
          "name": "stdout"
        }
      ]
    },
    {
      "cell_type": "markdown",
      "metadata": {
        "id": "XSpVq-3DYFPm"
      },
      "source": [
        "**ลำดับที่ใน list มีความสำคัญ**"
      ]
    },
    {
      "cell_type": "code",
      "metadata": {
        "colab": {
          "base_uri": "https://localhost:8080/"
        },
        "id": "4ZE6-BUHYCo3",
        "outputId": "9f096252-21d7-4cf2-de08-08fbc933e28f"
      },
      "source": [
        "list_b = [111,'first',546,'งง']    # เพิ่มตัวแปร ใน array\r\n",
        "print(list_b)"
      ],
      "execution_count": 28,
      "outputs": [
        {
          "output_type": "stream",
          "text": [
            "[111, 'first', 546, 'งง']\n"
          ],
          "name": "stdout"
        }
      ]
    },
    {
      "cell_type": "code",
      "metadata": {
        "colab": {
          "base_uri": "https://localhost:8080/",
          "height": 34
        },
        "id": "UloRXXDGY4Qb",
        "outputId": "eae24e3d-3ffd-4b34-e3bb-087218dd7666"
      },
      "source": [
        "list_b [1]     # เลือก ตัวแปร ใน array \r\n"
      ],
      "execution_count": 32,
      "outputs": [
        {
          "output_type": "execute_result",
          "data": {
            "application/vnd.google.colaboratory.intrinsic+json": {
              "type": "string"
            },
            "text/plain": [
              "'first'"
            ]
          },
          "metadata": {
            "tags": []
          },
          "execution_count": 32
        }
      ]
    },
    {
      "cell_type": "markdown",
      "metadata": {
        "id": "ktTWFB2YYSoa"
      },
      "source": [
        "**.append คือการเพิ่มสมาชิก ใน list**"
      ]
    },
    {
      "cell_type": "code",
      "metadata": {
        "colab": {
          "base_uri": "https://localhost:8080/"
        },
        "id": "84oJSlXNYeot",
        "outputId": "f2f34eca-dd00-4f2b-ff63-5915b910b1a5"
      },
      "source": [
        "list_b.append('p')\r\n",
        "print(list_b)       # 0 คือ ตัวแรก  -1  คือ ตัวสุดท้าย"
      ],
      "execution_count": 33,
      "outputs": [
        {
          "output_type": "stream",
          "text": [
            "[111, 'first', 546, 'งง', 'p', 'p']\n"
          ],
          "name": "stdout"
        }
      ]
    },
    {
      "cell_type": "markdown",
      "metadata": {
        "id": "2igHESKrZVD9"
      },
      "source": [
        "**string > list of characters**"
      ]
    },
    {
      "cell_type": "code",
      "metadata": {
        "id": "wOBz4uHmY2Yu"
      },
      "source": [
        "t = 'python is easy'   #  ตัวแปร"
      ],
      "execution_count": 34,
      "outputs": []
    },
    {
      "cell_type": "code",
      "metadata": {
        "colab": {
          "base_uri": "https://localhost:8080/",
          "height": 34
        },
        "id": "INMAKaOJZtJ6",
        "outputId": "b51d0326-64af-4ca4-e3ae-2f7bd5a64bc5"
      },
      "source": [
        "t[-4]     # string สามารถใช้ array หาตัวอักษรได้"
      ],
      "execution_count": 38,
      "outputs": [
        {
          "output_type": "execute_result",
          "data": {
            "application/vnd.google.colaboratory.intrinsic+json": {
              "type": "string"
            },
            "text/plain": [
              "'e'"
            ]
          },
          "metadata": {
            "tags": []
          },
          "execution_count": 38
        }
      ]
    },
    {
      "cell_type": "code",
      "metadata": {
        "colab": {
          "base_uri": "https://localhost:8080/",
          "height": 34
        },
        "id": "WsDD_Z4lZ2Lv",
        "outputId": "b973f418-5857-4687-c6d9-b49f000ae8c5"
      },
      "source": [
        "t[6]"
      ],
      "execution_count": 39,
      "outputs": [
        {
          "output_type": "execute_result",
          "data": {
            "application/vnd.google.colaboratory.intrinsic+json": {
              "type": "string"
            },
            "text/plain": [
              "' '"
            ]
          },
          "metadata": {
            "tags": []
          },
          "execution_count": 39
        }
      ]
    },
    {
      "cell_type": "markdown",
      "metadata": {
        "id": "oW4UCcoKeK_-"
      },
      "source": [
        "**จบ 5 มค 64**"
      ]
    },
    {
      "cell_type": "markdown",
      "metadata": {
        "id": "TXAK5lyfZH3H"
      },
      "source": [
        "****"
      ]
    }
  ]
}