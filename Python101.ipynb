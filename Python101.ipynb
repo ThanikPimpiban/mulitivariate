{
  "nbformat": 4,
  "nbformat_minor": 0,
  "metadata": {
    "colab": {
      "name": "Python101.ipynb",
      "provenance": [],
      "authorship_tag": "ABX9TyOWcmdUB8HTv0FH1K4GETw9",
      "include_colab_link": true
    },
    "kernelspec": {
      "name": "python3",
      "display_name": "Python 3"
    }
  },
  "cells": [
    {
      "cell_type": "markdown",
      "metadata": {
        "id": "view-in-github",
        "colab_type": "text"
      },
      "source": [
        "<a href=\"https://colab.research.google.com/github/ThanikPimpiban/mulitivariate/blob/main/Python101.ipynb\" target=\"_parent\"><img src=\"https://colab.research.google.com/assets/colab-badge.svg\" alt=\"Open In Colab\"/></a>"
      ]
    },
    {
      "cell_type": "markdown",
      "metadata": {
        "id": "Esrys7jTLjfY"
      },
      "source": [
        "#**ตัวแปร variable**#"
      ]
    },
    {
      "cell_type": "markdown",
      "metadata": {
        "id": "c7G3bRliMYgN"
      },
      "source": [
        "##**หลักการเบื้องต้น**##\r\n",
        "\r\n",
        "1.ตั้งให้สื่อ\r\n",
        "\r\n",
        "2.ENG\r\n",
        "\r\n",
        "3.ใช้ตัวเลขได้แต่ห้ามขึ้นต้นด้วยตัวเลข\r\n",
        "\r\n",
        "4.ห้ามเว้นวรรค\r\n",
        "\r\n",
        "5.ตัวเล็กกับตัวใหญ่ต่างกัน"
      ]
    },
    {
      "cell_type": "markdown",
      "metadata": {
        "id": "DHa_imi8M1t1"
      },
      "source": [
        "มี output 2 mode : ออกหน้าจอ กับ เก็บไว้ใน var"
      ]
    },
    {
      "cell_type": "code",
      "metadata": {
        "colab": {
          "base_uri": "https://localhost:8080/"
        },
        "id": "Q_lifgovLof2",
        "outputId": "cbf84694-73db-45d8-b9d3-7c31134be45c"
      },
      "source": [
        "a = 3\r\n",
        "b = 4\r\n",
        "print(a*b)"
      ],
      "execution_count": 1,
      "outputs": [
        {
          "output_type": "stream",
          "text": [
            "12\n"
          ],
          "name": "stdout"
        }
      ]
    },
    {
      "cell_type": "markdown",
      "metadata": {
        "id": "6hYQORz1NvMN"
      },
      "source": [
        "#**ชนิดของตัวแปร มี 3 ชนิด คือ** \r\n",
        "\r\n",
        "1.int\r\n",
        "\r\n",
        "2.char or string    \r\n",
        " \r\n",
        "3.float\r\n"
      ]
    },
    {
      "cell_type": "code",
      "metadata": {
        "id": "d1hCqcdqPhXA"
      },
      "source": [
        "a = 'First'   # เครื่องหมาย '  '  ใส่ข้อความ"
      ],
      "execution_count": null,
      "outputs": []
    },
    {
      "cell_type": "code",
      "metadata": {
        "colab": {
          "base_uri": "https://localhost:8080/",
          "height": 34
        },
        "id": "bx-n-O3KPjmJ",
        "outputId": "ca1965ec-5600-4478-c600-9efc5c9cdca3"
      },
      "source": [
        "a"
      ],
      "execution_count": null,
      "outputs": [
        {
          "output_type": "execute_result",
          "data": {
            "application/vnd.google.colaboratory.intrinsic+json": {
              "type": "string"
            },
            "text/plain": [
              "'First'"
            ]
          },
          "metadata": {
            "tags": []
          },
          "execution_count": 7
        }
      ]
    },
    {
      "cell_type": "code",
      "metadata": {
        "colab": {
          "base_uri": "https://localhost:8080/"
        },
        "id": "LdlzK6SaQq4O",
        "outputId": "d7277290-b00b-43e3-c848-b1fa7eb58e39"
      },
      "source": [
        "b = 'ธนิก'\r\n",
        "print(b)"
      ],
      "execution_count": null,
      "outputs": [
        {
          "output_type": "stream",
          "text": [
            "ธนิก\n"
          ],
          "name": "stdout"
        }
      ]
    },
    {
      "cell_type": "code",
      "metadata": {
        "id": "0p47WbYaQzEA"
      },
      "source": [
        ""
      ],
      "execution_count": null,
      "outputs": []
    },
    {
      "cell_type": "markdown",
      "metadata": {
        "id": "fcERi5d2R1_V"
      },
      "source": [
        "#**การเปลี่ยนชนิดของตัวแปร**#\r\n",
        "\r\n"
      ]
    },
    {
      "cell_type": "code",
      "metadata": {
        "colab": {
          "base_uri": "https://localhost:8080/"
        },
        "id": "38V-O62ASFzr",
        "outputId": "87165188-54e7-4e1a-bc8e-f8bc838739b4"
      },
      "source": [
        "aaa=1234567\r\n",
        "ccc='21546'\r\n",
        "\r\n",
        "aaa+int(ccc)"
      ],
      "execution_count": null,
      "outputs": [
        {
          "output_type": "execute_result",
          "data": {
            "text/plain": [
              "1256113"
            ]
          },
          "metadata": {
            "tags": []
          },
          "execution_count": 9
        }
      ]
    },
    {
      "cell_type": "code",
      "metadata": {
        "id": "EmPQkwo9Shw1"
      },
      "source": [
        ""
      ],
      "execution_count": null,
      "outputs": []
    },
    {
      "cell_type": "markdown",
      "metadata": {
        "id": "_2ExaQCQSj8O"
      },
      "source": [
        "#**Operation (เครื่องหมาย + - * /)**#\r\n",
        "\r\n",
        "เครื่องหมาย **%** คือ modulo การหารเอาเศษ"
      ]
    },
    {
      "cell_type": "code",
      "metadata": {
        "colab": {
          "base_uri": "https://localhost:8080/"
        },
        "id": "8aARCn6nSxWs",
        "outputId": "08a24bca-17f8-4285-dd58-27373b065c5e"
      },
      "source": [
        "aaa+int(ccc) "
      ],
      "execution_count": null,
      "outputs": [
        {
          "output_type": "execute_result",
          "data": {
            "text/plain": [
              "1256113"
            ]
          },
          "metadata": {
            "tags": []
          },
          "execution_count": 12
        }
      ]
    },
    {
      "cell_type": "code",
      "metadata": {
        "colab": {
          "base_uri": "https://localhost:8080/"
        },
        "id": "CNtxqsugSz1s",
        "outputId": "63310282-3bd4-4a49-933b-5ee511ccff16"
      },
      "source": [
        "5%2   # ใช้ mod "
      ],
      "execution_count": null,
      "outputs": [
        {
          "output_type": "execute_result",
          "data": {
            "text/plain": [
              "1"
            ]
          },
          "metadata": {
            "tags": []
          },
          "execution_count": 13
        }
      ]
    },
    {
      "cell_type": "code",
      "metadata": {
        "id": "0ysKsVZqTbR9"
      },
      "source": [
        ""
      ],
      "execution_count": null,
      "outputs": []
    },
    {
      "cell_type": "markdown",
      "metadata": {
        "id": "a1YsbackT9ag"
      },
      "source": [
        "#**การใช้ print**#\r\n",
        "\r\n",
        "เพิ่ม f หน้า 'string' และใช้ {} ใส่ code \r\n",
        "\r\n",
        "*\\n* ตัดบรรทัด\r\n",
        "\r\n",
        "*\\n\\*  ใช้ตัดโค้ดขึ้นบรรทัดใหม่"
      ]
    },
    {
      "cell_type": "code",
      "metadata": {
        "colab": {
          "base_uri": "https://localhost:8080/"
        },
        "id": "XkkhkPTKU6gA",
        "outputId": "992fc109-74d6-4090-cd38-622fa1adf046"
      },
      "source": [
        "print(f' % คือการหารเอาเศษ เช่น 7%3 ={7%3}\\n\\\r\n",
        "แต่ การหารปกติ เช่น 7/3 = {7/3}\\n\\\r\n",
        " แต่ การหารเอาส่วน 7//3 ={7//3}\\n\\\r\n",
        "  หรือ int() เพื่ออการหารเอาส่วน เช่น 7//3 = {int(7//3)}')"
      ],
      "execution_count": null,
      "outputs": [
        {
          "output_type": "stream",
          "text": [
            " % คือการหารเอาเศษ เช่น 7%3 =1\n",
            "แต่ การหารปกติ เช่น 7/3 = 2.3333333333333335\n",
            " แต่ การหารเอาส่วน 7//3 =2\n",
            "  หรือ int() เพื่ออการหารเอาส่วน เช่น 7//3 = 2\n"
          ],
          "name": "stdout"
        }
      ]
    },
    {
      "cell_type": "code",
      "metadata": {
        "id": "b5m2Ui4_VoCT"
      },
      "source": [
        ""
      ],
      "execution_count": null,
      "outputs": []
    },
    {
      "cell_type": "markdown",
      "metadata": {
        "id": "0nFTOvA_XWx-"
      },
      "source": [
        "##**โครงสร้างข้อมูล**##\r\n",
        "\r\n",
        "list คือ การเอาข้อมูลหลายๆข้อมูลมาเรียงต่อกัน \r\n",
        "\r\n",
        "[111,'first',546,'งง']"
      ]
    },
    {
      "cell_type": "markdown",
      "metadata": {
        "id": "orgCK4ieX2Dp"
      },
      "source": [
        "**square brackets**\r\n"
      ]
    },
    {
      "cell_type": "code",
      "metadata": {
        "colab": {
          "base_uri": "https://localhost:8080/"
        },
        "id": "EQMm_5LuX1H8",
        "outputId": "fe4a5689-a587-4bef-deaf-9e17b599ef2a"
      },
      "source": [
        "list_a = []              # เหมือนกับ array ใน c++\r\n",
        "print(list_a)"
      ],
      "execution_count": null,
      "outputs": [
        {
          "output_type": "stream",
          "text": [
            "[]\n"
          ],
          "name": "stdout"
        }
      ]
    },
    {
      "cell_type": "markdown",
      "metadata": {
        "id": "XSpVq-3DYFPm"
      },
      "source": [
        "**ลำดับที่ใน list มีความสำคัญ**"
      ]
    },
    {
      "cell_type": "code",
      "metadata": {
        "colab": {
          "base_uri": "https://localhost:8080/"
        },
        "id": "4ZE6-BUHYCo3",
        "outputId": "f2052d38-1b79-4a36-9045-06e91abca517"
      },
      "source": [
        "list_b = [111,'first',546,'งง']    # เพิ่มตัวแปร ใน array\r\n",
        "print(list_b)"
      ],
      "execution_count": 8,
      "outputs": [
        {
          "output_type": "stream",
          "text": [
            "[111, 'first', 546, 'งง']\n"
          ],
          "name": "stdout"
        }
      ]
    },
    {
      "cell_type": "code",
      "metadata": {
        "colab": {
          "base_uri": "https://localhost:8080/",
          "height": 34
        },
        "id": "UloRXXDGY4Qb",
        "outputId": "eae24e3d-3ffd-4b34-e3bb-087218dd7666"
      },
      "source": [
        "list_b [1]     # เลือก ตัวแปร ใน array \r\n"
      ],
      "execution_count": null,
      "outputs": [
        {
          "output_type": "execute_result",
          "data": {
            "application/vnd.google.colaboratory.intrinsic+json": {
              "type": "string"
            },
            "text/plain": [
              "'first'"
            ]
          },
          "metadata": {
            "tags": []
          },
          "execution_count": 32
        }
      ]
    },
    {
      "cell_type": "markdown",
      "metadata": {
        "id": "ktTWFB2YYSoa"
      },
      "source": [
        "**.append คือการเพิ่มสมาชิก ใน list**"
      ]
    },
    {
      "cell_type": "code",
      "metadata": {
        "colab": {
          "base_uri": "https://localhost:8080/"
        },
        "id": "84oJSlXNYeot",
        "outputId": "f2f34eca-dd00-4f2b-ff63-5915b910b1a5"
      },
      "source": [
        "list_b.append('p')\r\n",
        "print(list_b)       # 0 คือ ตัวแรก  -1  คือ ตัวสุดท้าย"
      ],
      "execution_count": null,
      "outputs": [
        {
          "output_type": "stream",
          "text": [
            "[111, 'first', 546, 'งง', 'p', 'p']\n"
          ],
          "name": "stdout"
        }
      ]
    },
    {
      "cell_type": "markdown",
      "metadata": {
        "id": "2igHESKrZVD9"
      },
      "source": [
        "**string > list of characters**"
      ]
    },
    {
      "cell_type": "code",
      "metadata": {
        "id": "wOBz4uHmY2Yu"
      },
      "source": [
        "t = 'python is easy'   #  ตัวแปร"
      ],
      "execution_count": 3,
      "outputs": []
    },
    {
      "cell_type": "code",
      "metadata": {
        "colab": {
          "base_uri": "https://localhost:8080/",
          "height": 34
        },
        "id": "INMAKaOJZtJ6",
        "outputId": "f0bf1a37-a1bc-4153-a65c-64b0c8984449"
      },
      "source": [
        "t[-4]     # string สามารถใช้ array หาตัวอักษรได้"
      ],
      "execution_count": 4,
      "outputs": [
        {
          "output_type": "execute_result",
          "data": {
            "application/vnd.google.colaboratory.intrinsic+json": {
              "type": "string"
            },
            "text/plain": [
              "'e'"
            ]
          },
          "metadata": {
            "tags": []
          },
          "execution_count": 4
        }
      ]
    },
    {
      "cell_type": "code",
      "metadata": {
        "colab": {
          "base_uri": "https://localhost:8080/",
          "height": 34
        },
        "id": "WsDD_Z4lZ2Lv",
        "outputId": "c63ed11f-09f9-468a-9234-9c21a88f9932"
      },
      "source": [
        "t[6]"
      ],
      "execution_count": 5,
      "outputs": [
        {
          "output_type": "execute_result",
          "data": {
            "application/vnd.google.colaboratory.intrinsic+json": {
              "type": "string"
            },
            "text/plain": [
              "' '"
            ]
          },
          "metadata": {
            "tags": []
          },
          "execution_count": 5
        }
      ]
    },
    {
      "cell_type": "code",
      "metadata": {
        "id": "_foGhRIVhmFp"
      },
      "source": [
        ""
      ],
      "execution_count": null,
      "outputs": []
    },
    {
      "cell_type": "markdown",
      "metadata": {
        "id": "oW4UCcoKeK_-"
      },
      "source": [
        "**จบ 5 มค 64**"
      ]
    },
    {
      "cell_type": "markdown",
      "metadata": {
        "id": "6NauyAIGhSdb"
      },
      "source": [
        "# คาบ 3 11 มค 2021"
      ]
    },
    {
      "cell_type": "code",
      "metadata": {
        "id": "io8FTjtoh5sr",
        "outputId": "5b4d1cc2-9d88-4d45-add0-dac4bf7b995e",
        "colab": {
          "base_uri": "https://localhost:8080/"
        }
      },
      "source": [
        "len(t)  #ตรวจสอบความยาว list"
      ],
      "execution_count": 6,
      "outputs": [
        {
          "output_type": "execute_result",
          "data": {
            "text/plain": [
              "14"
            ]
          },
          "metadata": {
            "tags": []
          },
          "execution_count": 6
        }
      ]
    },
    {
      "cell_type": "code",
      "metadata": {
        "id": "TUTdKcqsiwCt",
        "outputId": "bc737d7c-8a40-492f-d29f-ff074ee12b19",
        "colab": {
          "base_uri": "https://localhost:8080/"
        }
      },
      "source": [
        "len(list_b)"
      ],
      "execution_count": 9,
      "outputs": [
        {
          "output_type": "execute_result",
          "data": {
            "text/plain": [
              "4"
            ]
          },
          "metadata": {
            "tags": []
          },
          "execution_count": 9
        }
      ]
    },
    {
      "cell_type": "code",
      "metadata": {
        "id": "zN8B6rLElIsY",
        "outputId": "1b00d74a-cdf1-4122-e819-c3257118ae44",
        "colab": {
          "base_uri": "https://localhost:8080/"
        }
      },
      "source": [
        "list_b.append(t)\r\n",
        "print(list_b)"
      ],
      "execution_count": 10,
      "outputs": [
        {
          "output_type": "stream",
          "text": [
            "[111, 'first', 546, 'งง', 'python is easy']\n"
          ],
          "name": "stdout"
        }
      ]
    },
    {
      "cell_type": "markdown",
      "metadata": {
        "id": "AcDUPHjCi-o_"
      },
      "source": [
        "ตัวที่อยู่ข้างใน [] เราเรียกว่า index (ตัวชี้)"
      ]
    },
    {
      "cell_type": "code",
      "metadata": {
        "id": "XSEh2ab1jI_e"
      },
      "source": [
        ""
      ],
      "execution_count": null,
      "outputs": []
    },
    {
      "cell_type": "markdown",
      "metadata": {
        "id": "tlqaGsq1jKIB"
      },
      "source": [
        "# list slicing สามารถทำได้โดยใช้ colon ( : )"
      ]
    },
    {
      "cell_type": "markdown",
      "metadata": {
        "id": "fgKh6p5RjT07"
      },
      "source": [
        ""
      ]
    },
    {
      "cell_type": "code",
      "metadata": {
        "id": "dzzOILo_jS2_",
        "outputId": "fca054ec-cf04-4238-e4dc-529e6c5459e1",
        "colab": {
          "base_uri": "https://localhost:8080/"
        }
      },
      "source": [
        "print(t)\r\n",
        "print(t[1:11])            #ตัดคำ list slicing"
      ],
      "execution_count": 22,
      "outputs": [
        {
          "output_type": "stream",
          "text": [
            "python is easy\n",
            "ython is e\n"
          ],
          "name": "stdout"
        }
      ]
    },
    {
      "cell_type": "code",
      "metadata": {
        "id": "7uUbB8iGm0EX",
        "outputId": "1144a275-dcfd-43d9-b07f-3f18c03a7d95",
        "colab": {
          "base_uri": "https://localhost:8080/"
        }
      },
      "source": [
        "print(len(t[1:11]))"
      ],
      "execution_count": 21,
      "outputs": [
        {
          "output_type": "stream",
          "text": [
            "10\n"
          ],
          "name": "stdout"
        }
      ]
    },
    {
      "cell_type": "code",
      "metadata": {
        "id": "8MZBTYFEnjxT",
        "outputId": "5e25c4bb-d903-4063-c901-83287c2902b0",
        "colab": {
          "base_uri": "https://localhost:8080/",
          "height": 34
        }
      },
      "source": [
        "t[0:14:2]"
      ],
      "execution_count": 27,
      "outputs": [
        {
          "output_type": "execute_result",
          "data": {
            "application/vnd.google.colaboratory.intrinsic+json": {
              "type": "string"
            },
            "text/plain": [
              "'pto ses'"
            ]
          },
          "metadata": {
            "tags": []
          },
          "execution_count": 27
        }
      ]
    },
    {
      "cell_type": "code",
      "metadata": {
        "id": "iCwBWRqdoL0C"
      },
      "source": [
        "Z = [1,2,3,4,5,6,7,8,9,10]"
      ],
      "execution_count": 29,
      "outputs": []
    },
    {
      "cell_type": "code",
      "metadata": {
        "id": "DbVCRxu3oV96",
        "outputId": "bb04f76a-60f9-47a1-f891-9946eeac1622",
        "colab": {
          "base_uri": "https://localhost:8080/"
        }
      },
      "source": [
        "print(len(Z))\r\n",
        "print(Z[1:10:2])     #ควิช 11 มค 2021"
      ],
      "execution_count": 35,
      "outputs": [
        {
          "output_type": "stream",
          "text": [
            "10\n",
            "[2, 4, 6, 8, 10]\n"
          ],
          "name": "stdout"
        }
      ]
    },
    {
      "cell_type": "markdown",
      "metadata": {
        "id": "Ri-IzIz_mxlk"
      },
      "source": [
        "**ถ้าเว้นว่างหน้า : หมายความว่า เริ่มตั้งแต่ตัวแรก** \r\n",
        "\r\n",
        "**ถ้าเว้นว่างหลัง : หมายความว่า ไปจนถึงตัวสุดท้าย**"
      ]
    },
    {
      "cell_type": "code",
      "metadata": {
        "id": "im5JA0tBnFHk",
        "outputId": "938541ea-aedd-4352-f10f-a3f5b2c2ab6b",
        "colab": {
          "base_uri": "https://localhost:8080/"
        }
      },
      "source": [
        "print(t[:10])\r\n",
        "print(t[4:])\r\n",
        "print(t[-4:])\r\n",
        "print(t[:])"
      ],
      "execution_count": 41,
      "outputs": [
        {
          "output_type": "stream",
          "text": [
            "python is \n",
            "on is easy\n",
            "easy\n",
            "python is easy\n"
          ],
          "name": "stdout"
        }
      ]
    },
    {
      "cell_type": "code",
      "metadata": {
        "id": "6DERgd0kpUq0"
      },
      "source": [
        ""
      ],
      "execution_count": null,
      "outputs": []
    },
    {
      "cell_type": "markdown",
      "metadata": {
        "id": "nLSIQj8lptI1"
      },
      "source": [
        "#เราสามารถเอา list มาต่อกันได้ด้วย + "
      ]
    },
    {
      "cell_type": "code",
      "metadata": {
        "id": "s1FAXK2Jp0F0",
        "outputId": "97f097d1-3b9a-4f75-ea93-e8772339e7c1",
        "colab": {
          "base_uri": "https://localhost:8080/"
        }
      },
      "source": [
        "print(list_b+Z)"
      ],
      "execution_count": 48,
      "outputs": [
        {
          "output_type": "stream",
          "text": [
            "[111, 'first', 546, 'งง', 'python is easy', 1, 2, 3, 4, 5, 6, 7, 8, 9, 10]\n"
          ],
          "name": "stdout"
        }
      ]
    },
    {
      "cell_type": "markdown",
      "metadata": {
        "id": "SLwmdW5Tp3Z8"
      },
      "source": [
        "# การแบ่ง string ตามสัญลักษณ์ที่กำหนด -> split string "
      ]
    },
    {
      "cell_type": "code",
      "metadata": {
        "id": "EPF57GH5qCtV",
        "outputId": "342c2f1a-3fed-46f9-c9ff-c6df1840cc68",
        "colab": {
          "base_uri": "https://localhost:8080/"
        }
      },
      "source": [
        "t.split(' ')"
      ],
      "execution_count": 50,
      "outputs": [
        {
          "output_type": "execute_result",
          "data": {
            "text/plain": [
              "['python', 'is', 'easy']"
            ]
          },
          "metadata": {
            "tags": []
          },
          "execution_count": 50
        }
      ]
    },
    {
      "cell_type": "code",
      "metadata": {
        "id": "c3uQO3NSt5Cz"
      },
      "source": [
        "time = '11:32:55'"
      ],
      "execution_count": 51,
      "outputs": []
    },
    {
      "cell_type": "code",
      "metadata": {
        "id": "j2w-SmRTuAJl",
        "outputId": "6620d988-52af-4a97-a690-4bfa6898c625",
        "colab": {
          "base_uri": "https://localhost:8080/"
        }
      },
      "source": [
        "time.split(':')"
      ],
      "execution_count": 53,
      "outputs": [
        {
          "output_type": "execute_result",
          "data": {
            "text/plain": [
              "['11', '32', '55']"
            ]
          },
          "metadata": {
            "tags": []
          },
          "execution_count": 53
        }
      ]
    },
    {
      "cell_type": "code",
      "metadata": {
        "id": "rYCItzqquUOf"
      },
      "source": [
        "time2 = '12,54,56'"
      ],
      "execution_count": 54,
      "outputs": []
    },
    {
      "cell_type": "code",
      "metadata": {
        "id": "D7Fg9GvjuZ_F",
        "outputId": "84dc3207-24ac-4f0b-d39d-2d594e929fb3",
        "colab": {
          "base_uri": "https://localhost:8080/"
        }
      },
      "source": [
        "time2.split(',')"
      ],
      "execution_count": 57,
      "outputs": [
        {
          "output_type": "execute_result",
          "data": {
            "text/plain": [
              "['12', '54', '56']"
            ]
          },
          "metadata": {
            "tags": []
          },
          "execution_count": 57
        }
      ]
    },
    {
      "cell_type": "code",
      "metadata": {
        "id": "HTh0uQQku0i6",
        "outputId": "b13533bd-2167-46be-c980-6ea840fa9030",
        "colab": {
          "base_uri": "https://localhost:8080/"
        }
      },
      "source": [
        "t_sp = t.split(' ')\r\n",
        "print(t_sp)"
      ],
      "execution_count": 60,
      "outputs": [
        {
          "output_type": "stream",
          "text": [
            "['python', 'is', 'easy']\n"
          ],
          "name": "stdout"
        }
      ]
    },
    {
      "cell_type": "code",
      "metadata": {
        "id": "xBULFHvZvJsE",
        "outputId": "92e9547b-ae21-4ba5-d6b3-12a8d861bc2d",
        "colab": {
          "base_uri": "https://localhost:8080/"
        }
      },
      "source": [
        "  print(':'.join(t_sp))  #วิธีรวม ใช้   .join  "
      ],
      "execution_count": 61,
      "outputs": [
        {
          "output_type": "stream",
          "text": [
            "python:is:easy\n"
          ],
          "name": "stdout"
        }
      ]
    },
    {
      "cell_type": "markdown",
      "metadata": {
        "id": "1bdT19cHrHaL"
      },
      "source": [
        "# HW คำนวณเวลาเป็นวินาทีของเวลาต่อไปนี้โดยใช้คำสั่ง split() ช่วย (print ออกมาให้สวยงาม)\r\n"
      ]
    },
    {
      "cell_type": "markdown",
      "metadata": {
        "id": "PbwWGO2uvcwv"
      },
      "source": [
        "12:30:15\r\n",
        "\r\n",
        "13:41:07\r\n",
        "\r\n",
        "12:53:15\r\n",
        "\r\n",
        "00:59:25\r\n",
        "\r\n",
        "11:11:11\r\n",
        "\r\n",
        "16:06:09\r\n",
        "\r\n",
        "21:12:30\r\n",
        "\r\n",
        "10:06:15\r\n",
        "\r\n",
        "ตัวอย่าง 00:01:10  =  70 วินาที"
      ]
    },
    {
      "cell_type": "code",
      "metadata": {
        "id": "0UMKDpP7tu-G"
      },
      "source": [
        "time_1 = '12:30:15'\r\n",
        "second = 'วินาที'"
      ],
      "execution_count": 68,
      "outputs": []
    },
    {
      "cell_type": "code",
      "metadata": {
        "id": "dXRhjE7XwRKK",
        "outputId": "c213a909-20ae-411b-f78d-c5f6e0e34997",
        "colab": {
          "base_uri": "https://localhost:8080/"
        }
      },
      "source": [
        "print((12*360)+(30*60)+(15))"
      ],
      "execution_count": 71,
      "outputs": [
        {
          "output_type": "stream",
          "text": [
            "6135\n"
          ],
          "name": "stdout"
        }
      ]
    },
    {
      "cell_type": "markdown",
      "metadata": {
        "id": "QjHcE8J9xMRC"
      },
      "source": [
        "**การบ้าน**"
      ]
    },
    {
      "cell_type": "code",
      "metadata": {
        "id": "S6F9u5O-xP9n"
      },
      "source": [
        ""
      ],
      "execution_count": null,
      "outputs": []
    },
    {
      "cell_type": "code",
      "metadata": {
        "id": "Spx3J77Uwu5B"
      },
      "source": [
        ""
      ],
      "execution_count": null,
      "outputs": []
    }
  ]
}