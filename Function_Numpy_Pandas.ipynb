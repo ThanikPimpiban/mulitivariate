{
  "nbformat": 4,
  "nbformat_minor": 0,
  "metadata": {
    "colab": {
      "name": "Function_Numpy_Pandas.ipynb",
      "provenance": [],
      "authorship_tag": "ABX9TyNiVu3BiwhH20qesZiT4nkA",
      "include_colab_link": true
    },
    "kernelspec": {
      "name": "python3",
      "display_name": "Python 3"
    }
  },
  "cells": [
    {
      "cell_type": "markdown",
      "metadata": {
        "id": "view-in-github",
        "colab_type": "text"
      },
      "source": [
        "<a href=\"https://colab.research.google.com/github/ThanikPimpiban/mulitivariate/blob/main/Function_Numpy_Pandas.ipynb\" target=\"_parent\"><img src=\"https://colab.research.google.com/assets/colab-badge.svg\" alt=\"Open In Colab\"/></a>"
      ]
    },
    {
      "cell_type": "markdown",
      "metadata": {
        "id": "fDB4eeiaSYVP"
      },
      "source": [
        "# Function"
      ]
    },
    {
      "cell_type": "markdown",
      "metadata": {
        "id": "QrDhUR4kS5Qi"
      },
      "source": [
        "python\r\n",
        "\r\n",
        "    def function_name(_Input_) :\r\n",
        "\r\n",
        "       do_something with _Input_ to get _Output\r\n",
        "\r\n",
        "       return _Output"
      ]
    },
    {
      "cell_type": "markdown",
      "metadata": {
        "id": "P1uIErQOTW39"
      },
      "source": [
        "function ประกอบไปด้วย 4 ส่วน\r\n",
        "\r\n",
        "  1.บอก python ว่าเราจะเขียนฟังก์ชั่น ชื่ออะไร def function_name () : (ขาดไม่ได้)\r\n",
        "\r\n",
        "  2.กำหนดตัวแปรที่จะเป็น input (ขาดได้)\r\n",
        "\r\n",
        "  3.ส่วนประมวลผล do_something with to get output (ขาดไม่ได้)\r\n",
        "\r\n",
        "  4.ส่วน return output"
      ]
    },
    {
      "cell_type": "code",
      "metadata": {
        "colab": {
          "base_uri": "https://localhost:8080/",
          "height": 34
        },
        "id": "vWDwp2wpSPkv",
        "outputId": "55691323-9dcd-4756-e6cc-d7c082df19dd"
      },
      "source": [
        "def x1_1(name,surname,ID) :\r\n",
        "      st= f'ชื่อ  {name} นามสกุล {surname} ID {ID}'\r\n",
        "      return st \r\n",
        "x1_1('thanik','pimpiban','623021049-1')"
      ],
      "execution_count": 15,
      "outputs": [
        {
          "output_type": "execute_result",
          "data": {
            "application/vnd.google.colaboratory.intrinsic+json": {
              "type": "string"
            },
            "text/plain": [
              "'ชื่อ  thanik นามสกุล pimpiban ID 623021049-1'"
            ]
          },
          "metadata": {
            "tags": []
          },
          "execution_count": 15
        }
      ]
    },
    {
      "cell_type": "markdown",
      "metadata": {
        "id": "BvX6AKUCXoBe"
      },
      "source": [
        "ฟังก์ชั่นไม่จำเป็นต้องมี output"
      ]
    },
    {
      "cell_type": "code",
      "metadata": {
        "id": "Wjh2QDwwZsTq"
      },
      "source": [
        "def Pi():\r\n",
        "  return 3.14159265359"
      ],
      "execution_count": 29,
      "outputs": []
    },
    {
      "cell_type": "code",
      "metadata": {
        "colab": {
          "base_uri": "https://localhost:8080/"
        },
        "id": "yI9ghs-bYkx4",
        "outputId": "443f4631-4557-445c-873a-6790e765d71f"
      },
      "source": [
        "Pi()*(1.2*2)"
      ],
      "execution_count": 36,
      "outputs": [
        {
          "output_type": "execute_result",
          "data": {
            "text/plain": [
              "7.539822368616"
            ]
          },
          "metadata": {
            "tags": []
          },
          "execution_count": 36
        }
      ]
    },
    {
      "cell_type": "code",
      "metadata": {
        "id": "GoNwTIxsXFLK"
      },
      "source": [
        "op2 = x1_1('thanik','pimpiban','623021049-1')"
      ],
      "execution_count": 19,
      "outputs": []
    },
    {
      "cell_type": "code",
      "metadata": {
        "colab": {
          "base_uri": "https://localhost:8080/"
        },
        "id": "jEqyxM1OYibR",
        "outputId": "fccf6e36-296d-4427-f000-9b9e1d02ee1b"
      },
      "source": [
        "print(op2)"
      ],
      "execution_count": 20,
      "outputs": [
        {
          "output_type": "stream",
          "text": [
            "ชื่อ  thanik นามสกุล pimpiban ID 623021049-1\n"
          ],
          "name": "stdout"
        }
      ]
    },
    {
      "cell_type": "markdown",
      "metadata": {
        "id": "pu7zZ5ozaPKM"
      },
      "source": [
        "## input ของ funtion ใน python มีสองแบบ input ที่จำเป็นต้องใส่ กับ input ที่ไม่จำเป็นต้องใส่ (มีค่า default) เราต้องเรียง input ที่จำเป็นต้องใส่ขึ้นก่อน"
      ]
    },
    {
      "cell_type": "code",
      "metadata": {
        "id": "NrAwzBZcY4vQ"
      },
      "source": [
        "def print_default(name, surname, ID, grade='F'):\r\n",
        "   st= f'ชื่อ  {name} นามสกุล {surname} ID {ID}'\r\n",
        "   print(st)\r\n",
        "   st2= f'เกรด >>>>> {grade}'\r\n",
        "   print(st2)"
      ],
      "execution_count": 31,
      "outputs": []
    },
    {
      "cell_type": "code",
      "metadata": {
        "colab": {
          "base_uri": "https://localhost:8080/"
        },
        "id": "87nV6JqYbiv3",
        "outputId": "2e2d52f2-70cb-444a-d105-e325b52420f5"
      },
      "source": [
        "print_default('thanik','pimpiban','623021049-1')"
      ],
      "execution_count": 32,
      "outputs": [
        {
          "output_type": "stream",
          "text": [
            "ชื่อ  thanik นามสกุล pimpiban ID 623021049-1\n",
            "เกรด >>>>> F\n"
          ],
          "name": "stdout"
        }
      ]
    },
    {
      "cell_type": "code",
      "metadata": {
        "id": "FoSCgnOnboq3"
      },
      "source": [
        "def print_default(name, surname, ID, grade='F'):\r\n",
        "   st= f'ชื่อ  {name} นามสกุล {surname} ID {ID}'\r\n",
        "   print(st)\r\n",
        "   st2= f'เกรด >>>>> {grade}'\r\n",
        "   print(st2)"
      ],
      "execution_count": null,
      "outputs": []
    },
    {
      "cell_type": "markdown",
      "metadata": {
        "id": "VVeSVixbb_OK"
      },
      "source": [
        "**เราสามารถเรียก FN โดยใช้ชื่อตัวแปรของ FN ช่วยได้**"
      ]
    },
    {
      "cell_type": "code",
      "metadata": {
        "colab": {
          "base_uri": "https://localhost:8080/",
          "height": 34
        },
        "id": "JwnFq_9tb8lx",
        "outputId": "31284e0d-d8af-4d01-82dd-08a0e07b90d1"
      },
      "source": [
        "x1_1(ID='623021049-1',name='thanik',surname='pimpiban')"
      ],
      "execution_count": 38,
      "outputs": [
        {
          "output_type": "execute_result",
          "data": {
            "application/vnd.google.colaboratory.intrinsic+json": {
              "type": "string"
            },
            "text/plain": [
              "'ชื่อ  thanik นามสกุล pimpiban ID 623021049-1'"
            ]
          },
          "metadata": {
            "tags": []
          },
          "execution_count": 38
        }
      ]
    },
    {
      "cell_type": "code",
      "metadata": {
        "id": "iq7nGgwdcX2F"
      },
      "source": [
        ""
      ],
      "execution_count": null,
      "outputs": []
    },
    {
      "cell_type": "markdown",
      "metadata": {
        "id": "pS8UnKhHclpj"
      },
      "source": [
        "# **การบ้าน HW3**"
      ]
    },
    {
      "cell_type": "markdown",
      "metadata": {
        "id": "B1_EcXj-cqsK"
      },
      "source": [
        "ให้เขียน function คำนวณจำนวนวินาทีจาก เวลาต่อไปนี้\r\n",
        "\r\n",
        "'14-15-31'\r\n",
        "\r\n",
        "'13-00-01'\r\n",
        "\r\n",
        "'05-49-44'\r\n",
        "\r\n",
        "'00-00-16'\r\n",
        "\r\n",
        "และ print ให้สวยงาม"
      ]
    },
    {
      "cell_type": "code",
      "metadata": {
        "id": "4DSJ6cYocppt"
      },
      "source": [
        "def time(tx):\r\n",
        "  h1=  int (tx.split('-')[0])*3600\r\n",
        "  m1= int (tx.split('-')[1])*60\r\n",
        "  s1 = int (tx.split('-')[2])\r\n",
        "  ss = h1+m1+s1\r\n",
        "  print(\"แปลงเป็นวินาทีได้ = \",ss,\" วินาที\")\r\n",
        "  \r\n"
      ],
      "execution_count": 118,
      "outputs": []
    },
    {
      "cell_type": "code",
      "metadata": {
        "colab": {
          "base_uri": "https://localhost:8080/"
        },
        "id": "F5r90N4qfwUE",
        "outputId": "7d111444-1deb-4f10-95d1-34c79174482e"
      },
      "source": [
        "time('14-15-31')    # ข้อ1"
      ],
      "execution_count": 124,
      "outputs": [
        {
          "output_type": "stream",
          "text": [
            "แปลงเป็นวินาทีได้ =  51331  วินาที\n"
          ],
          "name": "stdout"
        }
      ]
    },
    {
      "cell_type": "code",
      "metadata": {
        "colab": {
          "base_uri": "https://localhost:8080/"
        },
        "id": "2FKGyujxjszA",
        "outputId": "bd303be3-a629-45ec-e3ab-d54faee2753c"
      },
      "source": [
        "time('13-00-01')     #ข้อ2"
      ],
      "execution_count": 125,
      "outputs": [
        {
          "output_type": "stream",
          "text": [
            "แปลงเป็นวินาทีได้ =  46801  วินาที\n"
          ],
          "name": "stdout"
        }
      ]
    },
    {
      "cell_type": "code",
      "metadata": {
        "colab": {
          "base_uri": "https://localhost:8080/"
        },
        "id": "rSnsZMhAk7Mo",
        "outputId": "cfd98467-b118-40e7-ab36-69c94088dc8b"
      },
      "source": [
        "time('05-49-44')      #ข้อ3"
      ],
      "execution_count": 126,
      "outputs": [
        {
          "output_type": "stream",
          "text": [
            "แปลงเป็นวินาทีได้ =  20984  วินาที\n"
          ],
          "name": "stdout"
        }
      ]
    },
    {
      "cell_type": "code",
      "metadata": {
        "colab": {
          "base_uri": "https://localhost:8080/"
        },
        "id": "rvfOxa-qlBSJ",
        "outputId": "602d566a-2a4d-46cb-ac18-d4a724bc22f3"
      },
      "source": [
        "time('00-00-16')      #ข้อ4"
      ],
      "execution_count": 127,
      "outputs": [
        {
          "output_type": "stream",
          "text": [
            "แปลงเป็นวินาทีได้ =  16  วินาที\n"
          ],
          "name": "stdout"
        }
      ]
    },
    {
      "cell_type": "markdown",
      "metadata": {
        "id": "_zUNsq2ilr9k"
      },
      "source": [
        "**เสร็จการบ้าน**"
      ]
    },
    {
      "cell_type": "code",
      "metadata": {
        "id": "N9vgXXkOlF7p"
      },
      "source": [
        ""
      ],
      "execution_count": null,
      "outputs": []
    }
  ]
}