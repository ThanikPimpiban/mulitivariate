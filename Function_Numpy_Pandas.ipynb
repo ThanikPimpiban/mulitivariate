{
  "nbformat": 4,
  "nbformat_minor": 0,
  "metadata": {
    "colab": {
      "name": "Function_Numpy_Pandas.ipynb",
      "provenance": [],
      "authorship_tag": "ABX9TyMHydbZ5hgAbcJ642HkPEZw",
      "include_colab_link": true
    },
    "kernelspec": {
      "name": "python3",
      "display_name": "Python 3"
    }
  },
  "cells": [
    {
      "cell_type": "markdown",
      "metadata": {
        "id": "view-in-github",
        "colab_type": "text"
      },
      "source": [
        "<a href=\"https://colab.research.google.com/github/ThanikPimpiban/mulitivariate/blob/main/Function_Numpy_Pandas.ipynb\" target=\"_parent\"><img src=\"https://colab.research.google.com/assets/colab-badge.svg\" alt=\"Open In Colab\"/></a>"
      ]
    },
    {
      "cell_type": "markdown",
      "metadata": {
        "id": "fDB4eeiaSYVP"
      },
      "source": [
        "# Function"
      ]
    },
    {
      "cell_type": "markdown",
      "metadata": {
        "id": "QrDhUR4kS5Qi"
      },
      "source": [
        "python\r\n",
        "\r\n",
        "    def function_name(_Input_) :\r\n",
        "\r\n",
        "       do_something with _Input_ to get _Output\r\n",
        "\r\n",
        "       return _Output"
      ]
    },
    {
      "cell_type": "markdown",
      "metadata": {
        "id": "P1uIErQOTW39"
      },
      "source": [
        "function ประกอบไปด้วย 4 ส่วน\r\n",
        "\r\n",
        "  1.บอก python ว่าเราจะเขียนฟังก์ชั่น ชื่ออะไร def function_name () : (ขาดไม่ได้)\r\n",
        "\r\n",
        "  2.กำหนดตัวแปรที่จะเป็น input (ขาดได้)\r\n",
        "\r\n",
        "  3.ส่วนประมวลผล do_something with to get output (ขาดไม่ได้)\r\n",
        "\r\n",
        "  4.ส่วน return output"
      ]
    },
    {
      "cell_type": "code",
      "metadata": {
        "colab": {
          "base_uri": "https://localhost:8080/",
          "height": 34
        },
        "id": "vWDwp2wpSPkv",
        "outputId": "55691323-9dcd-4756-e6cc-d7c082df19dd"
      },
      "source": [
        "def x1_1(name,surname,ID) :\r\n",
        "      st= f'ชื่อ  {name} นามสกุล {surname} ID {ID}'\r\n",
        "      return st \r\n",
        "x1_1('thanik','pimpiban','623021049-1')"
      ],
      "execution_count": null,
      "outputs": [
        {
          "output_type": "execute_result",
          "data": {
            "application/vnd.google.colaboratory.intrinsic+json": {
              "type": "string"
            },
            "text/plain": [
              "'ชื่อ  thanik นามสกุล pimpiban ID 623021049-1'"
            ]
          },
          "metadata": {
            "tags": []
          },
          "execution_count": 15
        }
      ]
    },
    {
      "cell_type": "markdown",
      "metadata": {
        "id": "BvX6AKUCXoBe"
      },
      "source": [
        "ฟังก์ชั่นไม่จำเป็นต้องมี output"
      ]
    },
    {
      "cell_type": "code",
      "metadata": {
        "id": "Wjh2QDwwZsTq"
      },
      "source": [
        "def Pi():\r\n",
        "  return 3.14159265359"
      ],
      "execution_count": null,
      "outputs": []
    },
    {
      "cell_type": "code",
      "metadata": {
        "colab": {
          "base_uri": "https://localhost:8080/"
        },
        "id": "yI9ghs-bYkx4",
        "outputId": "443f4631-4557-445c-873a-6790e765d71f"
      },
      "source": [
        "Pi()*(1.2*2)"
      ],
      "execution_count": null,
      "outputs": [
        {
          "output_type": "execute_result",
          "data": {
            "text/plain": [
              "7.539822368616"
            ]
          },
          "metadata": {
            "tags": []
          },
          "execution_count": 36
        }
      ]
    },
    {
      "cell_type": "code",
      "metadata": {
        "id": "GoNwTIxsXFLK"
      },
      "source": [
        "op2 = x1_1('thanik','pimpiban','623021049-1')"
      ],
      "execution_count": null,
      "outputs": []
    },
    {
      "cell_type": "code",
      "metadata": {
        "colab": {
          "base_uri": "https://localhost:8080/"
        },
        "id": "jEqyxM1OYibR",
        "outputId": "fccf6e36-296d-4427-f000-9b9e1d02ee1b"
      },
      "source": [
        "print(op2)"
      ],
      "execution_count": null,
      "outputs": [
        {
          "output_type": "stream",
          "text": [
            "ชื่อ  thanik นามสกุล pimpiban ID 623021049-1\n"
          ],
          "name": "stdout"
        }
      ]
    },
    {
      "cell_type": "markdown",
      "metadata": {
        "id": "pu7zZ5ozaPKM"
      },
      "source": [
        "## input ของ funtion ใน python มีสองแบบ input ที่จำเป็นต้องใส่ กับ input ที่ไม่จำเป็นต้องใส่ (มีค่า default) เราต้องเรียง input ที่จำเป็นต้องใส่ขึ้นก่อน"
      ]
    },
    {
      "cell_type": "code",
      "metadata": {
        "id": "NrAwzBZcY4vQ"
      },
      "source": [
        "def print_default(name, surname, ID, grade='F'):\r\n",
        "   st= f'ชื่อ  {name} นามสกุล {surname} ID {ID}'\r\n",
        "   print(st)\r\n",
        "   st2= f'เกรด >>>>> {grade}'\r\n",
        "   print(st2)"
      ],
      "execution_count": null,
      "outputs": []
    },
    {
      "cell_type": "code",
      "metadata": {
        "colab": {
          "base_uri": "https://localhost:8080/"
        },
        "id": "87nV6JqYbiv3",
        "outputId": "2e2d52f2-70cb-444a-d105-e325b52420f5"
      },
      "source": [
        "print_default('thanik','pimpiban','623021049-1')"
      ],
      "execution_count": null,
      "outputs": [
        {
          "output_type": "stream",
          "text": [
            "ชื่อ  thanik นามสกุล pimpiban ID 623021049-1\n",
            "เกรด >>>>> F\n"
          ],
          "name": "stdout"
        }
      ]
    },
    {
      "cell_type": "code",
      "metadata": {
        "id": "FoSCgnOnboq3"
      },
      "source": [
        "def print_default(name, surname, ID, grade='F'):\r\n",
        "   st= f'ชื่อ  {name} นามสกุล {surname} ID {ID}'\r\n",
        "   print(st)\r\n",
        "   st2= f'เกรด >>>>> {grade}'\r\n",
        "   print(st2)"
      ],
      "execution_count": null,
      "outputs": []
    },
    {
      "cell_type": "markdown",
      "metadata": {
        "id": "VVeSVixbb_OK"
      },
      "source": [
        "**เราสามารถเรียก FN โดยใช้ชื่อตัวแปรของ FN ช่วยได้**"
      ]
    },
    {
      "cell_type": "code",
      "metadata": {
        "colab": {
          "base_uri": "https://localhost:8080/",
          "height": 34
        },
        "id": "JwnFq_9tb8lx",
        "outputId": "31284e0d-d8af-4d01-82dd-08a0e07b90d1"
      },
      "source": [
        "x1_1(ID='623021049-1',name='thanik',surname='pimpiban')"
      ],
      "execution_count": null,
      "outputs": [
        {
          "output_type": "execute_result",
          "data": {
            "application/vnd.google.colaboratory.intrinsic+json": {
              "type": "string"
            },
            "text/plain": [
              "'ชื่อ  thanik นามสกุล pimpiban ID 623021049-1'"
            ]
          },
          "metadata": {
            "tags": []
          },
          "execution_count": 38
        }
      ]
    },
    {
      "cell_type": "code",
      "metadata": {
        "id": "iq7nGgwdcX2F"
      },
      "source": [
        ""
      ],
      "execution_count": null,
      "outputs": []
    },
    {
      "cell_type": "markdown",
      "metadata": {
        "id": "pS8UnKhHclpj"
      },
      "source": [
        "# **การบ้าน HW3**"
      ]
    },
    {
      "cell_type": "markdown",
      "metadata": {
        "id": "B1_EcXj-cqsK"
      },
      "source": [
        "ให้เขียน function คำนวณจำนวนวินาทีจาก เวลาต่อไปนี้\r\n",
        "\r\n",
        "'14-15-31'\r\n",
        "\r\n",
        "'13-00-01'\r\n",
        "\r\n",
        "'05-49-44'\r\n",
        "\r\n",
        "'00-00-16'\r\n",
        "\r\n",
        "และ print ให้สวยงาม"
      ]
    },
    {
      "cell_type": "code",
      "metadata": {
        "id": "4DSJ6cYocppt"
      },
      "source": [
        "def time(tx):\r\n",
        "  h1=  int (tx.split('-')[0])*3600\r\n",
        "  m1= int (tx.split('-')[1])*60\r\n",
        "  s1 = int (tx.split('-')[2])\r\n",
        "  ss = h1+m1+s1\r\n",
        "  print(\"แปลงเป็นวินาทีได้ = \",ss,\" วินาที\")\r\n",
        "  \r\n"
      ],
      "execution_count": null,
      "outputs": []
    },
    {
      "cell_type": "code",
      "metadata": {
        "colab": {
          "base_uri": "https://localhost:8080/"
        },
        "id": "F5r90N4qfwUE",
        "outputId": "7d111444-1deb-4f10-95d1-34c79174482e"
      },
      "source": [
        "time('14-15-31')    # ข้อ1"
      ],
      "execution_count": null,
      "outputs": [
        {
          "output_type": "stream",
          "text": [
            "แปลงเป็นวินาทีได้ =  51331  วินาที\n"
          ],
          "name": "stdout"
        }
      ]
    },
    {
      "cell_type": "code",
      "metadata": {
        "colab": {
          "base_uri": "https://localhost:8080/"
        },
        "id": "2FKGyujxjszA",
        "outputId": "bd303be3-a629-45ec-e3ab-d54faee2753c"
      },
      "source": [
        "time('13-00-01')     #ข้อ2"
      ],
      "execution_count": null,
      "outputs": [
        {
          "output_type": "stream",
          "text": [
            "แปลงเป็นวินาทีได้ =  46801  วินาที\n"
          ],
          "name": "stdout"
        }
      ]
    },
    {
      "cell_type": "code",
      "metadata": {
        "colab": {
          "base_uri": "https://localhost:8080/"
        },
        "id": "rSnsZMhAk7Mo",
        "outputId": "cfd98467-b118-40e7-ab36-69c94088dc8b"
      },
      "source": [
        "time('05-49-44')      #ข้อ3"
      ],
      "execution_count": null,
      "outputs": [
        {
          "output_type": "stream",
          "text": [
            "แปลงเป็นวินาทีได้ =  20984  วินาที\n"
          ],
          "name": "stdout"
        }
      ]
    },
    {
      "cell_type": "code",
      "metadata": {
        "colab": {
          "base_uri": "https://localhost:8080/"
        },
        "id": "rvfOxa-qlBSJ",
        "outputId": "602d566a-2a4d-46cb-ac18-d4a724bc22f3"
      },
      "source": [
        "time('00-00-16')      #ข้อ4"
      ],
      "execution_count": null,
      "outputs": [
        {
          "output_type": "stream",
          "text": [
            "แปลงเป็นวินาทีได้ =  16  วินาที\n"
          ],
          "name": "stdout"
        }
      ]
    },
    {
      "cell_type": "markdown",
      "metadata": {
        "id": "_zUNsq2ilr9k"
      },
      "source": [
        "**เสร็จการบ้าน**"
      ]
    },
    {
      "cell_type": "markdown",
      "metadata": {
        "id": "1Yx2qHhQQIlH"
      },
      "source": [
        "ไม่เอา ~pandas~"
      ]
    },
    {
      "cell_type": "markdown",
      "metadata": {
        "id": "SbigSS8iTg-M"
      },
      "source": [
        "numpy คือ package สำหรับจัดการกับ Array ที่เป็นตัวเลข (Matrix)\r\n",
        "\r\n",
        "์num + py คือ number + python\r\n",
        "\r\n",
        "การใช้ package\r\n",
        "\r\n",
        "1. 'import'   'ชื่อ package'   #เรียกใช้ package\r\n",
        "2.ชื่อ package   ชื่อ function #เรียกใช้ function\r\n"
      ]
    },
    {
      "cell_type": "code",
      "metadata": {
        "id": "3hxr_g78R85e"
      },
      "source": [
        "import numpy"
      ],
      "execution_count": 19,
      "outputs": []
    },
    {
      "cell_type": "markdown",
      "metadata": {
        "id": "Up0ZIDe3UHA_"
      },
      "source": [
        "สร้าง Numpy"
      ]
    },
    {
      "cell_type": "code",
      "metadata": {
        "id": "w5Hs-92ASBfu",
        "outputId": "f4e907cf-ca99-4c5d-d035-508c0e77a6d7",
        "colab": {
          "base_uri": "https://localhost:8080/"
        }
      },
      "source": [
        "mat_ex1 = numpy.array([[5.2,3,0,4.5],[9,1,0,0.3]]) \r\n",
        "print(mat_ex1)"
      ],
      "execution_count": 25,
      "outputs": [
        {
          "output_type": "stream",
          "text": [
            "[[5.2 3.  0.  4.5]\n",
            " [9.  1.  0.  0.3]]\n"
          ],
          "name": "stdout"
        }
      ]
    },
    {
      "cell_type": "code",
      "metadata": {
        "id": "GLejp-ElUeMO",
        "outputId": "26c7c4e6-49ee-49f9-f064-f99ed3c13222",
        "colab": {
          "base_uri": "https://localhost:8080/"
        }
      },
      "source": [
        "mat_ex1[1,1]      #[แถว,หลัก]"
      ],
      "execution_count": 30,
      "outputs": [
        {
          "output_type": "execute_result",
          "data": {
            "text/plain": [
              "1.0"
            ]
          },
          "metadata": {
            "tags": []
          },
          "execution_count": 30
        }
      ]
    },
    {
      "cell_type": "markdown",
      "metadata": {
        "id": "D2aFfsBiVzFl"
      },
      "source": [
        "ถ้าไม่มี numpy array "
      ]
    },
    {
      "cell_type": "code",
      "metadata": {
        "id": "sStQn509VG6T",
        "outputId": "80fec670-aa45-486e-b0dc-01a524691459",
        "colab": {
          "base_uri": "https://localhost:8080/"
        }
      },
      "source": [
        "list_ex1 = [[5.2,3.0,4.5],[9.1,0.1,0.3]]\r\n",
        "print(list_ex1)"
      ],
      "execution_count": 38,
      "outputs": [
        {
          "output_type": "stream",
          "text": [
            "[[5.2, 3.0, 4.5], [9.1, 0.1, 0.3]]\n"
          ],
          "name": "stdout"
        }
      ]
    },
    {
      "cell_type": "code",
      "metadata": {
        "id": "nCe6TK5UWBka",
        "outputId": "d4ada4e8-39a5-4629-c002-3add385564e6",
        "colab": {
          "base_uri": "https://localhost:8080/"
        }
      },
      "source": [
        "list_ex1[1][1]"
      ],
      "execution_count": 42,
      "outputs": [
        {
          "output_type": "execute_result",
          "data": {
            "text/plain": [
              "0.1"
            ]
          },
          "metadata": {
            "tags": []
          },
          "execution_count": 42
        }
      ]
    },
    {
      "cell_type": "code",
      "metadata": {
        "id": "_HkiMmJUWGqy",
        "outputId": "f34227c3-572b-41c5-8793-7121a13adf40",
        "colab": {
          "base_uri": "https://localhost:8080/"
        }
      },
      "source": [
        "print(list_ex1)\r\n",
        "a = list_ex1[1]\r\n",
        "print(a)\r\n",
        "print(a[1])"
      ],
      "execution_count": 43,
      "outputs": [
        {
          "output_type": "stream",
          "text": [
            "[[5.2, 3.0, 4.5], [9.1, 0.1, 0.3]]\n",
            "[9.1, 0.1, 0.3]\n",
            "0.1\n"
          ],
          "name": "stdout"
        }
      ]
    },
    {
      "cell_type": "markdown",
      "metadata": {
        "id": "rskU0WAHX-kV"
      },
      "source": [
        "Matrix operation \r\n",
        "\r\n",
        "data 2 แบบ -> matrix (array 2D) , scalar(ค่าคงที่)"
      ]
    },
    {
      "cell_type": "code",
      "metadata": {
        "id": "ytsLTPxSXtO5",
        "outputId": "6c231522-6813-4eb9-a5c6-c7ac7c011a32",
        "colab": {
          "base_uri": "https://localhost:8080/"
        }
      },
      "source": [
        "mat_ex1 = numpy.array([[5.2,3.0,4.5],[9.1,0.1,0.3]])\r\n",
        "print(mat_ex1)\r\n",
        "mat_ex2 = numpy.array([[2,3.7,5.9],[91,1.5,7.3]])\r\n",
        "print(mat_ex2)"
      ],
      "execution_count": 44,
      "outputs": [
        {
          "output_type": "stream",
          "text": [
            "[[5.2 3.  4.5]\n",
            " [9.1 0.1 0.3]]\n",
            "[[ 2.   3.7  5.9]\n",
            " [91.   1.5  7.3]]\n"
          ],
          "name": "stdout"
        }
      ]
    },
    {
      "cell_type": "markdown",
      "metadata": {
        "id": "UD79X-BCZC6z"
      },
      "source": [
        "# บวกกับลบ matrix เอาตัวเลขตำแหน่งเดียวกันมาบวกกัน\r\n",
        "(หน้าตาของ matrix ต้องเหมือนกัน)"
      ]
    },
    {
      "cell_type": "code",
      "metadata": {
        "id": "EOsbRDiKY6RQ",
        "outputId": "3b2b6303-df67-4b77-b16e-b42ff5b24981",
        "colab": {
          "base_uri": "https://localhost:8080/"
        }
      },
      "source": [
        "mat_ex3 = mat_ex1 + mat_ex2 \r\n",
        "print(mat_ex3)\r\n",
        "mat_ex4 = mat_ex1 - mat_ex2 \r\n",
        "print(mat_ex4)"
      ],
      "execution_count": 46,
      "outputs": [
        {
          "output_type": "stream",
          "text": [
            "[[  7.2   6.7  10.4]\n",
            " [100.1   1.6   7.6]]\n",
            "[[  3.2  -0.7  -1.4]\n",
            " [-81.9  -1.4  -7. ]]\n"
          ],
          "name": "stdout"
        }
      ]
    },
    {
      "cell_type": "code",
      "metadata": {
        "id": "TPacR00UZCeG",
        "outputId": "05a183ed-e73a-4fdd-aadd-a9726322ce76",
        "colab": {
          "base_uri": "https://localhost:8080/"
        }
      },
      "source": [
        "mat_ex0 = numpy.array([[1,2],[3,4]])\r\n",
        "print(mat_ex0)"
      ],
      "execution_count": 47,
      "outputs": [
        {
          "output_type": "stream",
          "text": [
            "[[1 2]\n",
            " [3 4]]\n"
          ],
          "name": "stdout"
        }
      ]
    },
    {
      "cell_type": "markdown",
      "metadata": {
        "id": "lkXqtVxJaPgo"
      },
      "source": [
        "การตรวจสอบรูปร่างของ matrix"
      ]
    },
    {
      "cell_type": "code",
      "metadata": {
        "id": "RgkknEpnaMst",
        "outputId": "8c8e4df1-f041-413f-960c-236b516696ef",
        "colab": {
          "base_uri": "https://localhost:8080/"
        }
      },
      "source": [
        "mat_ex3.shape"
      ],
      "execution_count": 49,
      "outputs": [
        {
          "output_type": "execute_result",
          "data": {
            "text/plain": [
              "(2, 3)"
            ]
          },
          "metadata": {
            "tags": []
          },
          "execution_count": 49
        }
      ]
    },
    {
      "cell_type": "code",
      "metadata": {
        "id": "EAPrei62aTm9",
        "outputId": "287e9177-b301-4e9d-ef7b-a84dac420683",
        "colab": {
          "base_uri": "https://localhost:8080/"
        }
      },
      "source": [
        "mat_ex3.shape[0]"
      ],
      "execution_count": 55,
      "outputs": [
        {
          "output_type": "execute_result",
          "data": {
            "text/plain": [
              "2"
            ]
          },
          "metadata": {
            "tags": []
          },
          "execution_count": 55
        }
      ]
    },
    {
      "cell_type": "markdown",
      "metadata": {
        "id": "5lEET5lUa7ar"
      },
      "source": [
        "#คูณ matrix\r\n",
        "(หลักของ matrix ตัวข้างหน้า ต้องเท่ากับแถวของ Matrix ตัวข้างหลัง)\r\n",
        "\r\n",
        "dot product((AAA,x)(x,ZZZ)) = (AAA,ZZZ)"
      ]
    },
    {
      "cell_type": "code",
      "metadata": {
        "id": "k5Zpo9IzdLeI"
      },
      "source": [
        "mat_w1 = numpy.array([[1,2,3],[3,2,1]])\r\n",
        "mat_w2 = numpy.array([[3,2,1],[1,2,3]])"
      ],
      "execution_count": 77,
      "outputs": []
    },
    {
      "cell_type": "code",
      "metadata": {
        "id": "ZspsHrGKanSE",
        "outputId": "c0416044-2933-4b26-8f66-218e8efd5845",
        "colab": {
          "base_uri": "https://localhost:8080/",
          "height": 198
        }
      },
      "source": [
        ""
      ],
      "execution_count": 80,
      "outputs": [
        {
          "output_type": "error",
          "ename": "ValueError",
          "evalue": "ignored",
          "traceback": [
            "\u001b[0;31m---------------------------------------------------------------------------\u001b[0m",
            "\u001b[0;31mValueError\u001b[0m                                Traceback (most recent call last)",
            "\u001b[0;32m<ipython-input-80-724fbe6bd1ac>\u001b[0m in \u001b[0;36m<module>\u001b[0;34m()\u001b[0m\n\u001b[0;32m----> 1\u001b[0;31m \u001b[0mnumpy\u001b[0m\u001b[0;34m.\u001b[0m\u001b[0mdot\u001b[0m\u001b[0;34m(\u001b[0m\u001b[0mmat_w1\u001b[0m\u001b[0;34m,\u001b[0m\u001b[0mmat_w2\u001b[0m\u001b[0;34m)\u001b[0m\u001b[0;34m\u001b[0m\u001b[0;34m\u001b[0m\u001b[0m\n\u001b[0m",
            "\u001b[0;32m<__array_function__ internals>\u001b[0m in \u001b[0;36mdot\u001b[0;34m(*args, **kwargs)\u001b[0m\n",
            "\u001b[0;31mValueError\u001b[0m: shapes (2,3) and (2,3) not aligned: 3 (dim 1) != 2 (dim 0)"
          ]
        }
      ]
    },
    {
      "cell_type": "markdown",
      "metadata": {
        "id": "uUZsJR6kgGL8"
      },
      "source": [
        "# Transpose กลับแถวเป็นหลัก กลับหลักเป็นแถว\r\n",
        "\r\n",
        "matrix.T"
      ]
    },
    {
      "cell_type": "code",
      "metadata": {
        "id": "5kVjPY20hSNJ",
        "outputId": "bdbab0ee-813d-45bb-e379-58b98e49e472",
        "colab": {
          "base_uri": "https://localhost:8080/"
        }
      },
      "source": [
        "mat_ex1.T.shape\r\n"
      ],
      "execution_count": 84,
      "outputs": [
        {
          "output_type": "execute_result",
          "data": {
            "text/plain": [
              "(3, 2)"
            ]
          },
          "metadata": {
            "tags": []
          },
          "execution_count": 84
        }
      ]
    },
    {
      "cell_type": "code",
      "metadata": {
        "id": "s7KSaXgihb2V",
        "outputId": "87fdc78e-98c9-4bc1-ec15-62d87b923091",
        "colab": {
          "base_uri": "https://localhost:8080/"
        }
      },
      "source": [
        "mat_ex2.shape"
      ],
      "execution_count": 86,
      "outputs": [
        {
          "output_type": "execute_result",
          "data": {
            "text/plain": [
              "(2, 3)"
            ]
          },
          "metadata": {
            "tags": []
          },
          "execution_count": 86
        }
      ]
    },
    {
      "cell_type": "code",
      "metadata": {
        "id": "32NDiH07bMX8",
        "outputId": "6506b31a-ec49-46c9-c698-52d48de7edc4",
        "colab": {
          "base_uri": "https://localhost:8080/"
        }
      },
      "source": [
        "numpy.dot(mat_ex1,mat_ex2.T)  #(2,3).(3,2)\r\n"
      ],
      "execution_count": 81,
      "outputs": [
        {
          "output_type": "execute_result",
          "data": {
            "text/plain": [
              "array([[ 48.05, 510.55],\n",
              "       [ 20.34, 830.44]])"
            ]
          },
          "metadata": {
            "tags": []
          },
          "execution_count": 81
        }
      ]
    },
    {
      "cell_type": "code",
      "metadata": {
        "id": "FGraDcFsgbOn"
      },
      "source": [
        ""
      ],
      "execution_count": null,
      "outputs": []
    },
    {
      "cell_type": "markdown",
      "metadata": {
        "id": "qXbF2DzZi_2-"
      },
      "source": [
        "# HW4 อธิบายการหา Determinant และ Inverse matrix (รูป และ อธิบาย)"
      ]
    },
    {
      "cell_type": "code",
      "metadata": {
        "id": "JbSU59shjRdx"
      },
      "source": [
        ""
      ],
      "execution_count": null,
      "outputs": []
    }
  ]
}