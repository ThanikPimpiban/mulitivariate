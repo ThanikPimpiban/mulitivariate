{
  "nbformat": 4,
  "nbformat_minor": 0,
  "metadata": {
    "colab": {
      "name": "Multivariate Exam.ipynb",
      "provenance": [],
      "authorship_tag": "ABX9TyOAZESaCNLnSDav2GYjDu+J",
      "include_colab_link": true
    },
    "kernelspec": {
      "name": "python3",
      "display_name": "Python 3"
    },
    "language_info": {
      "name": "python"
    }
  },
  "cells": [
    {
      "cell_type": "markdown",
      "metadata": {
        "id": "view-in-github",
        "colab_type": "text"
      },
      "source": [
        "<a href=\"https://colab.research.google.com/github/ThanikPimpiban/mulitivariate/blob/main/Multivariate_Exam.ipynb\" target=\"_parent\"><img src=\"https://colab.research.google.com/assets/colab-badge.svg\" alt=\"Open In Colab\"/></a>"
      ]
    },
    {
      "cell_type": "markdown",
      "metadata": {
        "id": "3DBLe6IwG4Ew"
      },
      "source": [
        "ให้นักศึกษาทำข้อสอบใน Colab Notebook นี้โดยกรอกข้อมูลของตัวเองใน cell ที่ 2 แล้วรัน cell ที่ 1 - 5 และเริ่มทำข้อสอบใน cell ที่ 6 เป็นต้นไป\n",
        "\n",
        "โดยโจทย์คือ\n",
        "\n",
        "    ข้อมูลโจทย์ อยู่ใน ตัวแปร Data\n",
        "    \n",
        "    ทำ clustering แล้วทำ visualize ข้อมูลแบบ 2 มิติ\n",
        "\n",
        "    ลด Dimension ของข้อมูลเหลือ 2 มิติ แล้วทำ clustering แล้ว visualize ข้อมูลแบบ 2 มิติ\n",
        "\n",
        "    เปรียบเทียบความแตกต่างของผลข้อ 2. กับ ข้อ 3.\n",
        "\n",
        "    เขียน comments อธิบายทุกขั้นตอน\n",
        "\n",
        "    อัด video อธิบาย code ทุกๆขั้นตอนรวมถึงผลแล้วอัพลง youtube ในรูปแบบ unlist\n",
        "\n",
        "    commit โดยใช้ชื่อ commit เป็น link youtube ที่อธิบาย code ในข้อ 6.\n",
        "\n",
        "กำหนดส่งวันที่ 2 พฤษภาคม 2564 (โดยให้มากรอกวันที่ commit ครั้งสุดท้ายใน sheet: https://docs.google.com/spreadsheets/d/1_qJwLDJVtOW1HxBcf_FHVc6UT4J_SOonuR6o3EEnVzw/edit?usp=sharing ช่อง Final)"
      ]
    },
    {
      "cell_type": "code",
      "metadata": {
        "id": "8Z0dd4MUxq7D"
      },
      "source": [
        "from sklearn.datasets import make_blobs\n",
        "import random,math\n",
        "import numpy as np\n",
        "import pandas as pd\n"
      ],
      "execution_count": 22,
      "outputs": []
    },
    {
      "cell_type": "code",
      "metadata": {
        "id": "nTca_h2LyCKl"
      },
      "source": [
        "Name = 'ธนิก พิมภิบาล'\n",
        "ID = '6230210491'"
      ],
      "execution_count": 6,
      "outputs": []
    },
    {
      "cell_type": "code",
      "metadata": {
        "id": "Oo-0YBcyyCI3"
      },
      "source": [
        "def DataGenerator(name,id):\n",
        "    random.seed(int(id[3:6]))\n",
        "    numfeat = random.randint(20,30)\n",
        "    ct = random.randint(len(name)-6,len(name))\n",
        "    \n",
        "    X, y = make_blobs(n_samples=10000, centers=ct, n_features=numfeat , random_state=int(id[3:6]))\n",
        "\n",
        "    print(f'{id[3:6]}:{numfeat}:{ct}')\n",
        "    X_t = (X[:,1]*2)+int(id[3])\n",
        "    X_t2 = (X[:,-1]*5)+int(id[4])\n",
        "\n",
        "    DT = np.append(X,X_t.reshape([10000,1]),axis=1)\n",
        "    DT = np.append(DT,X_t2.reshape([10000,1]),axis=1)\n",
        "    \n",
        "    return pandas.DataFrame(DT)"
      ],
      "execution_count": 7,
      "outputs": []
    },
    {
      "cell_type": "code",
      "metadata": {
        "colab": {
          "base_uri": "https://localhost:8080/"
        },
        "id": "ryjotdnkyCGt",
        "outputId": "991d2fb7-ed89-46f3-b7ef-6b73380206db"
      },
      "source": [
        "Data = DataGenerator(Name,ID)"
      ],
      "execution_count": 8,
      "outputs": [
        {
          "output_type": "stream",
          "text": [
            "021:22:10\n"
          ],
          "name": "stdout"
        }
      ]
    },
    {
      "cell_type": "code",
      "metadata": {
        "colab": {
          "base_uri": "https://localhost:8080/",
          "height": 439
        },
        "id": "wbRpAJFOyCEN",
        "outputId": "4a13fd9d-e73a-414f-92fb-5dc934e9f3bb"
      },
      "source": [
        "Data"
      ],
      "execution_count": 9,
      "outputs": [
        {
          "output_type": "execute_result",
          "data": {
            "text/html": [
              "<div>\n",
              "<style scoped>\n",
              "    .dataframe tbody tr th:only-of-type {\n",
              "        vertical-align: middle;\n",
              "    }\n",
              "\n",
              "    .dataframe tbody tr th {\n",
              "        vertical-align: top;\n",
              "    }\n",
              "\n",
              "    .dataframe thead th {\n",
              "        text-align: right;\n",
              "    }\n",
              "</style>\n",
              "<table border=\"1\" class=\"dataframe\">\n",
              "  <thead>\n",
              "    <tr style=\"text-align: right;\">\n",
              "      <th></th>\n",
              "      <th>0</th>\n",
              "      <th>1</th>\n",
              "      <th>2</th>\n",
              "      <th>3</th>\n",
              "      <th>4</th>\n",
              "      <th>5</th>\n",
              "      <th>6</th>\n",
              "      <th>7</th>\n",
              "      <th>8</th>\n",
              "      <th>9</th>\n",
              "      <th>10</th>\n",
              "      <th>11</th>\n",
              "      <th>12</th>\n",
              "      <th>13</th>\n",
              "      <th>14</th>\n",
              "      <th>15</th>\n",
              "      <th>16</th>\n",
              "      <th>17</th>\n",
              "      <th>18</th>\n",
              "      <th>19</th>\n",
              "      <th>20</th>\n",
              "      <th>21</th>\n",
              "      <th>22</th>\n",
              "      <th>23</th>\n",
              "    </tr>\n",
              "  </thead>\n",
              "  <tbody>\n",
              "    <tr>\n",
              "      <th>0</th>\n",
              "      <td>-4.537722</td>\n",
              "      <td>7.266307</td>\n",
              "      <td>8.277647</td>\n",
              "      <td>5.333037</td>\n",
              "      <td>0.135326</td>\n",
              "      <td>-6.602959</td>\n",
              "      <td>-2.569090</td>\n",
              "      <td>-2.460662</td>\n",
              "      <td>-3.458128</td>\n",
              "      <td>-0.661241</td>\n",
              "      <td>-0.192912</td>\n",
              "      <td>-6.031362</td>\n",
              "      <td>6.553900</td>\n",
              "      <td>4.776343</td>\n",
              "      <td>8.187041</td>\n",
              "      <td>-5.893913</td>\n",
              "      <td>2.695727</td>\n",
              "      <td>2.758724</td>\n",
              "      <td>-1.832187</td>\n",
              "      <td>-1.666498</td>\n",
              "      <td>5.323251</td>\n",
              "      <td>2.600428</td>\n",
              "      <td>14.532614</td>\n",
              "      <td>15.002138</td>\n",
              "    </tr>\n",
              "    <tr>\n",
              "      <th>1</th>\n",
              "      <td>9.048972</td>\n",
              "      <td>7.134933</td>\n",
              "      <td>1.759783</td>\n",
              "      <td>0.034717</td>\n",
              "      <td>8.250986</td>\n",
              "      <td>4.457631</td>\n",
              "      <td>-10.790035</td>\n",
              "      <td>3.649009</td>\n",
              "      <td>1.107221</td>\n",
              "      <td>0.736632</td>\n",
              "      <td>-0.457452</td>\n",
              "      <td>-1.781641</td>\n",
              "      <td>-5.243909</td>\n",
              "      <td>4.985990</td>\n",
              "      <td>5.103544</td>\n",
              "      <td>-6.044533</td>\n",
              "      <td>3.525429</td>\n",
              "      <td>3.263021</td>\n",
              "      <td>4.403556</td>\n",
              "      <td>-5.042170</td>\n",
              "      <td>-3.281565</td>\n",
              "      <td>-3.469476</td>\n",
              "      <td>14.269866</td>\n",
              "      <td>-15.347382</td>\n",
              "    </tr>\n",
              "    <tr>\n",
              "      <th>2</th>\n",
              "      <td>8.207557</td>\n",
              "      <td>9.221489</td>\n",
              "      <td>3.142432</td>\n",
              "      <td>-7.800994</td>\n",
              "      <td>-8.903069</td>\n",
              "      <td>-0.824537</td>\n",
              "      <td>-7.178304</td>\n",
              "      <td>-0.790042</td>\n",
              "      <td>-3.269673</td>\n",
              "      <td>-7.488747</td>\n",
              "      <td>-4.782331</td>\n",
              "      <td>-2.577739</td>\n",
              "      <td>3.474321</td>\n",
              "      <td>-4.071277</td>\n",
              "      <td>1.164568</td>\n",
              "      <td>-3.592699</td>\n",
              "      <td>-6.067020</td>\n",
              "      <td>-7.266478</td>\n",
              "      <td>-3.949880</td>\n",
              "      <td>-5.223433</td>\n",
              "      <td>-8.792920</td>\n",
              "      <td>5.637138</td>\n",
              "      <td>18.442977</td>\n",
              "      <td>30.185691</td>\n",
              "    </tr>\n",
              "    <tr>\n",
              "      <th>3</th>\n",
              "      <td>11.682951</td>\n",
              "      <td>6.281466</td>\n",
              "      <td>5.393395</td>\n",
              "      <td>-0.674409</td>\n",
              "      <td>8.594136</td>\n",
              "      <td>4.347096</td>\n",
              "      <td>-11.235947</td>\n",
              "      <td>3.894471</td>\n",
              "      <td>2.658678</td>\n",
              "      <td>0.185085</td>\n",
              "      <td>-2.813303</td>\n",
              "      <td>-1.443848</td>\n",
              "      <td>-3.635104</td>\n",
              "      <td>4.315976</td>\n",
              "      <td>3.645405</td>\n",
              "      <td>-6.312063</td>\n",
              "      <td>1.472157</td>\n",
              "      <td>4.238021</td>\n",
              "      <td>2.035570</td>\n",
              "      <td>-3.538829</td>\n",
              "      <td>-5.423032</td>\n",
              "      <td>-2.393155</td>\n",
              "      <td>12.562931</td>\n",
              "      <td>-9.965776</td>\n",
              "    </tr>\n",
              "    <tr>\n",
              "      <th>4</th>\n",
              "      <td>9.061801</td>\n",
              "      <td>0.086986</td>\n",
              "      <td>7.456516</td>\n",
              "      <td>7.835959</td>\n",
              "      <td>5.053796</td>\n",
              "      <td>9.440070</td>\n",
              "      <td>3.006729</td>\n",
              "      <td>-1.963116</td>\n",
              "      <td>-3.156712</td>\n",
              "      <td>7.647956</td>\n",
              "      <td>-7.566631</td>\n",
              "      <td>-1.521601</td>\n",
              "      <td>-4.194532</td>\n",
              "      <td>1.812146</td>\n",
              "      <td>7.602348</td>\n",
              "      <td>-3.924658</td>\n",
              "      <td>4.949151</td>\n",
              "      <td>5.064022</td>\n",
              "      <td>3.089132</td>\n",
              "      <td>-3.514878</td>\n",
              "      <td>5.411684</td>\n",
              "      <td>0.266841</td>\n",
              "      <td>0.173971</td>\n",
              "      <td>3.334206</td>\n",
              "    </tr>\n",
              "    <tr>\n",
              "      <th>...</th>\n",
              "      <td>...</td>\n",
              "      <td>...</td>\n",
              "      <td>...</td>\n",
              "      <td>...</td>\n",
              "      <td>...</td>\n",
              "      <td>...</td>\n",
              "      <td>...</td>\n",
              "      <td>...</td>\n",
              "      <td>...</td>\n",
              "      <td>...</td>\n",
              "      <td>...</td>\n",
              "      <td>...</td>\n",
              "      <td>...</td>\n",
              "      <td>...</td>\n",
              "      <td>...</td>\n",
              "      <td>...</td>\n",
              "      <td>...</td>\n",
              "      <td>...</td>\n",
              "      <td>...</td>\n",
              "      <td>...</td>\n",
              "      <td>...</td>\n",
              "      <td>...</td>\n",
              "      <td>...</td>\n",
              "      <td>...</td>\n",
              "    </tr>\n",
              "    <tr>\n",
              "      <th>9995</th>\n",
              "      <td>4.311523</td>\n",
              "      <td>-0.904654</td>\n",
              "      <td>9.165297</td>\n",
              "      <td>3.628016</td>\n",
              "      <td>-5.782000</td>\n",
              "      <td>-6.570243</td>\n",
              "      <td>7.230237</td>\n",
              "      <td>-1.185786</td>\n",
              "      <td>-1.942155</td>\n",
              "      <td>-7.232912</td>\n",
              "      <td>3.418986</td>\n",
              "      <td>7.572747</td>\n",
              "      <td>9.577475</td>\n",
              "      <td>-7.825424</td>\n",
              "      <td>7.149102</td>\n",
              "      <td>-6.908824</td>\n",
              "      <td>-2.450571</td>\n",
              "      <td>-4.185966</td>\n",
              "      <td>1.261364</td>\n",
              "      <td>1.958801</td>\n",
              "      <td>-0.121484</td>\n",
              "      <td>-1.554191</td>\n",
              "      <td>-1.809307</td>\n",
              "      <td>-5.770954</td>\n",
              "    </tr>\n",
              "    <tr>\n",
              "      <th>9996</th>\n",
              "      <td>7.842338</td>\n",
              "      <td>-0.796573</td>\n",
              "      <td>5.991055</td>\n",
              "      <td>7.505813</td>\n",
              "      <td>6.112663</td>\n",
              "      <td>8.112512</td>\n",
              "      <td>6.000871</td>\n",
              "      <td>0.037768</td>\n",
              "      <td>-5.231936</td>\n",
              "      <td>3.300707</td>\n",
              "      <td>-6.724084</td>\n",
              "      <td>-0.454427</td>\n",
              "      <td>-6.033146</td>\n",
              "      <td>4.417475</td>\n",
              "      <td>9.085679</td>\n",
              "      <td>-4.404652</td>\n",
              "      <td>5.987237</td>\n",
              "      <td>6.445583</td>\n",
              "      <td>0.887181</td>\n",
              "      <td>-6.112017</td>\n",
              "      <td>7.028998</td>\n",
              "      <td>-0.193996</td>\n",
              "      <td>-1.593146</td>\n",
              "      <td>1.030019</td>\n",
              "    </tr>\n",
              "    <tr>\n",
              "      <th>9997</th>\n",
              "      <td>-8.375086</td>\n",
              "      <td>-2.782101</td>\n",
              "      <td>4.931259</td>\n",
              "      <td>-10.261058</td>\n",
              "      <td>-5.846575</td>\n",
              "      <td>-8.975474</td>\n",
              "      <td>-4.501026</td>\n",
              "      <td>4.532442</td>\n",
              "      <td>-4.603057</td>\n",
              "      <td>1.470781</td>\n",
              "      <td>-8.752329</td>\n",
              "      <td>5.189381</td>\n",
              "      <td>-7.331412</td>\n",
              "      <td>-4.640731</td>\n",
              "      <td>0.670324</td>\n",
              "      <td>6.999508</td>\n",
              "      <td>3.641213</td>\n",
              "      <td>8.998121</td>\n",
              "      <td>6.776509</td>\n",
              "      <td>-2.721687</td>\n",
              "      <td>-2.565575</td>\n",
              "      <td>2.873913</td>\n",
              "      <td>-5.564201</td>\n",
              "      <td>16.369564</td>\n",
              "    </tr>\n",
              "    <tr>\n",
              "      <th>9998</th>\n",
              "      <td>0.764459</td>\n",
              "      <td>8.652329</td>\n",
              "      <td>-3.127344</td>\n",
              "      <td>7.200398</td>\n",
              "      <td>9.497322</td>\n",
              "      <td>5.160653</td>\n",
              "      <td>-6.298138</td>\n",
              "      <td>8.349976</td>\n",
              "      <td>-0.287924</td>\n",
              "      <td>8.751578</td>\n",
              "      <td>-7.162570</td>\n",
              "      <td>8.265871</td>\n",
              "      <td>5.223376</td>\n",
              "      <td>-6.629349</td>\n",
              "      <td>2.130710</td>\n",
              "      <td>-5.009280</td>\n",
              "      <td>-0.202760</td>\n",
              "      <td>0.205711</td>\n",
              "      <td>-8.487282</td>\n",
              "      <td>6.853373</td>\n",
              "      <td>8.010680</td>\n",
              "      <td>2.831422</td>\n",
              "      <td>17.304658</td>\n",
              "      <td>16.157111</td>\n",
              "    </tr>\n",
              "    <tr>\n",
              "      <th>9999</th>\n",
              "      <td>9.121269</td>\n",
              "      <td>-6.470296</td>\n",
              "      <td>-2.796987</td>\n",
              "      <td>8.701329</td>\n",
              "      <td>-3.418458</td>\n",
              "      <td>3.678187</td>\n",
              "      <td>8.087884</td>\n",
              "      <td>-10.370900</td>\n",
              "      <td>5.936476</td>\n",
              "      <td>-9.284557</td>\n",
              "      <td>0.699480</td>\n",
              "      <td>-0.523294</td>\n",
              "      <td>3.563933</td>\n",
              "      <td>5.025150</td>\n",
              "      <td>-8.875615</td>\n",
              "      <td>-10.282925</td>\n",
              "      <td>2.109518</td>\n",
              "      <td>3.749140</td>\n",
              "      <td>-8.230441</td>\n",
              "      <td>3.044179</td>\n",
              "      <td>-8.408530</td>\n",
              "      <td>-1.629796</td>\n",
              "      <td>-12.940592</td>\n",
              "      <td>-6.148982</td>\n",
              "    </tr>\n",
              "  </tbody>\n",
              "</table>\n",
              "<p>10000 rows × 24 columns</p>\n",
              "</div>"
            ],
            "text/plain": [
              "             0         1         2   ...        21         22         23\n",
              "0     -4.537722  7.266307  8.277647  ...  2.600428  14.532614  15.002138\n",
              "1      9.048972  7.134933  1.759783  ... -3.469476  14.269866 -15.347382\n",
              "2      8.207557  9.221489  3.142432  ...  5.637138  18.442977  30.185691\n",
              "3     11.682951  6.281466  5.393395  ... -2.393155  12.562931  -9.965776\n",
              "4      9.061801  0.086986  7.456516  ...  0.266841   0.173971   3.334206\n",
              "...         ...       ...       ...  ...       ...        ...        ...\n",
              "9995   4.311523 -0.904654  9.165297  ... -1.554191  -1.809307  -5.770954\n",
              "9996   7.842338 -0.796573  5.991055  ... -0.193996  -1.593146   1.030019\n",
              "9997  -8.375086 -2.782101  4.931259  ...  2.873913  -5.564201  16.369564\n",
              "9998   0.764459  8.652329 -3.127344  ...  2.831422  17.304658  16.157111\n",
              "9999   9.121269 -6.470296 -2.796987  ... -1.629796 -12.940592  -6.148982\n",
              "\n",
              "[10000 rows x 24 columns]"
            ]
          },
          "metadata": {
            "tags": []
          },
          "execution_count": 9
        }
      ]
    },
    {
      "cell_type": "code",
      "metadata": {
        "id": "z0gVD6bqyCBe"
      },
      "source": [
        ""
      ],
      "execution_count": 9,
      "outputs": []
    },
    {
      "cell_type": "markdown",
      "metadata": {
        "id": "CEMObVQHJ3Dv"
      },
      "source": [
        "## **เริ่มทำข้อสอบ**"
      ]
    },
    {
      "cell_type": "code",
      "metadata": {
        "id": "PYcN82ZTJ6Fx"
      },
      "source": [
        "from sklearn.cluster import KMeans"
      ],
      "execution_count": 10,
      "outputs": []
    },
    {
      "cell_type": "markdown",
      "metadata": {
        "id": "QyWHkiv5SSrk"
      },
      "source": [
        "define\n"
      ]
    },
    {
      "cell_type": "code",
      "metadata": {
        "id": "CRe79DqoSSMV"
      },
      "source": [
        "kmeans = KMeans() ##, random_state=2021)"
      ],
      "execution_count": 29,
      "outputs": []
    },
    {
      "cell_type": "markdown",
      "metadata": {
        "id": "G0pcHHA0SigR"
      },
      "source": [
        "คำนวณ"
      ]
    },
    {
      "cell_type": "code",
      "metadata": {
        "id": "FzZdmfrISbgh",
        "outputId": "55e3968c-429e-43dc-8013-65f799d30d53",
        "colab": {
          "base_uri": "https://localhost:8080/"
        }
      },
      "source": [
        "kmeans.fit(Data)"
      ],
      "execution_count": 30,
      "outputs": [
        {
          "output_type": "execute_result",
          "data": {
            "text/plain": [
              "KMeans(algorithm='auto', copy_x=True, init='k-means++', max_iter=300,\n",
              "       n_clusters=8, n_init=10, n_jobs=None, precompute_distances='auto',\n",
              "       random_state=None, tol=0.0001, verbose=0)"
            ]
          },
          "metadata": {
            "tags": []
          },
          "execution_count": 30
        }
      ]
    },
    {
      "cell_type": "code",
      "metadata": {
        "id": "RFskauIlShVD",
        "outputId": "6fc1c83c-49fa-4ef5-9d62-06dd5b269c44",
        "colab": {
          "base_uri": "https://localhost:8080/"
        }
      },
      "source": [
        "kmeans.cluster_centers_"
      ],
      "execution_count": 31,
      "outputs": [
        {
          "output_type": "execute_result",
          "data": {
            "text/plain": [
              "array([[  1.41850979,   1.14727112,   2.63952115,   2.97557909,\n",
              "         -4.00746108,  -6.66346428,   7.04345437,  -2.78258433,\n",
              "         -5.14779187,  -9.2367024 ,   0.92277073,  -0.68514721,\n",
              "          5.99061497,  -7.38143763,  -1.41982478,  -7.34795493,\n",
              "          1.83791913,   0.84744708,   4.32321512,   3.10389928,\n",
              "         -2.43973366,   0.286732  ,   2.29454225,   3.43366   ],\n",
              "       [  8.80198473,   3.34648887,   5.18750189,   3.27413701,\n",
              "          7.04659023,   6.22988799,  -3.02861602,   1.27478968,\n",
              "         -1.16380144,   2.97837899,  -4.22130928,  -2.31625961,\n",
              "         -4.84934303,   3.63058511,   6.05369572,  -5.13162679,\n",
              "          5.62190264,   5.81871669,   4.02346672,  -5.25580978,\n",
              "          1.46212348,  -2.52011762,   6.69297773, -10.6005881 ],\n",
              "       [ -4.57154455,   7.08738442,   8.3234325 ,   5.20553626,\n",
              "          0.32660358,  -6.68023987,  -4.03845544,  -4.37812602,\n",
              "         -3.40348696,  -0.80844149,   0.89612416,  -5.69266445,\n",
              "          5.90578852,   4.58776431,   6.98900518,  -4.68770052,\n",
              "          2.28868287,   2.93347883,  -2.21052242,  -1.83500352,\n",
              "          6.19013265,   1.9960025 ,  14.17476884,  11.9800125 ],\n",
              "       [ -0.06412901,  -4.51225673,   6.22253194,  -3.2269512 ,\n",
              "         -6.08859379,  -3.17695728,   3.43639431,  -4.33873044,\n",
              "         -4.73102557,   7.57278776,   0.75839827,   4.86441192,\n",
              "          7.96178553,  -4.47805369,   0.68598681,  -7.36481561,\n",
              "          9.21835902,   6.27049844,   3.05073206,  -5.97899453,\n",
              "          9.45978479,  -9.28651114,  -9.02451347, -44.4325557 ],\n",
              "       [ -9.03978639,  -4.20165798,   4.42205114,  -9.55323901,\n",
              "         -5.85342225,  -9.03537508,  -3.99356016,   3.26780479,\n",
              "         -3.77949227,   1.69194458,  -8.57587559,   7.38462008,\n",
              "         -7.32261966,  -6.39639932,  -0.11639037,   7.3430765 ,\n",
              "          5.20929115,   9.42799854,   5.17112175,  -2.33366536,\n",
              "         -1.85351106,   4.31648731,  -8.40331596,  23.58243653],\n",
              "       [  7.91353391,   8.48540784,   2.39496859,  -7.22897205,\n",
              "         -7.23906295,  -2.6581436 ,  -7.7109112 ,   0.25273127,\n",
              "         -4.84444139,  -7.7432413 ,  -6.25724399,  -3.50975948,\n",
              "          3.27315531,  -3.78323975,   0.44644512,  -3.33027584,\n",
              "         -8.23765384,  -8.2015803 ,  -4.92591782,  -5.69417139,\n",
              "         -8.75270938,   5.5450271 ,  16.97081568,  29.72513552],\n",
              "       [ -1.48221658,   8.86478035,  -3.62855078,   5.5026541 ,\n",
              "          9.5259495 ,   4.06764966,  -3.92015583,   9.37320981,\n",
              "         -2.04667786,   9.02636059,  -7.39548861,   8.7714583 ,\n",
              "          5.13952899,  -9.07093311,   3.27419116,  -5.5308487 ,\n",
              "          0.33936437,   0.24888175,  -7.83348846,   6.27106999,\n",
              "          9.23622818,   1.7169017 ,  17.72956071,  10.58450852],\n",
              "       [  8.59797036,  -5.02550872,  -5.92928134,   6.32879498,\n",
              "         -3.91784839,   3.5528448 ,   8.47547941,  -8.61236091,\n",
              "          5.61401293,  -9.31349605,   0.17888189,  -1.24653385,\n",
              "          3.82141373,   5.57711842,  -9.08842409,  -8.5670001 ,\n",
              "          2.0995067 ,   4.27367797,  -6.97536301,   2.26370578,\n",
              "         -7.0325493 ,  -0.7841479 , -10.05101744,  -1.9207395 ]])"
            ]
          },
          "metadata": {
            "tags": []
          },
          "execution_count": 31
        }
      ]
    },
    {
      "cell_type": "code",
      "metadata": {
        "id": "JplSrBfqSqN_",
        "outputId": "461da874-9f72-4edf-dd4c-c9285933f351",
        "colab": {
          "base_uri": "https://localhost:8080/"
        }
      },
      "source": [
        "y = kmeans.predict(Data)\n",
        "y"
      ],
      "execution_count": 32,
      "outputs": [
        {
          "output_type": "execute_result",
          "data": {
            "text/plain": [
              "array([2, 1, 5, ..., 4, 6, 7], dtype=int32)"
            ]
          },
          "metadata": {
            "tags": []
          },
          "execution_count": 32
        }
      ]
    },
    {
      "cell_type": "code",
      "metadata": {
        "id": "Z_dLr3MlLNWy"
      },
      "source": [
        "from sklearn.decomposition import PCA\n",
        "\n",
        "pca = PCA(n_components=2)\n",
        "\n",
        "new_pca = pca.fit_transform(Data)"
      ],
      "execution_count": 25,
      "outputs": []
    },
    {
      "cell_type": "code",
      "metadata": {
        "id": "oF3dZWXbLOq4"
      },
      "source": [
        "from matplotlib import pyplot as plt"
      ],
      "execution_count": 16,
      "outputs": []
    },
    {
      "cell_type": "code",
      "metadata": {
        "id": "tpKdEI4cOYpD",
        "outputId": "da7dc726-e9c2-4b8c-e0b0-0251d9ba9f4d",
        "colab": {
          "base_uri": "https://localhost:8080/",
          "height": 285
        }
      },
      "source": [
        "plt.plot(new_pca[:5000,0],new_pca[:5000,1],'or')\n",
        "plt.plot(new_pca[5000:,0],new_pca[5000:,1],'og')\n"
      ],
      "execution_count": 54,
      "outputs": [
        {
          "output_type": "execute_result",
          "data": {
            "text/plain": [
              "[<matplotlib.lines.Line2D at 0x7f6e73c2d290>]"
            ]
          },
          "metadata": {
            "tags": []
          },
          "execution_count": 54
        },
        {
          "output_type": "display_data",
          "data": {
            "image/png": "[encoded data removed]",
            "text/plain": [
              "<Figure size 432x288 with 1 Axes>"
            ]
          },
          "metadata": {
            "tags": [],
            "needs_background": "light"
          }
        }
      ]
    },
    {
      "cell_type": "code",
      "metadata": {
        "id": "98ik0NiTTB2-",
        "outputId": "c6f1187d-d7da-41ef-d51b-5357db35023d",
        "colab": {
          "base_uri": "https://localhost:8080/",
          "height": 285
        }
      },
      "source": [
        "kmeans = KMeans(n_clusters=7)\n",
        "kmeans.fit(Data)\n",
        "y = kmeans.predict(Data)\n",
        "plt.scatter(new_pca[:,0],new_pca[:,1],c=y)"
      ],
      "execution_count": 69,
      "outputs": [
        {
          "output_type": "execute_result",
          "data": {
            "text/plain": [
              "<matplotlib.collections.PathCollection at 0x7f6e73a6a090>"
            ]
          },
          "metadata": {
            "tags": []
          },
          "execution_count": 69
        },
        {
          "output_type": "display_data",
          "data": {
            "image/png": "[encoded data removed]",
            "text/plain": [
              "<Figure size 432x288 with 1 Axes>"
            ]
          },
          "metadata": {
            "tags": [],
            "needs_background": "light"
          }
        }
      ]
    },
    {
      "cell_type": "code",
      "metadata": {
        "id": "oMLgCpRqTppK",
        "outputId": "0020e1b7-0163-410f-a37c-a559b0ffbe38",
        "colab": {
          "base_uri": "https://localhost:8080/"
        }
      },
      "source": [
        "kmeans.cluster_centers_"
      ],
      "execution_count": 43,
      "outputs": [
        {
          "output_type": "execute_result",
          "data": {
            "text/plain": [
              "array([[  5.76905927,   0.8236789 ,   1.95517117,   3.77602645,\n",
              "          0.46413739,   0.54052452,   3.24582535,  -2.33496799,\n",
              "         -1.40022825,  -4.32792936,  -1.28477   ,  -1.49630278,\n",
              "          1.2133581 ,  -0.32689412,   0.05167418,  -6.69402128,\n",
              "          3.42027172,   3.54392899,   1.91984935,  -0.42283177,\n",
              "         -1.76482829,  -1.06525338,   1.6473578 ,  -3.32626691],\n",
              "       [ -1.7447092 ,   5.01883406,   2.86497514,  -1.53015489,\n",
              "         -0.84972382,  -3.57972975,  -4.84474068,   2.13950878,\n",
              "         -3.52000278,   0.49282639,  -5.33069583,   1.79563223,\n",
              "          1.75811889,  -3.73737835,   2.62790543,  -1.56673324,\n",
              "         -0.11974595,   1.07440223,  -2.41892857,  -0.87931754,\n",
              "          1.16339599,   3.41132245,  10.03766811,  19.05661226],\n",
              "       [ -0.06412901,  -4.51225673,   6.22253194,  -3.2269512 ,\n",
              "         -6.08859379,  -3.17695728,   3.43639431,  -4.33873044,\n",
              "         -4.73102557,   7.57278776,   0.75839827,   4.86441192,\n",
              "          7.96178553,  -4.47805369,   0.68598681,  -7.36481561,\n",
              "          9.21835902,   6.27049844,   3.05073206,  -5.97899453,\n",
              "          9.45978479,  -9.28651114,  -9.02451347, -44.4325557 ]])"
            ]
          },
          "metadata": {
            "tags": []
          },
          "execution_count": 43
        }
      ]
    },
    {
      "cell_type": "code",
      "metadata": {
        "id": "XF9HAJXLT_Am",
        "outputId": "ee479be8-bfac-4de6-fa42-5e00ce05fc62",
        "colab": {
          "base_uri": "https://localhost:8080/",
          "height": 285
        }
      },
      "source": [
        "kmeans = KMeans(n_clusters=7)\n",
        "kmeans.fit(Data)\n",
        "y = kmeans.predict(Data)\n",
        "\n",
        "plt.scatter(new_pca[:,0],new_pca[:,1],c=y)"
      ],
      "execution_count": 63,
      "outputs": [
        {
          "output_type": "execute_result",
          "data": {
            "text/plain": [
              "<matplotlib.collections.PathCollection at 0x7f6e73b5dc90>"
            ]
          },
          "metadata": {
            "tags": []
          },
          "execution_count": 63
        },
        {
          "output_type": "display_data",
          "data": {
            "image/png": "[encoded data removed]",
            "text/plain": [
              "<Figure size 432x288 with 1 Axes>"
            ]
          },
          "metadata": {
            "tags": [],
            "needs_background": "light"
          }
        }
      ]
    },
    {
      "cell_type": "code",
      "metadata": {
        "id": "lTbC1AeHbIa3",
        "outputId": "6f911235-2fe0-4ede-ae26-595e2d42bc5c",
        "colab": {
          "base_uri": "https://localhost:8080/"
        }
      },
      "source": [
        "kmeans.cluster_centers_"
      ],
      "execution_count": 64,
      "outputs": [
        {
          "output_type": "execute_result",
          "data": {
            "text/plain": [
              "array([[  7.91353391,   8.48540784,   2.39496859,  -7.22897205,\n",
              "         -7.23906295,  -2.6581436 ,  -7.7109112 ,   0.25273127,\n",
              "         -4.84444139,  -7.7432413 ,  -6.25724399,  -3.50975948,\n",
              "          3.27315531,  -3.78323975,   0.44644512,  -3.33027584,\n",
              "         -8.23765384,  -8.2015803 ,  -4.92591782,  -5.69417139,\n",
              "         -8.75270938,   5.5450271 ,  16.97081568,  29.72513552],\n",
              "       [  8.80198473,   3.34648887,   5.18750189,   3.27413701,\n",
              "          7.04659023,   6.22988799,  -3.02861602,   1.27478968,\n",
              "         -1.16380144,   2.97837899,  -4.22130928,  -2.31625961,\n",
              "         -4.84934303,   3.63058511,   6.05369572,  -5.13162679,\n",
              "          5.62190264,   5.81871669,   4.02346672,  -5.25580978,\n",
              "          1.46212348,  -2.52011762,   6.69297773, -10.6005881 ],\n",
              "       [ -0.57817499,   3.12730889,   4.53415827,   3.71889815,\n",
              "         -2.56277286,  -6.66905614,   3.34948443,  -3.31443156,\n",
              "         -4.5663569 ,  -6.4272821 ,   0.91388854,  -2.35431962,\n",
              "          5.96233949,  -3.39170365,   1.38311854,  -6.46120346,\n",
              "          1.98817371,   1.54279099,   2.14530261,   1.45759835,\n",
              "          0.43688845,   0.85648883,   6.25461778,   6.28244417],\n",
              "       [ -0.06412901,  -4.51225673,   6.22253194,  -3.2269512 ,\n",
              "         -6.08859379,  -3.17695728,   3.43639431,  -4.33873044,\n",
              "         -4.73102557,   7.57278776,   0.75839827,   4.86441192,\n",
              "          7.96178553,  -4.47805369,   0.68598681,  -7.36481561,\n",
              "          9.21835902,   6.27049844,   3.05073206,  -5.97899453,\n",
              "          9.45978479,  -9.28651114,  -9.02451347, -44.4325557 ],\n",
              "       [ -1.48221658,   8.86478035,  -3.62855078,   5.5026541 ,\n",
              "          9.5259495 ,   4.06764966,  -3.92015583,   9.37320981,\n",
              "         -2.04667786,   9.02636059,  -7.39548861,   8.7714583 ,\n",
              "          5.13952899,  -9.07093311,   3.27419116,  -5.5308487 ,\n",
              "          0.33936437,   0.24888175,  -7.83348846,   6.27106999,\n",
              "          9.23622818,   1.7169017 ,  17.72956071,  10.58450852],\n",
              "       [ -9.03978639,  -4.20165798,   4.42205114,  -9.55323901,\n",
              "         -5.85342225,  -9.03537508,  -3.99356016,   3.26780479,\n",
              "         -3.77949227,   1.69194458,  -8.57587559,   7.38462008,\n",
              "         -7.32261966,  -6.39639932,  -0.11639037,   7.3430765 ,\n",
              "          5.20929115,   9.42799854,   5.17112175,  -2.33366536,\n",
              "         -1.85351106,   4.31648731,  -8.40331596,  23.58243653],\n",
              "       [  8.59797036,  -5.02550872,  -5.92928134,   6.32879498,\n",
              "         -3.91784839,   3.5528448 ,   8.47547941,  -8.61236091,\n",
              "          5.61401293,  -9.31349605,   0.17888189,  -1.24653385,\n",
              "          3.82141373,   5.57711842,  -9.08842409,  -8.5670001 ,\n",
              "          2.0995067 ,   4.27367797,  -6.97536301,   2.26370578,\n",
              "         -7.0325493 ,  -0.7841479 , -10.05101744,  -1.9207395 ]])"
            ]
          },
          "metadata": {
            "tags": []
          },
          "execution_count": 64
        }
      ]
    },
    {
      "cell_type": "code",
      "metadata": {
        "id": "0cLOMeMNbS7t",
        "outputId": "481c00c4-7695-4fe3-813c-d2589fab66ef",
        "colab": {
          "base_uri": "https://localhost:8080/"
        }
      },
      "source": [
        "kmeans.inertia_"
      ],
      "execution_count": 65,
      "outputs": [
        {
          "output_type": "execute_result",
          "data": {
            "text/plain": [
              "2210026.7534305393"
            ]
          },
          "metadata": {
            "tags": []
          },
          "execution_count": 65
        }
      ]
    },
    {
      "cell_type": "code",
      "metadata": {
        "id": "GFLgeKPKbX2l"
      },
      "source": [
        "SSE = list()\n",
        "for k in [1,2,3,4,5,6,7,8]:\n",
        "    kmeans = KMeans(n_clusters=k, random_state=2021)\n",
        "    kmeans.fit(Data)\n",
        "    SSE.append(kmeans.inertia_)"
      ],
      "execution_count": 66,
      "outputs": []
    },
    {
      "cell_type": "code",
      "metadata": {
        "id": "1U3FpKi1bcMt",
        "outputId": "0a1a3931-ff8b-49b6-f4b5-44c6318aed2b",
        "colab": {
          "base_uri": "https://localhost:8080/"
        }
      },
      "source": [
        "SSE"
      ],
      "execution_count": 67,
      "outputs": [
        {
          "output_type": "execute_result",
          "data": {
            "text/plain": [
              "[11966550.962678483,\n",
              " 8596940.011299517,\n",
              " 6729889.143185041,\n",
              " 5234830.487597061,\n",
              " 3908724.9400010095,\n",
              " 2885596.483636631,\n",
              " 2210026.7534305393,\n",
              " 1586022.791622691]"
            ]
          },
          "metadata": {
            "tags": []
          },
          "execution_count": 67
        }
      ]
    },
    {
      "cell_type": "code",
      "metadata": {
        "id": "Vp2a8iNSbdf6",
        "outputId": "10e704fe-eadd-488d-cb28-97fc82fb20f0",
        "colab": {
          "base_uri": "https://localhost:8080/",
          "height": 290
        }
      },
      "source": [
        "plt.plot([1,2,3,4,5,6,7,8],SSE,'o-b')\n",
        "\n",
        "plt.xlabel('k')\n",
        "plt.ylabel('SSE');"
      ],
      "execution_count": 68,
      "outputs": [
        {
          "output_type": "display_data",
          "data": {
            "image/png": "[encoded data removed]",
            "text/plain": [
              "<Figure size 432x288 with 1 Axes>"
            ]
          },
          "metadata": {
            "tags": [],
            "needs_background": "light"
          }
        }
      ]
    },
    {
      "cell_type": "code",
      "metadata": {
        "id": "zhyn2ZjTblmM"
      },
      "source": [
        ""
      ],
      "execution_count": null,
      "outputs": []
    }
  ]
}