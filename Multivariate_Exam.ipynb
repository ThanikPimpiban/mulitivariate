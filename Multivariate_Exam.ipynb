{
  "nbformat": 4,
  "nbformat_minor": 0,
  "metadata": {
    "colab": {
      "name": "Multivariate Exam.ipynb",
      "provenance": [],
      "authorship_tag": "ABX9TyOksVB6ChA8tPIqA6rIDHZp",
      "include_colab_link": true
    },
    "kernelspec": {
      "name": "python3",
      "display_name": "Python 3"
    },
    "language_info": {
      "name": "python"
    }
  },
  "cells": [
    {
      "cell_type": "markdown",
      "metadata": {
        "id": "view-in-github",
        "colab_type": "text"
      },
      "source": [
        "<a href=\"https://colab.research.google.com/github/ThanikPimpiban/mulitivariate/blob/main/Multivariate_Exam.ipynb\" target=\"_parent\"><img src=\"https://colab.research.google.com/assets/colab-badge.svg\" alt=\"Open In Colab\"/></a>"
      ]
    },
    {
      "cell_type": "markdown",
      "metadata": {
        "id": "3DBLe6IwG4Ew"
      },
      "source": [
        "ให้นักศึกษาทำข้อสอบใน Colab Notebook นี้โดยกรอกข้อมูลของตัวเองใน cell ที่ 2 แล้วรัน cell ที่ 1 - 5 และเริ่มทำข้อสอบใน cell ที่ 6 เป็นต้นไป\n",
        "\n",
        "โดยโจทย์คือ\n",
        "\n",
        "    ข้อมูลโจทย์ อยู่ใน ตัวแปร Data\n",
        "    \n",
        "    ทำ clustering แล้วทำ visualize ข้อมูลแบบ 2 มิติ\n",
        "\n",
        "    ลด Dimension ของข้อมูลเหลือ 2 มิติ แล้วทำ clustering แล้ว visualize ข้อมูลแบบ 2 มิติ\n",
        "\n",
        "    เปรียบเทียบความแตกต่างของผลข้อ 2. กับ ข้อ 3.\n",
        "\n",
        "    เขียน comments อธิบายทุกขั้นตอน\n",
        "\n",
        "    อัด video อธิบาย code ทุกๆขั้นตอนรวมถึงผลแล้วอัพลง youtube ในรูปแบบ unlist\n",
        "\n",
        "    commit โดยใช้ชื่อ commit เป็น link youtube ที่อธิบาย code ในข้อ 6.\n",
        "\n",
        "กำหนดส่งวันที่ 2 พฤษภาคม 2564 (โดยให้มากรอกวันที่ commit ครั้งสุดท้ายใน sheet: https://docs.google.com/spreadsheets/d/1_qJwLDJVtOW1HxBcf_FHVc6UT4J_SOonuR6o3EEnVzw/edit?usp=sharing ช่อง Final)"
      ]
    },
    {
      "cell_type": "code",
      "metadata": {
        "id": "8Z0dd4MUxq7D"
      },
      "source": [
        "from sklearn.datasets import make_blobs\n",
        "import random,math\n",
        "import numpy as np\n",
        "import pandas \n"
      ],
      "execution_count": 1,
      "outputs": []
    },
    {
      "cell_type": "code",
      "metadata": {
        "id": "nTca_h2LyCKl"
      },
      "source": [
        "Name = 'ธนิก พิมภิบาล'\n",
        "ID = '6230210491'"
      ],
      "execution_count": 2,
      "outputs": []
    },
    {
      "cell_type": "code",
      "metadata": {
        "id": "Oo-0YBcyyCI3"
      },
      "source": [
        "def DataGenerator(name,id):\n",
        "    random.seed(int(id[3:6]))\n",
        "    numfeat = random.randint(20,30)\n",
        "    ct = random.randint(len(name)-6,len(name))\n",
        "    \n",
        "    X, y = make_blobs(n_samples=10000, centers=ct, n_features=numfeat , random_state=int(id[3:6]))\n",
        "\n",
        "    print(f'{id[3:6]}:{numfeat}:{ct}')\n",
        "    X_t = (X[:,1]*2)+int(id[3])\n",
        "    X_t2 = (X[:,-1]*5)+int(id[4])\n",
        "\n",
        "    DT = np.append(X,X_t.reshape([10000,1]),axis=1)\n",
        "    DT = np.append(DT,X_t2.reshape([10000,1]),axis=1)\n",
        "    \n",
        "    return pandas.DataFrame(DT)"
      ],
      "execution_count": 3,
      "outputs": []
    },
    {
      "cell_type": "code",
      "metadata": {
        "colab": {
          "base_uri": "https://localhost:8080/"
        },
        "id": "ryjotdnkyCGt",
        "outputId": "81bfcd20-6116-410a-b20b-8aad449bc7d9"
      },
      "source": [
        "Data = DataGenerator(Name,ID)"
      ],
      "execution_count": 4,
      "outputs": [
        {
          "output_type": "stream",
          "text": [
            "021:22:10\n"
          ],
          "name": "stdout"
        }
      ]
    },
    {
      "cell_type": "code",
      "metadata": {
        "colab": {
          "base_uri": "https://localhost:8080/",
          "height": 439
        },
        "id": "wbRpAJFOyCEN",
        "outputId": "808aa2ce-e6c0-426b-a9b5-ac2d15330960"
      },
      "source": [
        "Data"
      ],
      "execution_count": 5,
      "outputs": [
        {
          "output_type": "execute_result",
          "data": {
            "text/html": [
              "<div>\n",
              "<style scoped>\n",
              "    .dataframe tbody tr th:only-of-type {\n",
              "        vertical-align: middle;\n",
              "    }\n",
              "\n",
              "    .dataframe tbody tr th {\n",
              "        vertical-align: top;\n",
              "    }\n",
              "\n",
              "    .dataframe thead th {\n",
              "        text-align: right;\n",
              "    }\n",
              "</style>\n",
              "<table border=\"1\" class=\"dataframe\">\n",
              "  <thead>\n",
              "    <tr style=\"text-align: right;\">\n",
              "      <th></th>\n",
              "      <th>0</th>\n",
              "      <th>1</th>\n",
              "      <th>2</th>\n",
              "      <th>3</th>\n",
              "      <th>4</th>\n",
              "      <th>5</th>\n",
              "      <th>6</th>\n",
              "      <th>7</th>\n",
              "      <th>8</th>\n",
              "      <th>9</th>\n",
              "      <th>10</th>\n",
              "      <th>11</th>\n",
              "      <th>12</th>\n",
              "      <th>13</th>\n",
              "      <th>14</th>\n",
              "      <th>15</th>\n",
              "      <th>16</th>\n",
              "      <th>17</th>\n",
              "      <th>18</th>\n",
              "      <th>19</th>\n",
              "      <th>20</th>\n",
              "      <th>21</th>\n",
              "      <th>22</th>\n",
              "      <th>23</th>\n",
              "    </tr>\n",
              "  </thead>\n",
              "  <tbody>\n",
              "    <tr>\n",
              "      <th>0</th>\n",
              "      <td>-4.537722</td>\n",
              "      <td>7.266307</td>\n",
              "      <td>8.277647</td>\n",
              "      <td>5.333037</td>\n",
              "      <td>0.135326</td>\n",
              "      <td>-6.602959</td>\n",
              "      <td>-2.569090</td>\n",
              "      <td>-2.460662</td>\n",
              "      <td>-3.458128</td>\n",
              "      <td>-0.661241</td>\n",
              "      <td>-0.192912</td>\n",
              "      <td>-6.031362</td>\n",
              "      <td>6.553900</td>\n",
              "      <td>4.776343</td>\n",
              "      <td>8.187041</td>\n",
              "      <td>-5.893913</td>\n",
              "      <td>2.695727</td>\n",
              "      <td>2.758724</td>\n",
              "      <td>-1.832187</td>\n",
              "      <td>-1.666498</td>\n",
              "      <td>5.323251</td>\n",
              "      <td>2.600428</td>\n",
              "      <td>14.532614</td>\n",
              "      <td>15.002138</td>\n",
              "    </tr>\n",
              "    <tr>\n",
              "      <th>1</th>\n",
              "      <td>9.048972</td>\n",
              "      <td>7.134933</td>\n",
              "      <td>1.759783</td>\n",
              "      <td>0.034717</td>\n",
              "      <td>8.250986</td>\n",
              "      <td>4.457631</td>\n",
              "      <td>-10.790035</td>\n",
              "      <td>3.649009</td>\n",
              "      <td>1.107221</td>\n",
              "      <td>0.736632</td>\n",
              "      <td>-0.457452</td>\n",
              "      <td>-1.781641</td>\n",
              "      <td>-5.243909</td>\n",
              "      <td>4.985990</td>\n",
              "      <td>5.103544</td>\n",
              "      <td>-6.044533</td>\n",
              "      <td>3.525429</td>\n",
              "      <td>3.263021</td>\n",
              "      <td>4.403556</td>\n",
              "      <td>-5.042170</td>\n",
              "      <td>-3.281565</td>\n",
              "      <td>-3.469476</td>\n",
              "      <td>14.269866</td>\n",
              "      <td>-15.347382</td>\n",
              "    </tr>\n",
              "    <tr>\n",
              "      <th>2</th>\n",
              "      <td>8.207557</td>\n",
              "      <td>9.221489</td>\n",
              "      <td>3.142432</td>\n",
              "      <td>-7.800994</td>\n",
              "      <td>-8.903069</td>\n",
              "      <td>-0.824537</td>\n",
              "      <td>-7.178304</td>\n",
              "      <td>-0.790042</td>\n",
              "      <td>-3.269673</td>\n",
              "      <td>-7.488747</td>\n",
              "      <td>-4.782331</td>\n",
              "      <td>-2.577739</td>\n",
              "      <td>3.474321</td>\n",
              "      <td>-4.071277</td>\n",
              "      <td>1.164568</td>\n",
              "      <td>-3.592699</td>\n",
              "      <td>-6.067020</td>\n",
              "      <td>-7.266478</td>\n",
              "      <td>-3.949880</td>\n",
              "      <td>-5.223433</td>\n",
              "      <td>-8.792920</td>\n",
              "      <td>5.637138</td>\n",
              "      <td>18.442977</td>\n",
              "      <td>30.185691</td>\n",
              "    </tr>\n",
              "    <tr>\n",
              "      <th>3</th>\n",
              "      <td>11.682951</td>\n",
              "      <td>6.281466</td>\n",
              "      <td>5.393395</td>\n",
              "      <td>-0.674409</td>\n",
              "      <td>8.594136</td>\n",
              "      <td>4.347096</td>\n",
              "      <td>-11.235947</td>\n",
              "      <td>3.894471</td>\n",
              "      <td>2.658678</td>\n",
              "      <td>0.185085</td>\n",
              "      <td>-2.813303</td>\n",
              "      <td>-1.443848</td>\n",
              "      <td>-3.635104</td>\n",
              "      <td>4.315976</td>\n",
              "      <td>3.645405</td>\n",
              "      <td>-6.312063</td>\n",
              "      <td>1.472157</td>\n",
              "      <td>4.238021</td>\n",
              "      <td>2.035570</td>\n",
              "      <td>-3.538829</td>\n",
              "      <td>-5.423032</td>\n",
              "      <td>-2.393155</td>\n",
              "      <td>12.562931</td>\n",
              "      <td>-9.965776</td>\n",
              "    </tr>\n",
              "    <tr>\n",
              "      <th>4</th>\n",
              "      <td>9.061801</td>\n",
              "      <td>0.086986</td>\n",
              "      <td>7.456516</td>\n",
              "      <td>7.835959</td>\n",
              "      <td>5.053796</td>\n",
              "      <td>9.440070</td>\n",
              "      <td>3.006729</td>\n",
              "      <td>-1.963116</td>\n",
              "      <td>-3.156712</td>\n",
              "      <td>7.647956</td>\n",
              "      <td>-7.566631</td>\n",
              "      <td>-1.521601</td>\n",
              "      <td>-4.194532</td>\n",
              "      <td>1.812146</td>\n",
              "      <td>7.602348</td>\n",
              "      <td>-3.924658</td>\n",
              "      <td>4.949151</td>\n",
              "      <td>5.064022</td>\n",
              "      <td>3.089132</td>\n",
              "      <td>-3.514878</td>\n",
              "      <td>5.411684</td>\n",
              "      <td>0.266841</td>\n",
              "      <td>0.173971</td>\n",
              "      <td>3.334206</td>\n",
              "    </tr>\n",
              "    <tr>\n",
              "      <th>...</th>\n",
              "      <td>...</td>\n",
              "      <td>...</td>\n",
              "      <td>...</td>\n",
              "      <td>...</td>\n",
              "      <td>...</td>\n",
              "      <td>...</td>\n",
              "      <td>...</td>\n",
              "      <td>...</td>\n",
              "      <td>...</td>\n",
              "      <td>...</td>\n",
              "      <td>...</td>\n",
              "      <td>...</td>\n",
              "      <td>...</td>\n",
              "      <td>...</td>\n",
              "      <td>...</td>\n",
              "      <td>...</td>\n",
              "      <td>...</td>\n",
              "      <td>...</td>\n",
              "      <td>...</td>\n",
              "      <td>...</td>\n",
              "      <td>...</td>\n",
              "      <td>...</td>\n",
              "      <td>...</td>\n",
              "      <td>...</td>\n",
              "    </tr>\n",
              "    <tr>\n",
              "      <th>9995</th>\n",
              "      <td>4.311523</td>\n",
              "      <td>-0.904654</td>\n",
              "      <td>9.165297</td>\n",
              "      <td>3.628016</td>\n",
              "      <td>-5.782000</td>\n",
              "      <td>-6.570243</td>\n",
              "      <td>7.230237</td>\n",
              "      <td>-1.185786</td>\n",
              "      <td>-1.942155</td>\n",
              "      <td>-7.232912</td>\n",
              "      <td>3.418986</td>\n",
              "      <td>7.572747</td>\n",
              "      <td>9.577475</td>\n",
              "      <td>-7.825424</td>\n",
              "      <td>7.149102</td>\n",
              "      <td>-6.908824</td>\n",
              "      <td>-2.450571</td>\n",
              "      <td>-4.185966</td>\n",
              "      <td>1.261364</td>\n",
              "      <td>1.958801</td>\n",
              "      <td>-0.121484</td>\n",
              "      <td>-1.554191</td>\n",
              "      <td>-1.809307</td>\n",
              "      <td>-5.770954</td>\n",
              "    </tr>\n",
              "    <tr>\n",
              "      <th>9996</th>\n",
              "      <td>7.842338</td>\n",
              "      <td>-0.796573</td>\n",
              "      <td>5.991055</td>\n",
              "      <td>7.505813</td>\n",
              "      <td>6.112663</td>\n",
              "      <td>8.112512</td>\n",
              "      <td>6.000871</td>\n",
              "      <td>0.037768</td>\n",
              "      <td>-5.231936</td>\n",
              "      <td>3.300707</td>\n",
              "      <td>-6.724084</td>\n",
              "      <td>-0.454427</td>\n",
              "      <td>-6.033146</td>\n",
              "      <td>4.417475</td>\n",
              "      <td>9.085679</td>\n",
              "      <td>-4.404652</td>\n",
              "      <td>5.987237</td>\n",
              "      <td>6.445583</td>\n",
              "      <td>0.887181</td>\n",
              "      <td>-6.112017</td>\n",
              "      <td>7.028998</td>\n",
              "      <td>-0.193996</td>\n",
              "      <td>-1.593146</td>\n",
              "      <td>1.030019</td>\n",
              "    </tr>\n",
              "    <tr>\n",
              "      <th>9997</th>\n",
              "      <td>-8.375086</td>\n",
              "      <td>-2.782101</td>\n",
              "      <td>4.931259</td>\n",
              "      <td>-10.261058</td>\n",
              "      <td>-5.846575</td>\n",
              "      <td>-8.975474</td>\n",
              "      <td>-4.501026</td>\n",
              "      <td>4.532442</td>\n",
              "      <td>-4.603057</td>\n",
              "      <td>1.470781</td>\n",
              "      <td>-8.752329</td>\n",
              "      <td>5.189381</td>\n",
              "      <td>-7.331412</td>\n",
              "      <td>-4.640731</td>\n",
              "      <td>0.670324</td>\n",
              "      <td>6.999508</td>\n",
              "      <td>3.641213</td>\n",
              "      <td>8.998121</td>\n",
              "      <td>6.776509</td>\n",
              "      <td>-2.721687</td>\n",
              "      <td>-2.565575</td>\n",
              "      <td>2.873913</td>\n",
              "      <td>-5.564201</td>\n",
              "      <td>16.369564</td>\n",
              "    </tr>\n",
              "    <tr>\n",
              "      <th>9998</th>\n",
              "      <td>0.764459</td>\n",
              "      <td>8.652329</td>\n",
              "      <td>-3.127344</td>\n",
              "      <td>7.200398</td>\n",
              "      <td>9.497322</td>\n",
              "      <td>5.160653</td>\n",
              "      <td>-6.298138</td>\n",
              "      <td>8.349976</td>\n",
              "      <td>-0.287924</td>\n",
              "      <td>8.751578</td>\n",
              "      <td>-7.162570</td>\n",
              "      <td>8.265871</td>\n",
              "      <td>5.223376</td>\n",
              "      <td>-6.629349</td>\n",
              "      <td>2.130710</td>\n",
              "      <td>-5.009280</td>\n",
              "      <td>-0.202760</td>\n",
              "      <td>0.205711</td>\n",
              "      <td>-8.487282</td>\n",
              "      <td>6.853373</td>\n",
              "      <td>8.010680</td>\n",
              "      <td>2.831422</td>\n",
              "      <td>17.304658</td>\n",
              "      <td>16.157111</td>\n",
              "    </tr>\n",
              "    <tr>\n",
              "      <th>9999</th>\n",
              "      <td>9.121269</td>\n",
              "      <td>-6.470296</td>\n",
              "      <td>-2.796987</td>\n",
              "      <td>8.701329</td>\n",
              "      <td>-3.418458</td>\n",
              "      <td>3.678187</td>\n",
              "      <td>8.087884</td>\n",
              "      <td>-10.370900</td>\n",
              "      <td>5.936476</td>\n",
              "      <td>-9.284557</td>\n",
              "      <td>0.699480</td>\n",
              "      <td>-0.523294</td>\n",
              "      <td>3.563933</td>\n",
              "      <td>5.025150</td>\n",
              "      <td>-8.875615</td>\n",
              "      <td>-10.282925</td>\n",
              "      <td>2.109518</td>\n",
              "      <td>3.749140</td>\n",
              "      <td>-8.230441</td>\n",
              "      <td>3.044179</td>\n",
              "      <td>-8.408530</td>\n",
              "      <td>-1.629796</td>\n",
              "      <td>-12.940592</td>\n",
              "      <td>-6.148982</td>\n",
              "    </tr>\n",
              "  </tbody>\n",
              "</table>\n",
              "<p>10000 rows × 24 columns</p>\n",
              "</div>"
            ],
            "text/plain": [
              "             0         1         2   ...        21         22         23\n",
              "0     -4.537722  7.266307  8.277647  ...  2.600428  14.532614  15.002138\n",
              "1      9.048972  7.134933  1.759783  ... -3.469476  14.269866 -15.347382\n",
              "2      8.207557  9.221489  3.142432  ...  5.637138  18.442977  30.185691\n",
              "3     11.682951  6.281466  5.393395  ... -2.393155  12.562931  -9.965776\n",
              "4      9.061801  0.086986  7.456516  ...  0.266841   0.173971   3.334206\n",
              "...         ...       ...       ...  ...       ...        ...        ...\n",
              "9995   4.311523 -0.904654  9.165297  ... -1.554191  -1.809307  -5.770954\n",
              "9996   7.842338 -0.796573  5.991055  ... -0.193996  -1.593146   1.030019\n",
              "9997  -8.375086 -2.782101  4.931259  ...  2.873913  -5.564201  16.369564\n",
              "9998   0.764459  8.652329 -3.127344  ...  2.831422  17.304658  16.157111\n",
              "9999   9.121269 -6.470296 -2.796987  ... -1.629796 -12.940592  -6.148982\n",
              "\n",
              "[10000 rows x 24 columns]"
            ]
          },
          "metadata": {
            "tags": []
          },
          "execution_count": 5
        }
      ]
    },
    {
      "cell_type": "code",
      "metadata": {
        "id": "z0gVD6bqyCBe"
      },
      "source": [
        ""
      ],
      "execution_count": 5,
      "outputs": []
    },
    {
      "cell_type": "markdown",
      "metadata": {
        "id": "CEMObVQHJ3Dv"
      },
      "source": [
        "## **เริ่มทำข้อสอบ**"
      ]
    },
    {
      "cell_type": "markdown",
      "metadata": {
        "id": "szxZZvVXViMn"
      },
      "source": [
        "## ข้อมูลใน Data"
      ]
    },
    {
      "cell_type": "code",
      "metadata": {
        "id": "u_MvtPW1Vo0j"
      },
      "source": [
        "import numpy as np   # import\n"
      ],
      "execution_count": null,
      "outputs": []
    },
    {
      "cell_type": "code",
      "metadata": {
        "id": "zL7xs9g-Vo2m",
        "outputId": "472864e8-2131-446c-90c2-e4f1b0a2461a",
        "colab": {
          "base_uri": "https://localhost:8080/"
        }
      },
      "source": [
        "Data.shape   ## ขนาดของ Data"
      ],
      "execution_count": 111,
      "outputs": [
        {
          "output_type": "execute_result",
          "data": {
            "text/plain": [
              "(10000, 24)"
            ]
          },
          "metadata": {
            "tags": []
          },
          "execution_count": 111
        }
      ]
    },
    {
      "cell_type": "code",
      "metadata": {
        "id": "ih6GjkUrYdtO",
        "outputId": "82c5cbe3-32ed-4107-e8d9-2c0cd5fe0d49",
        "colab": {
          "base_uri": "https://localhost:8080/"
        }
      },
      "source": [
        "Data.columns   # เรียกดู columns ของ Data"
      ],
      "execution_count": 112,
      "outputs": [
        {
          "output_type": "execute_result",
          "data": {
            "text/plain": [
              "RangeIndex(start=0, stop=24, step=1)"
            ]
          },
          "metadata": {
            "tags": []
          },
          "execution_count": 112
        }
      ]
    },
    {
      "cell_type": "code",
      "metadata": {
        "id": "g878f-ufb8t2",
        "outputId": "9fa1c98f-7d97-490a-84a7-e94f5bbe88b8",
        "colab": {
          "base_uri": "https://localhost:8080/"
        }
      },
      "source": [
        "Data.info()   # เรียกดูข้อมูลของ Data"
      ],
      "execution_count": 113,
      "outputs": [
        {
          "output_type": "stream",
          "text": [
            "<class 'pandas.core.frame.DataFrame'>\n",
            "RangeIndex: 10000 entries, 0 to 9999\n",
            "Data columns (total 24 columns):\n",
            " #   Column  Non-Null Count  Dtype  \n",
            "---  ------  --------------  -----  \n",
            " 0   0       10000 non-null  float64\n",
            " 1   1       10000 non-null  float64\n",
            " 2   2       10000 non-null  float64\n",
            " 3   3       10000 non-null  float64\n",
            " 4   4       10000 non-null  float64\n",
            " 5   5       10000 non-null  float64\n",
            " 6   6       10000 non-null  float64\n",
            " 7   7       10000 non-null  float64\n",
            " 8   8       10000 non-null  float64\n",
            " 9   9       10000 non-null  float64\n",
            " 10  10      10000 non-null  float64\n",
            " 11  11      10000 non-null  float64\n",
            " 12  12      10000 non-null  float64\n",
            " 13  13      10000 non-null  float64\n",
            " 14  14      10000 non-null  float64\n",
            " 15  15      10000 non-null  float64\n",
            " 16  16      10000 non-null  float64\n",
            " 17  17      10000 non-null  float64\n",
            " 18  18      10000 non-null  float64\n",
            " 19  19      10000 non-null  float64\n",
            " 20  20      10000 non-null  float64\n",
            " 21  21      10000 non-null  float64\n",
            " 22  22      10000 non-null  float64\n",
            " 23  23      10000 non-null  float64\n",
            "dtypes: float64(24)\n",
            "memory usage: 1.8 MB\n"
          ],
          "name": "stdout"
        }
      ]
    },
    {
      "cell_type": "code",
      "metadata": {
        "id": "8bIuVkOWZ1Uw",
        "outputId": "980318f0-4cf5-4c28-a097-d1c062756b01",
        "colab": {
          "base_uri": "https://localhost:8080/",
          "height": 813
        }
      },
      "source": [
        "Data.corr()  # เรียกดูความสัมพันธ์ของ Data"
      ],
      "execution_count": 402,
      "outputs": [
        {
          "output_type": "execute_result",
          "data": {
            "text/html": [
              "<div>\n",
              "<style scoped>\n",
              "    .dataframe tbody tr th:only-of-type {\n",
              "        vertical-align: middle;\n",
              "    }\n",
              "\n",
              "    .dataframe tbody tr th {\n",
              "        vertical-align: top;\n",
              "    }\n",
              "\n",
              "    .dataframe thead th {\n",
              "        text-align: right;\n",
              "    }\n",
              "</style>\n",
              "<table border=\"1\" class=\"dataframe\">\n",
              "  <thead>\n",
              "    <tr style=\"text-align: right;\">\n",
              "      <th></th>\n",
              "      <th>0</th>\n",
              "      <th>1</th>\n",
              "      <th>2</th>\n",
              "      <th>3</th>\n",
              "      <th>4</th>\n",
              "      <th>5</th>\n",
              "      <th>6</th>\n",
              "      <th>7</th>\n",
              "      <th>8</th>\n",
              "      <th>9</th>\n",
              "      <th>10</th>\n",
              "      <th>11</th>\n",
              "      <th>12</th>\n",
              "      <th>13</th>\n",
              "      <th>14</th>\n",
              "      <th>15</th>\n",
              "      <th>16</th>\n",
              "      <th>17</th>\n",
              "      <th>18</th>\n",
              "      <th>19</th>\n",
              "      <th>20</th>\n",
              "      <th>21</th>\n",
              "      <th>22</th>\n",
              "      <th>23</th>\n",
              "    </tr>\n",
              "  </thead>\n",
              "  <tbody>\n",
              "    <tr>\n",
              "      <th>0</th>\n",
              "      <td>1.000000</td>\n",
              "      <td>0.085070</td>\n",
              "      <td>-0.123768</td>\n",
              "      <td>0.276106</td>\n",
              "      <td>0.154489</td>\n",
              "      <td>0.665316</td>\n",
              "      <td>0.065969</td>\n",
              "      <td>-0.197921</td>\n",
              "      <td>0.466688</td>\n",
              "      <td>-0.273252</td>\n",
              "      <td>0.157509</td>\n",
              "      <td>-0.291208</td>\n",
              "      <td>-0.032088</td>\n",
              "      <td>0.481035</td>\n",
              "      <td>0.057294</td>\n",
              "      <td>-0.507272</td>\n",
              "      <td>-0.286925</td>\n",
              "      <td>-0.346305</td>\n",
              "      <td>-0.202634</td>\n",
              "      <td>-0.292418</td>\n",
              "      <td>-0.333260</td>\n",
              "      <td>-0.217970</td>\n",
              "      <td>0.085070</td>\n",
              "      <td>-0.217970</td>\n",
              "    </tr>\n",
              "    <tr>\n",
              "      <th>1</th>\n",
              "      <td>0.085070</td>\n",
              "      <td>1.000000</td>\n",
              "      <td>-0.041192</td>\n",
              "      <td>0.082638</td>\n",
              "      <td>0.503470</td>\n",
              "      <td>0.142443</td>\n",
              "      <td>-0.641824</td>\n",
              "      <td>0.507056</td>\n",
              "      <td>-0.174063</td>\n",
              "      <td>0.032859</td>\n",
              "      <td>-0.179840</td>\n",
              "      <td>-0.311310</td>\n",
              "      <td>0.090674</td>\n",
              "      <td>-0.014958</td>\n",
              "      <td>0.288805</td>\n",
              "      <td>-0.159752</td>\n",
              "      <td>-0.452769</td>\n",
              "      <td>-0.523865</td>\n",
              "      <td>-0.284118</td>\n",
              "      <td>0.098861</td>\n",
              "      <td>-0.001726</td>\n",
              "      <td>0.337688</td>\n",
              "      <td>1.000000</td>\n",
              "      <td>0.337688</td>\n",
              "    </tr>\n",
              "    <tr>\n",
              "      <th>2</th>\n",
              "      <td>-0.123768</td>\n",
              "      <td>-0.041192</td>\n",
              "      <td>1.000000</td>\n",
              "      <td>-0.181195</td>\n",
              "      <td>-0.155066</td>\n",
              "      <td>-0.290836</td>\n",
              "      <td>-0.195272</td>\n",
              "      <td>-0.075084</td>\n",
              "      <td>-0.343087</td>\n",
              "      <td>0.225933</td>\n",
              "      <td>0.147477</td>\n",
              "      <td>0.023545</td>\n",
              "      <td>-0.102563</td>\n",
              "      <td>0.134756</td>\n",
              "      <td>0.730300</td>\n",
              "      <td>0.280789</td>\n",
              "      <td>0.101082</td>\n",
              "      <td>0.072319</td>\n",
              "      <td>0.433255</td>\n",
              "      <td>-0.660511</td>\n",
              "      <td>0.373901</td>\n",
              "      <td>-0.128838</td>\n",
              "      <td>-0.041192</td>\n",
              "      <td>-0.128838</td>\n",
              "    </tr>\n",
              "    <tr>\n",
              "      <th>3</th>\n",
              "      <td>0.276106</td>\n",
              "      <td>0.082638</td>\n",
              "      <td>-0.181195</td>\n",
              "      <td>1.000000</td>\n",
              "      <td>0.484015</td>\n",
              "      <td>0.468532</td>\n",
              "      <td>0.464229</td>\n",
              "      <td>-0.224003</td>\n",
              "      <td>0.300698</td>\n",
              "      <td>0.012121</td>\n",
              "      <td>0.316477</td>\n",
              "      <td>-0.178057</td>\n",
              "      <td>0.283542</td>\n",
              "      <td>0.312276</td>\n",
              "      <td>0.127051</td>\n",
              "      <td>-0.581539</td>\n",
              "      <td>0.089406</td>\n",
              "      <td>0.011743</td>\n",
              "      <td>-0.285672</td>\n",
              "      <td>0.430887</td>\n",
              "      <td>0.330507</td>\n",
              "      <td>-0.148783</td>\n",
              "      <td>0.082638</td>\n",
              "      <td>-0.148783</td>\n",
              "    </tr>\n",
              "    <tr>\n",
              "      <th>4</th>\n",
              "      <td>0.154489</td>\n",
              "      <td>0.503470</td>\n",
              "      <td>-0.155066</td>\n",
              "      <td>0.484015</td>\n",
              "      <td>1.000000</td>\n",
              "      <td>0.671271</td>\n",
              "      <td>-0.325979</td>\n",
              "      <td>0.547816</td>\n",
              "      <td>0.181116</td>\n",
              "      <td>0.505789</td>\n",
              "      <td>-0.268493</td>\n",
              "      <td>-0.061072</td>\n",
              "      <td>-0.307293</td>\n",
              "      <td>0.222787</td>\n",
              "      <td>0.313195</td>\n",
              "      <td>-0.183679</td>\n",
              "      <td>0.241553</td>\n",
              "      <td>0.211861</td>\n",
              "      <td>-0.062492</td>\n",
              "      <td>0.172957</td>\n",
              "      <td>0.367567</td>\n",
              "      <td>-0.127662</td>\n",
              "      <td>0.503470</td>\n",
              "      <td>-0.127662</td>\n",
              "    </tr>\n",
              "    <tr>\n",
              "      <th>5</th>\n",
              "      <td>0.665316</td>\n",
              "      <td>0.142443</td>\n",
              "      <td>-0.290836</td>\n",
              "      <td>0.468532</td>\n",
              "      <td>0.671271</td>\n",
              "      <td>1.000000</td>\n",
              "      <td>-0.061694</td>\n",
              "      <td>0.195835</td>\n",
              "      <td>0.492922</td>\n",
              "      <td>0.352235</td>\n",
              "      <td>-0.240784</td>\n",
              "      <td>-0.036312</td>\n",
              "      <td>-0.263237</td>\n",
              "      <td>0.435186</td>\n",
              "      <td>0.151920</td>\n",
              "      <td>-0.331950</td>\n",
              "      <td>0.076949</td>\n",
              "      <td>0.053214</td>\n",
              "      <td>-0.306400</td>\n",
              "      <td>-0.091254</td>\n",
              "      <td>0.148948</td>\n",
              "      <td>-0.268102</td>\n",
              "      <td>0.142443</td>\n",
              "      <td>-0.268102</td>\n",
              "    </tr>\n",
              "    <tr>\n",
              "      <th>6</th>\n",
              "      <td>0.065969</td>\n",
              "      <td>-0.641824</td>\n",
              "      <td>-0.195272</td>\n",
              "      <td>0.464229</td>\n",
              "      <td>-0.325979</td>\n",
              "      <td>-0.061694</td>\n",
              "      <td>1.000000</td>\n",
              "      <td>-0.624877</td>\n",
              "      <td>0.009473</td>\n",
              "      <td>-0.291062</td>\n",
              "      <td>0.416150</td>\n",
              "      <td>0.003935</td>\n",
              "      <td>0.358374</td>\n",
              "      <td>-0.128788</td>\n",
              "      <td>-0.389539</td>\n",
              "      <td>-0.375037</td>\n",
              "      <td>0.251003</td>\n",
              "      <td>0.153307</td>\n",
              "      <td>0.104128</td>\n",
              "      <td>0.383424</td>\n",
              "      <td>0.028802</td>\n",
              "      <td>-0.252280</td>\n",
              "      <td>-0.641824</td>\n",
              "      <td>-0.252280</td>\n",
              "    </tr>\n",
              "    <tr>\n",
              "      <th>7</th>\n",
              "      <td>-0.197921</td>\n",
              "      <td>0.507056</td>\n",
              "      <td>-0.075084</td>\n",
              "      <td>-0.224003</td>\n",
              "      <td>0.547816</td>\n",
              "      <td>0.195835</td>\n",
              "      <td>-0.624877</td>\n",
              "      <td>1.000000</td>\n",
              "      <td>-0.148905</td>\n",
              "      <td>0.501269</td>\n",
              "      <td>-0.648289</td>\n",
              "      <td>0.437497</td>\n",
              "      <td>-0.357483</td>\n",
              "      <td>-0.404556</td>\n",
              "      <td>0.334750</td>\n",
              "      <td>0.375631</td>\n",
              "      <td>-0.119415</td>\n",
              "      <td>-0.063060</td>\n",
              "      <td>-0.037548</td>\n",
              "      <td>0.105597</td>\n",
              "      <td>0.219142</td>\n",
              "      <td>0.259009</td>\n",
              "      <td>0.507056</td>\n",
              "      <td>0.259009</td>\n",
              "    </tr>\n",
              "    <tr>\n",
              "      <th>8</th>\n",
              "      <td>0.466688</td>\n",
              "      <td>-0.174063</td>\n",
              "      <td>-0.343087</td>\n",
              "      <td>0.300698</td>\n",
              "      <td>0.181116</td>\n",
              "      <td>0.492922</td>\n",
              "      <td>0.009473</td>\n",
              "      <td>-0.148905</td>\n",
              "      <td>1.000000</td>\n",
              "      <td>-0.131488</td>\n",
              "      <td>0.192131</td>\n",
              "      <td>0.100354</td>\n",
              "      <td>-0.086500</td>\n",
              "      <td>0.611312</td>\n",
              "      <td>-0.076260</td>\n",
              "      <td>-0.214636</td>\n",
              "      <td>-0.067799</td>\n",
              "      <td>0.108558</td>\n",
              "      <td>-0.436275</td>\n",
              "      <td>0.021519</td>\n",
              "      <td>-0.203380</td>\n",
              "      <td>-0.148769</td>\n",
              "      <td>-0.174063</td>\n",
              "      <td>-0.148769</td>\n",
              "    </tr>\n",
              "    <tr>\n",
              "      <th>9</th>\n",
              "      <td>-0.273252</td>\n",
              "      <td>0.032859</td>\n",
              "      <td>0.225933</td>\n",
              "      <td>0.012121</td>\n",
              "      <td>0.505789</td>\n",
              "      <td>0.352235</td>\n",
              "      <td>-0.291062</td>\n",
              "      <td>0.501269</td>\n",
              "      <td>-0.131488</td>\n",
              "      <td>1.000000</td>\n",
              "      <td>-0.431964</td>\n",
              "      <td>0.456272</td>\n",
              "      <td>-0.231800</td>\n",
              "      <td>-0.081771</td>\n",
              "      <td>0.463577</td>\n",
              "      <td>0.239964</td>\n",
              "      <td>0.455915</td>\n",
              "      <td>0.407254</td>\n",
              "      <td>0.023109</td>\n",
              "      <td>-0.216552</td>\n",
              "      <td>0.807875</td>\n",
              "      <td>-0.319146</td>\n",
              "      <td>0.032859</td>\n",
              "      <td>-0.319146</td>\n",
              "    </tr>\n",
              "    <tr>\n",
              "      <th>10</th>\n",
              "      <td>0.157509</td>\n",
              "      <td>-0.179840</td>\n",
              "      <td>0.147477</td>\n",
              "      <td>0.316477</td>\n",
              "      <td>-0.268493</td>\n",
              "      <td>-0.240784</td>\n",
              "      <td>0.416150</td>\n",
              "      <td>-0.648289</td>\n",
              "      <td>0.192131</td>\n",
              "      <td>-0.431964</td>\n",
              "      <td>1.000000</td>\n",
              "      <td>-0.243528</td>\n",
              "      <td>0.606660</td>\n",
              "      <td>0.265259</td>\n",
              "      <td>-0.094333</td>\n",
              "      <td>-0.636387</td>\n",
              "      <td>0.106593</td>\n",
              "      <td>-0.033625</td>\n",
              "      <td>0.090971</td>\n",
              "      <td>0.058609</td>\n",
              "      <td>-0.027168</td>\n",
              "      <td>-0.478160</td>\n",
              "      <td>-0.179840</td>\n",
              "      <td>-0.478160</td>\n",
              "    </tr>\n",
              "    <tr>\n",
              "      <th>11</th>\n",
              "      <td>-0.291208</td>\n",
              "      <td>-0.311310</td>\n",
              "      <td>0.023545</td>\n",
              "      <td>-0.178057</td>\n",
              "      <td>-0.061072</td>\n",
              "      <td>-0.036312</td>\n",
              "      <td>0.003935</td>\n",
              "      <td>0.437497</td>\n",
              "      <td>0.100354</td>\n",
              "      <td>0.456272</td>\n",
              "      <td>-0.243528</td>\n",
              "      <td>1.000000</td>\n",
              "      <td>0.033786</td>\n",
              "      <td>-0.472179</td>\n",
              "      <td>0.253750</td>\n",
              "      <td>0.349746</td>\n",
              "      <td>0.004912</td>\n",
              "      <td>0.092361</td>\n",
              "      <td>-0.145704</td>\n",
              "      <td>0.088593</td>\n",
              "      <td>0.423555</td>\n",
              "      <td>-0.055670</td>\n",
              "      <td>-0.311310</td>\n",
              "      <td>-0.055670</td>\n",
              "    </tr>\n",
              "    <tr>\n",
              "      <th>12</th>\n",
              "      <td>-0.032088</td>\n",
              "      <td>0.090674</td>\n",
              "      <td>-0.102563</td>\n",
              "      <td>0.283542</td>\n",
              "      <td>-0.307293</td>\n",
              "      <td>-0.263237</td>\n",
              "      <td>0.358374</td>\n",
              "      <td>-0.357483</td>\n",
              "      <td>-0.086500</td>\n",
              "      <td>-0.231800</td>\n",
              "      <td>0.606660</td>\n",
              "      <td>0.033786</td>\n",
              "      <td>1.000000</td>\n",
              "      <td>-0.232952</td>\n",
              "      <td>-0.113417</td>\n",
              "      <td>-0.612794</td>\n",
              "      <td>-0.271008</td>\n",
              "      <td>-0.483547</td>\n",
              "      <td>-0.399761</td>\n",
              "      <td>0.329791</td>\n",
              "      <td>0.193752</td>\n",
              "      <td>-0.182440</td>\n",
              "      <td>0.090674</td>\n",
              "      <td>-0.182440</td>\n",
              "    </tr>\n",
              "    <tr>\n",
              "      <th>13</th>\n",
              "      <td>0.481035</td>\n",
              "      <td>-0.014958</td>\n",
              "      <td>0.134756</td>\n",
              "      <td>0.312276</td>\n",
              "      <td>0.222787</td>\n",
              "      <td>0.435186</td>\n",
              "      <td>-0.128788</td>\n",
              "      <td>-0.404556</td>\n",
              "      <td>0.611312</td>\n",
              "      <td>-0.081771</td>\n",
              "      <td>0.265259</td>\n",
              "      <td>-0.472179</td>\n",
              "      <td>-0.232952</td>\n",
              "      <td>1.000000</td>\n",
              "      <td>0.154705</td>\n",
              "      <td>-0.205533</td>\n",
              "      <td>0.110414</td>\n",
              "      <td>0.208824</td>\n",
              "      <td>-0.133585</td>\n",
              "      <td>-0.410814</td>\n",
              "      <td>-0.118593</td>\n",
              "      <td>-0.207125</td>\n",
              "      <td>-0.014958</td>\n",
              "      <td>-0.207125</td>\n",
              "    </tr>\n",
              "    <tr>\n",
              "      <th>14</th>\n",
              "      <td>0.057294</td>\n",
              "      <td>0.288805</td>\n",
              "      <td>0.730300</td>\n",
              "      <td>0.127051</td>\n",
              "      <td>0.313195</td>\n",
              "      <td>0.151920</td>\n",
              "      <td>-0.389539</td>\n",
              "      <td>0.334750</td>\n",
              "      <td>-0.076260</td>\n",
              "      <td>0.463577</td>\n",
              "      <td>-0.094333</td>\n",
              "      <td>0.253750</td>\n",
              "      <td>-0.113417</td>\n",
              "      <td>0.154705</td>\n",
              "      <td>1.000000</td>\n",
              "      <td>0.196227</td>\n",
              "      <td>-0.131911</td>\n",
              "      <td>-0.121428</td>\n",
              "      <td>0.008939</td>\n",
              "      <td>-0.459090</td>\n",
              "      <td>0.567323</td>\n",
              "      <td>0.004432</td>\n",
              "      <td>0.288805</td>\n",
              "      <td>0.004432</td>\n",
              "    </tr>\n",
              "    <tr>\n",
              "      <th>15</th>\n",
              "      <td>-0.507272</td>\n",
              "      <td>-0.159752</td>\n",
              "      <td>0.280789</td>\n",
              "      <td>-0.581539</td>\n",
              "      <td>-0.183679</td>\n",
              "      <td>-0.331950</td>\n",
              "      <td>-0.375037</td>\n",
              "      <td>0.375631</td>\n",
              "      <td>-0.214636</td>\n",
              "      <td>0.239964</td>\n",
              "      <td>-0.636387</td>\n",
              "      <td>0.349746</td>\n",
              "      <td>-0.612794</td>\n",
              "      <td>-0.205533</td>\n",
              "      <td>0.196227</td>\n",
              "      <td>1.000000</td>\n",
              "      <td>-0.009316</td>\n",
              "      <td>0.246876</td>\n",
              "      <td>0.200106</td>\n",
              "      <td>-0.246629</td>\n",
              "      <td>-0.021134</td>\n",
              "      <td>0.500022</td>\n",
              "      <td>-0.159752</td>\n",
              "      <td>0.500022</td>\n",
              "    </tr>\n",
              "    <tr>\n",
              "      <th>16</th>\n",
              "      <td>-0.286925</td>\n",
              "      <td>-0.452769</td>\n",
              "      <td>0.101082</td>\n",
              "      <td>0.089406</td>\n",
              "      <td>0.241553</td>\n",
              "      <td>0.076949</td>\n",
              "      <td>0.251003</td>\n",
              "      <td>-0.119415</td>\n",
              "      <td>-0.067799</td>\n",
              "      <td>0.455915</td>\n",
              "      <td>0.106593</td>\n",
              "      <td>0.004912</td>\n",
              "      <td>-0.271008</td>\n",
              "      <td>0.110414</td>\n",
              "      <td>-0.131911</td>\n",
              "      <td>-0.009316</td>\n",
              "      <td>1.000000</td>\n",
              "      <td>0.884025</td>\n",
              "      <td>0.590192</td>\n",
              "      <td>-0.043655</td>\n",
              "      <td>0.386212</td>\n",
              "      <td>-0.636141</td>\n",
              "      <td>-0.452769</td>\n",
              "      <td>-0.636141</td>\n",
              "    </tr>\n",
              "    <tr>\n",
              "      <th>17</th>\n",
              "      <td>-0.346305</td>\n",
              "      <td>-0.523865</td>\n",
              "      <td>0.072319</td>\n",
              "      <td>0.011743</td>\n",
              "      <td>0.211861</td>\n",
              "      <td>0.053214</td>\n",
              "      <td>0.153307</td>\n",
              "      <td>-0.063060</td>\n",
              "      <td>0.108558</td>\n",
              "      <td>0.407254</td>\n",
              "      <td>-0.033625</td>\n",
              "      <td>0.092361</td>\n",
              "      <td>-0.483547</td>\n",
              "      <td>0.208824</td>\n",
              "      <td>-0.121428</td>\n",
              "      <td>0.246876</td>\n",
              "      <td>0.884025</td>\n",
              "      <td>1.000000</td>\n",
              "      <td>0.521840</td>\n",
              "      <td>-0.050766</td>\n",
              "      <td>0.260945</td>\n",
              "      <td>-0.423496</td>\n",
              "      <td>-0.523865</td>\n",
              "      <td>-0.423496</td>\n",
              "    </tr>\n",
              "    <tr>\n",
              "      <th>18</th>\n",
              "      <td>-0.202634</td>\n",
              "      <td>-0.284118</td>\n",
              "      <td>0.433255</td>\n",
              "      <td>-0.285672</td>\n",
              "      <td>-0.062492</td>\n",
              "      <td>-0.306400</td>\n",
              "      <td>0.104128</td>\n",
              "      <td>-0.037548</td>\n",
              "      <td>-0.436275</td>\n",
              "      <td>0.023109</td>\n",
              "      <td>0.090971</td>\n",
              "      <td>-0.145704</td>\n",
              "      <td>-0.399761</td>\n",
              "      <td>-0.133585</td>\n",
              "      <td>0.008939</td>\n",
              "      <td>0.200106</td>\n",
              "      <td>0.590192</td>\n",
              "      <td>0.521840</td>\n",
              "      <td>1.000000</td>\n",
              "      <td>-0.245338</td>\n",
              "      <td>-0.027905</td>\n",
              "      <td>-0.308365</td>\n",
              "      <td>-0.284118</td>\n",
              "      <td>-0.308365</td>\n",
              "    </tr>\n",
              "    <tr>\n",
              "      <th>19</th>\n",
              "      <td>-0.292418</td>\n",
              "      <td>0.098861</td>\n",
              "      <td>-0.660511</td>\n",
              "      <td>0.430887</td>\n",
              "      <td>0.172957</td>\n",
              "      <td>-0.091254</td>\n",
              "      <td>0.383424</td>\n",
              "      <td>0.105597</td>\n",
              "      <td>0.021519</td>\n",
              "      <td>-0.216552</td>\n",
              "      <td>0.058609</td>\n",
              "      <td>0.088593</td>\n",
              "      <td>0.329791</td>\n",
              "      <td>-0.410814</td>\n",
              "      <td>-0.459090</td>\n",
              "      <td>-0.246629</td>\n",
              "      <td>-0.043655</td>\n",
              "      <td>-0.050766</td>\n",
              "      <td>-0.245338</td>\n",
              "      <td>1.000000</td>\n",
              "      <td>-0.038806</td>\n",
              "      <td>0.242098</td>\n",
              "      <td>0.098861</td>\n",
              "      <td>0.242098</td>\n",
              "    </tr>\n",
              "    <tr>\n",
              "      <th>20</th>\n",
              "      <td>-0.333260</td>\n",
              "      <td>-0.001726</td>\n",
              "      <td>0.373901</td>\n",
              "      <td>0.330507</td>\n",
              "      <td>0.367567</td>\n",
              "      <td>0.148948</td>\n",
              "      <td>0.028802</td>\n",
              "      <td>0.219142</td>\n",
              "      <td>-0.203380</td>\n",
              "      <td>0.807875</td>\n",
              "      <td>-0.027168</td>\n",
              "      <td>0.423555</td>\n",
              "      <td>0.193752</td>\n",
              "      <td>-0.118593</td>\n",
              "      <td>0.567323</td>\n",
              "      <td>-0.021134</td>\n",
              "      <td>0.386212</td>\n",
              "      <td>0.260945</td>\n",
              "      <td>-0.027905</td>\n",
              "      <td>-0.038806</td>\n",
              "      <td>1.000000</td>\n",
              "      <td>-0.364001</td>\n",
              "      <td>-0.001726</td>\n",
              "      <td>-0.364001</td>\n",
              "    </tr>\n",
              "    <tr>\n",
              "      <th>21</th>\n",
              "      <td>-0.217970</td>\n",
              "      <td>0.337688</td>\n",
              "      <td>-0.128838</td>\n",
              "      <td>-0.148783</td>\n",
              "      <td>-0.127662</td>\n",
              "      <td>-0.268102</td>\n",
              "      <td>-0.252280</td>\n",
              "      <td>0.259009</td>\n",
              "      <td>-0.148769</td>\n",
              "      <td>-0.319146</td>\n",
              "      <td>-0.478160</td>\n",
              "      <td>-0.055670</td>\n",
              "      <td>-0.182440</td>\n",
              "      <td>-0.207125</td>\n",
              "      <td>0.004432</td>\n",
              "      <td>0.500022</td>\n",
              "      <td>-0.636141</td>\n",
              "      <td>-0.423496</td>\n",
              "      <td>-0.308365</td>\n",
              "      <td>0.242098</td>\n",
              "      <td>-0.364001</td>\n",
              "      <td>1.000000</td>\n",
              "      <td>0.337688</td>\n",
              "      <td>1.000000</td>\n",
              "    </tr>\n",
              "    <tr>\n",
              "      <th>22</th>\n",
              "      <td>0.085070</td>\n",
              "      <td>1.000000</td>\n",
              "      <td>-0.041192</td>\n",
              "      <td>0.082638</td>\n",
              "      <td>0.503470</td>\n",
              "      <td>0.142443</td>\n",
              "      <td>-0.641824</td>\n",
              "      <td>0.507056</td>\n",
              "      <td>-0.174063</td>\n",
              "      <td>0.032859</td>\n",
              "      <td>-0.179840</td>\n",
              "      <td>-0.311310</td>\n",
              "      <td>0.090674</td>\n",
              "      <td>-0.014958</td>\n",
              "      <td>0.288805</td>\n",
              "      <td>-0.159752</td>\n",
              "      <td>-0.452769</td>\n",
              "      <td>-0.523865</td>\n",
              "      <td>-0.284118</td>\n",
              "      <td>0.098861</td>\n",
              "      <td>-0.001726</td>\n",
              "      <td>0.337688</td>\n",
              "      <td>1.000000</td>\n",
              "      <td>0.337688</td>\n",
              "    </tr>\n",
              "    <tr>\n",
              "      <th>23</th>\n",
              "      <td>-0.217970</td>\n",
              "      <td>0.337688</td>\n",
              "      <td>-0.128838</td>\n",
              "      <td>-0.148783</td>\n",
              "      <td>-0.127662</td>\n",
              "      <td>-0.268102</td>\n",
              "      <td>-0.252280</td>\n",
              "      <td>0.259009</td>\n",
              "      <td>-0.148769</td>\n",
              "      <td>-0.319146</td>\n",
              "      <td>-0.478160</td>\n",
              "      <td>-0.055670</td>\n",
              "      <td>-0.182440</td>\n",
              "      <td>-0.207125</td>\n",
              "      <td>0.004432</td>\n",
              "      <td>0.500022</td>\n",
              "      <td>-0.636141</td>\n",
              "      <td>-0.423496</td>\n",
              "      <td>-0.308365</td>\n",
              "      <td>0.242098</td>\n",
              "      <td>-0.364001</td>\n",
              "      <td>1.000000</td>\n",
              "      <td>0.337688</td>\n",
              "      <td>1.000000</td>\n",
              "    </tr>\n",
              "  </tbody>\n",
              "</table>\n",
              "</div>"
            ],
            "text/plain": [
              "          0         1         2   ...        21        22        23\n",
              "0   1.000000  0.085070 -0.123768  ... -0.217970  0.085070 -0.217970\n",
              "1   0.085070  1.000000 -0.041192  ...  0.337688  1.000000  0.337688\n",
              "2  -0.123768 -0.041192  1.000000  ... -0.128838 -0.041192 -0.128838\n",
              "3   0.276106  0.082638 -0.181195  ... -0.148783  0.082638 -0.148783\n",
              "4   0.154489  0.503470 -0.155066  ... -0.127662  0.503470 -0.127662\n",
              "5   0.665316  0.142443 -0.290836  ... -0.268102  0.142443 -0.268102\n",
              "6   0.065969 -0.641824 -0.195272  ... -0.252280 -0.641824 -0.252280\n",
              "7  -0.197921  0.507056 -0.075084  ...  0.259009  0.507056  0.259009\n",
              "8   0.466688 -0.174063 -0.343087  ... -0.148769 -0.174063 -0.148769\n",
              "9  -0.273252  0.032859  0.225933  ... -0.319146  0.032859 -0.319146\n",
              "10  0.157509 -0.179840  0.147477  ... -0.478160 -0.179840 -0.478160\n",
              "11 -0.291208 -0.311310  0.023545  ... -0.055670 -0.311310 -0.055670\n",
              "12 -0.032088  0.090674 -0.102563  ... -0.182440  0.090674 -0.182440\n",
              "13  0.481035 -0.014958  0.134756  ... -0.207125 -0.014958 -0.207125\n",
              "14  0.057294  0.288805  0.730300  ...  0.004432  0.288805  0.004432\n",
              "15 -0.507272 -0.159752  0.280789  ...  0.500022 -0.159752  0.500022\n",
              "16 -0.286925 -0.452769  0.101082  ... -0.636141 -0.452769 -0.636141\n",
              "17 -0.346305 -0.523865  0.072319  ... -0.423496 -0.523865 -0.423496\n",
              "18 -0.202634 -0.284118  0.433255  ... -0.308365 -0.284118 -0.308365\n",
              "19 -0.292418  0.098861 -0.660511  ...  0.242098  0.098861  0.242098\n",
              "20 -0.333260 -0.001726  0.373901  ... -0.364001 -0.001726 -0.364001\n",
              "21 -0.217970  0.337688 -0.128838  ...  1.000000  0.337688  1.000000\n",
              "22  0.085070  1.000000 -0.041192  ...  0.337688  1.000000  0.337688\n",
              "23 -0.217970  0.337688 -0.128838  ...  1.000000  0.337688  1.000000\n",
              "\n",
              "[24 rows x 24 columns]"
            ]
          },
          "metadata": {
            "tags": []
          },
          "execution_count": 402
        }
      ]
    },
    {
      "cell_type": "markdown",
      "metadata": {
        "id": "tuu9DH5QW6Fx"
      },
      "source": [
        "**เช็คความสัมพันธ์ของ Data ที่มีค่า corr เท่ากัน**"
      ]
    },
    {
      "cell_type": "code",
      "metadata": {
        "id": "8r51C8JRVoqs",
        "outputId": "953d6de1-d00d-4c67-bbf8-dce36154bf49",
        "colab": {
          "base_uri": "https://localhost:8080/"
        }
      },
      "source": [
        "for i in range(corr.shape[0]):        # ใช้ for loop เช็คความสัมพันธ์ของ Data ที่ corr เท่ากัน\n",
        "        for j in range(corr.shape[1]):\n",
        "            if (i !=j )  and (corr[i,j] == 1):\n",
        "                print(f'row = {i} column = {j} corrcoef = {corr[i,j]}')\n"
      ],
      "execution_count": 116,
      "outputs": [
        {
          "output_type": "stream",
          "text": [
            "row = 1 column = 22 corrcoef = 1.0\n",
            "row = 21 column = 23 corrcoef = 1.0\n",
            "row = 22 column = 1 corrcoef = 1.0\n",
            "row = 23 column = 21 corrcoef = 1.0\n"
          ],
          "name": "stdout"
        }
      ]
    },
    {
      "cell_type": "markdown",
      "metadata": {
        "id": "SehRfvk1Vppr"
      },
      "source": [
        "## ทำ clustering แล้วทำ visualize ข้อมูลแบบ 2 มิติ"
      ]
    },
    {
      "cell_type": "code",
      "metadata": {
        "id": "PYcN82ZTJ6Fx"
      },
      "source": [
        "from sklearn.cluster import KMeans   ## เริ่มทำการ import ก่อน\n",
        "import matplotlib.pyplot as plt          \n",
        "from sklearn.decomposition import PCA\n"
      ],
      "execution_count": 302,
      "outputs": []
    },
    {
      "cell_type": "markdown",
      "metadata": {
        "id": "QyWHkiv5SSrk"
      },
      "source": [
        "*define*\n"
      ]
    },
    {
      "cell_type": "code",
      "metadata": {
        "id": "CRe79DqoSSMV"
      },
      "source": [
        "kmeans = KMeans()  ### กำหนด define \n",
        "pca1 = PCA()"
      ],
      "execution_count": 355,
      "outputs": []
    },
    {
      "cell_type": "markdown",
      "metadata": {
        "id": "mtBCw_WX16p-"
      },
      "source": [
        "*Fit-transform*"
      ]
    },
    {
      "cell_type": "code",
      "metadata": {
        "id": "FzZdmfrISbgh",
        "colab": {
          "base_uri": "https://localhost:8080/"
        },
        "outputId": "53da2dce-a4ee-4f4b-ea3e-3013368592e6"
      },
      "source": [
        "kmeans.fit(Data)   \n"
      ],
      "execution_count": 356,
      "outputs": [
        {
          "output_type": "execute_result",
          "data": {
            "text/plain": [
              "KMeans(algorithm='auto', copy_x=True, init='k-means++', max_iter=300,\n",
              "       n_clusters=8, n_init=10, n_jobs=None, precompute_distances='auto',\n",
              "       random_state=None, tol=0.0001, verbose=0)"
            ]
          },
          "metadata": {
            "tags": []
          },
          "execution_count": 356
        }
      ]
    },
    {
      "cell_type": "code",
      "metadata": {
        "id": "UFX6G25h26Mb"
      },
      "source": [
        "new_pca_1 = pca1.fit_transform(Data) "
      ],
      "execution_count": 357,
      "outputs": []
    },
    {
      "cell_type": "markdown",
      "metadata": {
        "id": "G0pcHHA0SigR"
      },
      "source": [
        "*คำนวณ*"
      ]
    },
    {
      "cell_type": "code",
      "metadata": {
        "id": "YR14WzBWHhqX"
      },
      "source": [
        "kmeans.cluster_centers_    #เรียกดูค่า k-mean center ในแต่ละ cluster"
      ],
      "execution_count": null,
      "outputs": []
    },
    {
      "cell_type": "markdown",
      "metadata": {
        "id": "48oY5e-_3Aso"
      },
      "source": [
        "**ใช้ค่า Default**"
      ]
    },
    {
      "cell_type": "code",
      "metadata": {
        "id": "DjUvALfy3LXe",
        "outputId": "e3b92dea-a0c8-4e7f-f5d1-1cd321c23219",
        "colab": {
          "base_uri": "https://localhost:8080/",
          "height": 447
        }
      },
      "source": [
        "kmeans = KMeans()         \n",
        "kmeans.fit(Data)\n",
        "y = kmeans.predict(Data)\n",
        "plt.scatter(new_pca_1[:,0],new_pca_1[:,1],c=y)   # plot กราฟดูการกระจายของ Data"
      ],
      "execution_count": 409,
      "outputs": [
        {
          "output_type": "execute_result",
          "data": {
            "text/plain": [
              "<matplotlib.collections.PathCollection at 0x7f84614bd390>"
            ]
          },
          "metadata": {
            "tags": []
          },
          "execution_count": 409
        },
        {
          "output_type": "display_data",
          "data": {
            "image/png": "[encoded data removed]",
            "text/plain": [
              "<Figure size 504x504 with 1 Axes>"
            ]
          },
          "metadata": {
            "tags": [],
            "needs_background": "light"
          }
        }
      ]
    },
    {
      "cell_type": "code",
      "metadata": {
        "id": "j-YPc1NHqTzG",
        "outputId": "e27b8efe-d998-47ba-d49f-e626631acbf5",
        "colab": {
          "base_uri": "https://localhost:8080/"
        }
      },
      "source": [
        "kmeans.cluster_centers_    #เรียกดูค่า k-mean center ในแต่ละ cluster"
      ],
      "execution_count": 410,
      "outputs": [
        {
          "output_type": "execute_result",
          "data": {
            "text/plain": [
              "array([[ -4.57154455,   7.08738442,   8.3234325 ,   5.20553626,\n",
              "          0.32660358,  -6.68023987,  -4.03845544,  -4.37812602,\n",
              "         -3.40348696,  -0.80844149,   0.89612416,  -5.69266445,\n",
              "          5.90578852,   4.58776431,   6.98900518,  -4.68770052,\n",
              "          2.28868287,   2.93347883,  -2.21052242,  -1.83500352,\n",
              "          6.19013265,   1.9960025 ,  14.17476884,  11.9800125 ],\n",
              "       [ -0.06412901,  -4.51225673,   6.22253194,  -3.2269512 ,\n",
              "         -6.08859379,  -3.17695728,   3.43639431,  -4.33873044,\n",
              "         -4.73102557,   7.57278776,   0.75839827,   4.86441192,\n",
              "          7.96178553,  -4.47805369,   0.68598681,  -7.36481561,\n",
              "          9.21835902,   6.27049844,   3.05073206,  -5.97899453,\n",
              "          9.45978479,  -9.28651114,  -9.02451347, -44.4325557 ],\n",
              "       [  8.80198473,   3.34648887,   5.18750189,   3.27413701,\n",
              "          7.04659023,   6.22988799,  -3.02861602,   1.27478968,\n",
              "         -1.16380144,   2.97837899,  -4.22130928,  -2.31625961,\n",
              "         -4.84934303,   3.63058511,   6.05369572,  -5.13162679,\n",
              "          5.62190264,   5.81871669,   4.02346672,  -5.25580978,\n",
              "          1.46212348,  -2.52011762,   6.69297773, -10.6005881 ],\n",
              "       [  1.41850979,   1.14727112,   2.63952115,   2.97557909,\n",
              "         -4.00746108,  -6.66346428,   7.04345437,  -2.78258433,\n",
              "         -5.14779187,  -9.2367024 ,   0.92277073,  -0.68514721,\n",
              "          5.99061497,  -7.38143763,  -1.41982478,  -7.34795493,\n",
              "          1.83791913,   0.84744708,   4.32321512,   3.10389928,\n",
              "         -2.43973366,   0.286732  ,   2.29454225,   3.43366   ],\n",
              "       [  7.91353391,   8.48540784,   2.39496859,  -7.22897205,\n",
              "         -7.23906295,  -2.6581436 ,  -7.7109112 ,   0.25273127,\n",
              "         -4.84444139,  -7.7432413 ,  -6.25724399,  -3.50975948,\n",
              "          3.27315531,  -3.78323975,   0.44644512,  -3.33027584,\n",
              "         -8.23765384,  -8.2015803 ,  -4.92591782,  -5.69417139,\n",
              "         -8.75270938,   5.5450271 ,  16.97081568,  29.72513552],\n",
              "       [ -1.48221658,   8.86478035,  -3.62855078,   5.5026541 ,\n",
              "          9.5259495 ,   4.06764966,  -3.92015583,   9.37320981,\n",
              "         -2.04667786,   9.02636059,  -7.39548861,   8.7714583 ,\n",
              "          5.13952899,  -9.07093311,   3.27419116,  -5.5308487 ,\n",
              "          0.33936437,   0.24888175,  -7.83348846,   6.27106999,\n",
              "          9.23622818,   1.7169017 ,  17.72956071,  10.58450852],\n",
              "       [ -9.03978639,  -4.20165798,   4.42205114,  -9.55323901,\n",
              "         -5.85342225,  -9.03537508,  -3.99356016,   3.26780479,\n",
              "         -3.77949227,   1.69194458,  -8.57587559,   7.38462008,\n",
              "         -7.32261966,  -6.39639932,  -0.11639037,   7.3430765 ,\n",
              "          5.20929115,   9.42799854,   5.17112175,  -2.33366536,\n",
              "         -1.85351106,   4.31648731,  -8.40331596,  23.58243653],\n",
              "       [  8.59797036,  -5.02550872,  -5.92928134,   6.32879498,\n",
              "         -3.91784839,   3.5528448 ,   8.47547941,  -8.61236091,\n",
              "          5.61401293,  -9.31349605,   0.17888189,  -1.24653385,\n",
              "          3.82141373,   5.57711842,  -9.08842409,  -8.5670001 ,\n",
              "          2.0995067 ,   4.27367797,  -6.97536301,   2.26370578,\n",
              "         -7.0325493 ,  -0.7841479 , -10.05101744,  -1.9207395 ]])"
            ]
          },
          "metadata": {
            "tags": []
          },
          "execution_count": 410
        }
      ]
    },
    {
      "cell_type": "markdown",
      "metadata": {
        "id": "iVXcGM6i3RPO"
      },
      "source": [
        "**หาจำนวน cluster ที่เหมาะสมกับข้อมูลของเราด้วยวิธี Elbow Method**"
      ]
    },
    {
      "cell_type": "code",
      "metadata": {
        "id": "GFLgeKPKbX2l"
      },
      "source": [
        "SSE = list()        # สร้าง list ชื่อว่า SSE      ### เพื่อหาค่า Sum of Squared Errors\n",
        "for k in [1,2,3,4,5,6,7,8]:    # for loop ตัวแปร k ตั้งแต่ 1-8  \n",
        "    kmeans = KMeans(n_clusters=k, random_state=2021)\n",
        "    kmeans.fit(Data)\n",
        "    SSE.append(kmeans.inertia_)"
      ],
      "execution_count": 411,
      "outputs": []
    },
    {
      "cell_type": "code",
      "metadata": {
        "id": "1U3FpKi1bcMt",
        "colab": {
          "base_uri": "https://localhost:8080/"
        },
        "outputId": "bdf2e69c-d06a-460f-bba7-f08a95be80df"
      },
      "source": [
        "SSE #ค่า Sum of Squared Errors"
      ],
      "execution_count": 412,
      "outputs": [
        {
          "output_type": "execute_result",
          "data": {
            "text/plain": [
              "[11966550.962678483,\n",
              " 8596940.011299517,\n",
              " 6729889.143185041,\n",
              " 5234830.487597061,\n",
              " 3908724.9400010095,\n",
              " 2885596.483636631,\n",
              " 2210026.7534305393,\n",
              " 1586022.791622691]"
            ]
          },
          "metadata": {
            "tags": []
          },
          "execution_count": 412
        }
      ]
    },
    {
      "cell_type": "code",
      "metadata": {
        "id": "Vp2a8iNSbdf6",
        "colab": {
          "base_uri": "https://localhost:8080/",
          "height": 453
        },
        "outputId": "b6ecc24f-ed07-44f3-9d59-5060e7e66978"
      },
      "source": [
        "plt.plot([1,2,3,4,5,6,7,8],SSE,'o-b')  # plot กราฟแสดงค่า Sum of Squared Errors\n",
        "plt.xlabel('K')  ## กำหนดให้แกน X ชื่อ \"K\"\n",
        "plt.ylabel('Sum of Squared Errors'); ## กำหนดให้แกน Y ชื่อ \"Sum of Squared Errors\"\n"
      ],
      "execution_count": 413,
      "outputs": [
        {
          "output_type": "display_data",
          "data": {
            "image/png": "[encoded data removed]",
            "text/plain": [
              "<Figure size 504x504 with 1 Axes>"
            ]
          },
          "metadata": {
            "tags": [],
            "needs_background": "light"
          }
        }
      ]
    },
    {
      "cell_type": "code",
      "metadata": {
        "id": "1WSEGd8vl0-m",
        "outputId": "26be29dd-9166-4fa4-b1fc-043cc9d7fefe",
        "colab": {
          "base_uri": "https://localhost:8080/"
        }
      },
      "source": [
        "kmeans.inertia_    ## ผลรวมของระยะทางกำลังสองของตัวอย่างไปยังศูนย์กลางคลัสเตอร์ที่ใกล้ที่สุด"
      ],
      "execution_count": 414,
      "outputs": [
        {
          "output_type": "execute_result",
          "data": {
            "text/plain": [
              "1586022.791622691"
            ]
          },
          "metadata": {
            "tags": []
          },
          "execution_count": 414
        }
      ]
    },
    {
      "cell_type": "markdown",
      "metadata": {
        "id": "qGG5Wg1_36CI"
      },
      "source": [
        "**ในที่นี้เลือก cluster = 2 กลุ่ม**"
      ]
    },
    {
      "cell_type": "code",
      "metadata": {
        "id": "lmz-bjHGczRN",
        "outputId": "4815d558-4d75-46f8-dbea-644064f35722",
        "colab": {
          "base_uri": "https://localhost:8080/",
          "height": 447
        }
      },
      "source": [
        "kmeans = KMeans(n_clusters=2)\n",
        "kmeans.fit(Data)\n",
        "y = kmeans.predict(Data)\n",
        "plt.scatter(new_pca_1[:,0],new_pca_1[:,1],c=y) # plot กราฟดูการกระจายของ Data แต่มี cluster เป็น 2 กลุ่ม"
      ],
      "execution_count": 415,
      "outputs": [
        {
          "output_type": "execute_result",
          "data": {
            "text/plain": [
              "<matplotlib.collections.PathCollection at 0x7f845dabffd0>"
            ]
          },
          "metadata": {
            "tags": []
          },
          "execution_count": 415
        },
        {
          "output_type": "display_data",
          "data": {
            "image/png": "[encoded data removed]",
            "text/plain": [
              "<Figure size 504x504 with 1 Axes>"
            ]
          },
          "metadata": {
            "tags": [],
            "needs_background": "light"
          }
        }
      ]
    },
    {
      "cell_type": "code",
      "metadata": {
        "id": "5SyrOBBIfxcj",
        "outputId": "1149022e-c4e4-4618-e1ad-940de1712df6",
        "colab": {
          "base_uri": "https://localhost:8080/"
        }
      },
      "source": [
        "kmeans.cluster_centers_      #เรียกดูค่า k-mean center ที่ได้กำหนด cluster ให้แล้ว"
      ],
      "execution_count": 416,
      "outputs": [
        {
          "output_type": "execute_result",
          "data": {
            "text/plain": [
              "array([[  4.94437299,   1.0747713 ,   5.07868553,  -1.43730421,\n",
              "          1.34065516,   1.14127649,  -2.86198471,  -0.50567614,\n",
              "         -1.69129741,   3.70323664,  -0.62109618,   0.93292146,\n",
              "          1.45049351,   0.55414072,   2.77597954,  -6.89418095,\n",
              "          7.12054404,   5.96308979,   3.83180573,  -5.64808347,\n",
              "          3.17094454,  -6.59928657,   2.1495426 , -30.99643284],\n",
              "       [  1.43785262,   2.20831045,   2.12020016,   1.59380516,\n",
              "         -1.26868759,  -2.18277409,   0.80298864,  -0.80932857,\n",
              "         -2.8201907 ,  -2.52670618,  -3.25664712,   0.32918072,\n",
              "          2.28202949,  -2.82022267,   0.70860608,  -4.12372035,\n",
              "          1.36680319,   1.98774228,  -0.65115324,   0.04246246,\n",
              "         -0.17937757,   1.64799993,   4.41662089,  10.23999964]])"
            ]
          },
          "metadata": {
            "tags": []
          },
          "execution_count": 416
        }
      ]
    },
    {
      "cell_type": "markdown",
      "metadata": {
        "id": "80rrOBcKuZv_"
      },
      "source": [
        "## ลด Dimension ของข้อมูลเหลือ 2 มิติ แล้วทำ clustering แล้ว visualize ข้อมูลแบบ 2 มิติ"
      ]
    },
    {
      "cell_type": "code",
      "metadata": {
        "id": "Eo0CpVe5gGAe"
      },
      "source": [
        "from sklearn.cluster import KMeans   ## เริ่มทำการ import ก่อน\n",
        "import matplotlib.pyplot as plt          \n",
        "from sklearn.manifold import MDS\n"
      ],
      "execution_count": 417,
      "outputs": []
    },
    {
      "cell_type": "markdown",
      "metadata": {
        "id": "eOGJ2FQS-Jig"
      },
      "source": [
        "*Define*"
      ]
    },
    {
      "cell_type": "code",
      "metadata": {
        "id": "a1DOrG3QgF-E"
      },
      "source": [
        "model = MDS(n_components=2)"
      ],
      "execution_count": 425,
      "outputs": []
    },
    {
      "cell_type": "markdown",
      "metadata": {
        "id": "9zmOMzuF-J5J"
      },
      "source": [
        "Fit"
      ]
    },
    {
      "cell_type": "code",
      "metadata": {
        "id": "nNcfqE6ex6JK",
        "outputId": "a9b413b3-6ab1-4034-c84e-22b0953364cb",
        "colab": {
          "base_uri": "https://localhost:8080/",
          "height": 307
        }
      },
      "source": [
        "out = model.fit_transform(Data)"
      ],
      "execution_count": 430,
      "outputs": [
        {
          "output_type": "error",
          "ename": "KeyboardInterrupt",
          "evalue": "ignored",
          "traceback": [
            "\u001b[0;31m---------------------------------------------------------------------------\u001b[0m",
            "\u001b[0;31mKeyboardInterrupt\u001b[0m                         Traceback (most recent call last)",
            "\u001b[0;32m<ipython-input-430-6d64c41bcf77>\u001b[0m in \u001b[0;36m<module>\u001b[0;34m()\u001b[0m\n\u001b[0;32m----> 1\u001b[0;31m \u001b[0mout\u001b[0m \u001b[0;34m=\u001b[0m \u001b[0mmodel\u001b[0m\u001b[0;34m.\u001b[0m\u001b[0mfit_transform\u001b[0m\u001b[0;34m(\u001b[0m\u001b[0mData\u001b[0m\u001b[0;34m)\u001b[0m\u001b[0;34m\u001b[0m\u001b[0;34m\u001b[0m\u001b[0m\n\u001b[0m",
            "\u001b[0;32m/usr/local/lib/python3.7/dist-packages/sklearn/manifold/_mds.py\u001b[0m in \u001b[0;36mfit_transform\u001b[0;34m(self, X, y, init)\u001b[0m\n\u001b[1;32m    435\u001b[0m             \u001b[0mn_jobs\u001b[0m\u001b[0;34m=\u001b[0m\u001b[0mself\u001b[0m\u001b[0;34m.\u001b[0m\u001b[0mn_jobs\u001b[0m\u001b[0;34m,\u001b[0m \u001b[0mmax_iter\u001b[0m\u001b[0;34m=\u001b[0m\u001b[0mself\u001b[0m\u001b[0;34m.\u001b[0m\u001b[0mmax_iter\u001b[0m\u001b[0;34m,\u001b[0m \u001b[0mverbose\u001b[0m\u001b[0;34m=\u001b[0m\u001b[0mself\u001b[0m\u001b[0;34m.\u001b[0m\u001b[0mverbose\u001b[0m\u001b[0;34m,\u001b[0m\u001b[0;34m\u001b[0m\u001b[0;34m\u001b[0m\u001b[0m\n\u001b[1;32m    436\u001b[0m             \u001b[0meps\u001b[0m\u001b[0;34m=\u001b[0m\u001b[0mself\u001b[0m\u001b[0;34m.\u001b[0m\u001b[0meps\u001b[0m\u001b[0;34m,\u001b[0m \u001b[0mrandom_state\u001b[0m\u001b[0;34m=\u001b[0m\u001b[0mself\u001b[0m\u001b[0;34m.\u001b[0m\u001b[0mrandom_state\u001b[0m\u001b[0;34m,\u001b[0m\u001b[0;34m\u001b[0m\u001b[0;34m\u001b[0m\u001b[0m\n\u001b[0;32m--> 437\u001b[0;31m             return_n_iter=True)\n\u001b[0m\u001b[1;32m    438\u001b[0m \u001b[0;34m\u001b[0m\u001b[0m\n\u001b[1;32m    439\u001b[0m         \u001b[0;32mreturn\u001b[0m \u001b[0mself\u001b[0m\u001b[0;34m.\u001b[0m\u001b[0membedding_\u001b[0m\u001b[0;34m\u001b[0m\u001b[0;34m\u001b[0m\u001b[0m\n",
            "\u001b[0;32m/usr/local/lib/python3.7/dist-packages/sklearn/manifold/_mds.py\u001b[0m in \u001b[0;36msmacof\u001b[0;34m(dissimilarities, metric, n_components, init, n_init, n_jobs, max_iter, verbose, eps, random_state, return_n_iter)\u001b[0m\n\u001b[1;32m    250\u001b[0m                 \u001b[0mn_components\u001b[0m\u001b[0;34m=\u001b[0m\u001b[0mn_components\u001b[0m\u001b[0;34m,\u001b[0m \u001b[0minit\u001b[0m\u001b[0;34m=\u001b[0m\u001b[0minit\u001b[0m\u001b[0;34m,\u001b[0m\u001b[0;34m\u001b[0m\u001b[0;34m\u001b[0m\u001b[0m\n\u001b[1;32m    251\u001b[0m                 \u001b[0mmax_iter\u001b[0m\u001b[0;34m=\u001b[0m\u001b[0mmax_iter\u001b[0m\u001b[0;34m,\u001b[0m \u001b[0mverbose\u001b[0m\u001b[0;34m=\u001b[0m\u001b[0mverbose\u001b[0m\u001b[0;34m,\u001b[0m\u001b[0;34m\u001b[0m\u001b[0;34m\u001b[0m\u001b[0m\n\u001b[0;32m--> 252\u001b[0;31m                 eps=eps, random_state=random_state)\n\u001b[0m\u001b[1;32m    253\u001b[0m             \u001b[0;32mif\u001b[0m \u001b[0mbest_stress\u001b[0m \u001b[0;32mis\u001b[0m \u001b[0;32mNone\u001b[0m \u001b[0;32mor\u001b[0m \u001b[0mstress\u001b[0m \u001b[0;34m<\u001b[0m \u001b[0mbest_stress\u001b[0m\u001b[0;34m:\u001b[0m\u001b[0;34m\u001b[0m\u001b[0;34m\u001b[0m\u001b[0m\n\u001b[1;32m    254\u001b[0m                 \u001b[0mbest_stress\u001b[0m \u001b[0;34m=\u001b[0m \u001b[0mstress\u001b[0m\u001b[0;34m\u001b[0m\u001b[0;34m\u001b[0m\u001b[0m\n",
            "\u001b[0;32m/usr/local/lib/python3.7/dist-packages/sklearn/manifold/_mds.py\u001b[0m in \u001b[0;36m_smacof_single\u001b[0;34m(dissimilarities, metric, n_components, init, max_iter, verbose, eps, random_state)\u001b[0m\n\u001b[1;32m    108\u001b[0m \u001b[0;34m\u001b[0m\u001b[0m\n\u001b[1;32m    109\u001b[0m         \u001b[0;31m# Compute stress\u001b[0m\u001b[0;34m\u001b[0m\u001b[0;34m\u001b[0m\u001b[0;34m\u001b[0m\u001b[0m\n\u001b[0;32m--> 110\u001b[0;31m         \u001b[0mstress\u001b[0m \u001b[0;34m=\u001b[0m \u001b[0;34m(\u001b[0m\u001b[0;34m(\u001b[0m\u001b[0mdis\u001b[0m\u001b[0;34m.\u001b[0m\u001b[0mravel\u001b[0m\u001b[0;34m(\u001b[0m\u001b[0;34m)\u001b[0m \u001b[0;34m-\u001b[0m \u001b[0mdisparities\u001b[0m\u001b[0;34m.\u001b[0m\u001b[0mravel\u001b[0m\u001b[0;34m(\u001b[0m\u001b[0;34m)\u001b[0m\u001b[0;34m)\u001b[0m \u001b[0;34m**\u001b[0m \u001b[0;36m2\u001b[0m\u001b[0;34m)\u001b[0m\u001b[0;34m.\u001b[0m\u001b[0msum\u001b[0m\u001b[0;34m(\u001b[0m\u001b[0;34m)\u001b[0m \u001b[0;34m/\u001b[0m \u001b[0;36m2\u001b[0m\u001b[0;34m\u001b[0m\u001b[0;34m\u001b[0m\u001b[0m\n\u001b[0m\u001b[1;32m    111\u001b[0m \u001b[0;34m\u001b[0m\u001b[0m\n\u001b[1;32m    112\u001b[0m         \u001b[0;31m# Update X using the Guttman transform\u001b[0m\u001b[0;34m\u001b[0m\u001b[0;34m\u001b[0m\u001b[0;34m\u001b[0m\u001b[0m\n",
            "\u001b[0;31mKeyboardInterrupt\u001b[0m: "
          ]
        }
      ]
    },
    {
      "cell_type": "code",
      "metadata": {
        "id": "t5mZjcc8AJxN",
        "outputId": "d0ef75a5-0349-4251-f33c-70cdae3874b8",
        "colab": {
          "base_uri": "https://localhost:8080/",
          "height": 445
        }
      },
      "source": [
        "kmeans = KMeans()\n",
        "kmeans.fit(Data)\n",
        "y = kmeans.predict(Data)\n",
        "plt.scatter(out[:, 0], out[:, 1],c=y)  # plot กราฟดูการกระจายของ Data ที่ถูกลด Dimension"
      ],
      "execution_count": 426,
      "outputs": [
        {
          "output_type": "execute_result",
          "data": {
            "text/plain": [
              "<matplotlib.collections.PathCollection at 0x7f845d9ca950>"
            ]
          },
          "metadata": {
            "tags": []
          },
          "execution_count": 426
        },
        {
          "output_type": "display_data",
          "data": {
            "image/png": "[encoded data removed]",
            "text/plain": [
              "<Figure size 504x504 with 1 Axes>"
            ]
          },
          "metadata": {
            "tags": [],
            "needs_background": "light"
          }
        }
      ]
    },
    {
      "cell_type": "code",
      "metadata": {
        "id": "O-1Ju5fW-gAx",
        "outputId": "8e2b204c-1f3d-4fb3-9103-40f727c037a7",
        "colab": {
          "base_uri": "https://localhost:8080/"
        }
      },
      "source": [
        "kmeans.cluster_centers_  #เรียกดูค่า k-mean center ในแต่ละ cluster"
      ],
      "execution_count": 427,
      "outputs": [
        {
          "output_type": "execute_result",
          "data": {
            "text/plain": [
              "array([[  8.59797036,  -5.02550872,  -5.92928134,   6.32879498,\n",
              "         -3.91784839,   3.5528448 ,   8.47547941,  -8.61236091,\n",
              "          5.61401293,  -9.31349605,   0.17888189,  -1.24653385,\n",
              "          3.82141373,   5.57711842,  -9.08842409,  -8.5670001 ,\n",
              "          2.0995067 ,   4.27367797,  -6.97536301,   2.26370578,\n",
              "         -7.0325493 ,  -0.7841479 , -10.05101744,  -1.9207395 ],\n",
              "       [  7.91353391,   8.48540784,   2.39496859,  -7.22897205,\n",
              "         -7.23906295,  -2.6581436 ,  -7.7109112 ,   0.25273127,\n",
              "         -4.84444139,  -7.7432413 ,  -6.25724399,  -3.50975948,\n",
              "          3.27315531,  -3.78323975,   0.44644512,  -3.33027584,\n",
              "         -8.23765384,  -8.2015803 ,  -4.92591782,  -5.69417139,\n",
              "         -8.75270938,   5.5450271 ,  16.97081568,  29.72513552],\n",
              "       [  8.80198473,   3.34648887,   5.18750189,   3.27413701,\n",
              "          7.04659023,   6.22988799,  -3.02861602,   1.27478968,\n",
              "         -1.16380144,   2.97837899,  -4.22130928,  -2.31625961,\n",
              "         -4.84934303,   3.63058511,   6.05369572,  -5.13162679,\n",
              "          5.62190264,   5.81871669,   4.02346672,  -5.25580978,\n",
              "          1.46212348,  -2.52011762,   6.69297773, -10.6005881 ],\n",
              "       [ -0.06412901,  -4.51225673,   6.22253194,  -3.2269512 ,\n",
              "         -6.08859379,  -3.17695728,   3.43639431,  -4.33873044,\n",
              "         -4.73102557,   7.57278776,   0.75839827,   4.86441192,\n",
              "          7.96178553,  -4.47805369,   0.68598681,  -7.36481561,\n",
              "          9.21835902,   6.27049844,   3.05073206,  -5.97899453,\n",
              "          9.45978479,  -9.28651114,  -9.02451347, -44.4325557 ],\n",
              "       [ -9.03978639,  -4.20165798,   4.42205114,  -9.55323901,\n",
              "         -5.85342225,  -9.03537508,  -3.99356016,   3.26780479,\n",
              "         -3.77949227,   1.69194458,  -8.57587559,   7.38462008,\n",
              "         -7.32261966,  -6.39639932,  -0.11639037,   7.3430765 ,\n",
              "          5.20929115,   9.42799854,   5.17112175,  -2.33366536,\n",
              "         -1.85351106,   4.31648731,  -8.40331596,  23.58243653],\n",
              "       [ -4.57154455,   7.08738442,   8.3234325 ,   5.20553626,\n",
              "          0.32660358,  -6.68023987,  -4.03845544,  -4.37812602,\n",
              "         -3.40348696,  -0.80844149,   0.89612416,  -5.69266445,\n",
              "          5.90578852,   4.58776431,   6.98900518,  -4.68770052,\n",
              "          2.28868287,   2.93347883,  -2.21052242,  -1.83500352,\n",
              "          6.19013265,   1.9960025 ,  14.17476884,  11.9800125 ],\n",
              "       [  1.41850979,   1.14727112,   2.63952115,   2.97557909,\n",
              "         -4.00746108,  -6.66346428,   7.04345437,  -2.78258433,\n",
              "         -5.14779187,  -9.2367024 ,   0.92277073,  -0.68514721,\n",
              "          5.99061497,  -7.38143763,  -1.41982478,  -7.34795493,\n",
              "          1.83791913,   0.84744708,   4.32321512,   3.10389928,\n",
              "         -2.43973366,   0.286732  ,   2.29454225,   3.43366   ],\n",
              "       [ -1.48221658,   8.86478035,  -3.62855078,   5.5026541 ,\n",
              "          9.5259495 ,   4.06764966,  -3.92015583,   9.37320981,\n",
              "         -2.04667786,   9.02636059,  -7.39548861,   8.7714583 ,\n",
              "          5.13952899,  -9.07093311,   3.27419116,  -5.5308487 ,\n",
              "          0.33936437,   0.24888175,  -7.83348846,   6.27106999,\n",
              "          9.23622818,   1.7169017 ,  17.72956071,  10.58450852]])"
            ]
          },
          "metadata": {
            "tags": []
          },
          "execution_count": 427
        }
      ]
    },
    {
      "cell_type": "markdown",
      "metadata": {
        "id": "njgtbvqAOIqN"
      },
      "source": [
        "**หาจำนวน cluster ที่เหมาะสมกับข้อมูลของเราด้วยวิธี Elbow Method**"
      ]
    },
    {
      "cell_type": "code",
      "metadata": {
        "id": "t_9ZiYrgL3sv"
      },
      "source": [
        "SSE = list()        # สร้าง list ชื่อว่า SSE      ### เพื่อหาค่า Sum of Squared Errors\n",
        "for k in [1,2,3,4,5,6,7,8]:    # for loop ตัวแปร k ตั้งแต่ 1-8  \n",
        "    kmeans = KMeans(n_clusters=k, random_state=2021)\n",
        "    kmeans.fit(Data)\n",
        "    SSE.append(kmeans.inertia_)"
      ],
      "execution_count": 384,
      "outputs": []
    },
    {
      "cell_type": "code",
      "metadata": {
        "id": "yi9gWEBdM6HY",
        "outputId": "bf9f54df-9e6e-4815-eb30-3e587e3aff65",
        "colab": {
          "base_uri": "https://localhost:8080/"
        }
      },
      "source": [
        "SSE #ค่า Sum of Squared Errors"
      ],
      "execution_count": 385,
      "outputs": [
        {
          "output_type": "execute_result",
          "data": {
            "text/plain": [
              "[11966550.962678483,\n",
              " 8596940.011299517,\n",
              " 6729889.143185041,\n",
              " 5234830.487597061,\n",
              " 3908724.9400010095,\n",
              " 2885596.483636631,\n",
              " 2210026.7534305393,\n",
              " 1586022.791622691]"
            ]
          },
          "metadata": {
            "tags": []
          },
          "execution_count": 385
        }
      ]
    },
    {
      "cell_type": "code",
      "metadata": {
        "id": "GxCpIHR3Npbq",
        "outputId": "19a73ea8-5ea1-4988-c6cf-eec0c8273aad",
        "colab": {
          "base_uri": "https://localhost:8080/",
          "height": 453
        }
      },
      "source": [
        "plt.plot([1,2,3,4,5,6,7,8],SSE,'o-b')  # plot กราฟแสดงค่า Sum of Squared Errors\n",
        "plt.xlabel('K')  ## กำหนดให้แกน X ชื่อ \"K\"\n",
        "plt.ylabel('Sum of Squared Errors'); ## กำหนดให้แกน Y ชื่อ \"Sum of Squared Errors\""
      ],
      "execution_count": 428,
      "outputs": [
        {
          "output_type": "display_data",
          "data": {
            "image/png": "[encoded data removed]",
            "text/plain": [
              "<Figure size 504x504 with 1 Axes>"
            ]
          },
          "metadata": {
            "tags": [],
            "needs_background": "light"
          }
        }
      ]
    },
    {
      "cell_type": "code",
      "metadata": {
        "id": "16qMVuxqNpp6",
        "outputId": "796bc243-07c1-42e9-e1d3-c7221f053852",
        "colab": {
          "base_uri": "https://localhost:8080/"
        }
      },
      "source": [
        "kmeans.inertia_   ## ผลรวมของระยะทางกำลังสองของตัวอย่างไปยังศูนย์กลางคลัสเตอร์ที่ใกล้ที่สุด"
      ],
      "execution_count": 429,
      "outputs": [
        {
          "output_type": "execute_result",
          "data": {
            "text/plain": [
              "1586022.791622691"
            ]
          },
          "metadata": {
            "tags": []
          },
          "execution_count": 429
        }
      ]
    },
    {
      "cell_type": "code",
      "metadata": {
        "id": "fYpoxoBoNuae",
        "outputId": "507afd01-aee5-4570-8109-2637995da375",
        "colab": {
          "base_uri": "https://localhost:8080/",
          "height": 445
        }
      },
      "source": [
        "kmeans = KMeans(n_clusters=2)\n",
        "kmeans.fit(Data)\n",
        "y = kmeans.predict(Data)\n",
        "plt.scatter(out[:,0],out[:,1],c=y) # plot กราฟดูการกระจายของ Data แต่มี cluster เป็น 2 กลุ่ม"
      ],
      "execution_count": 388,
      "outputs": [
        {
          "output_type": "execute_result",
          "data": {
            "text/plain": [
              "<matplotlib.collections.PathCollection at 0x7f845db8c110>"
            ]
          },
          "metadata": {
            "tags": []
          },
          "execution_count": 388
        },
        {
          "output_type": "display_data",
          "data": {
            "image/png": "[encoded data removed]",
            "text/plain": [
              "<Figure size 504x504 with 1 Axes>"
            ]
          },
          "metadata": {
            "tags": [],
            "needs_background": "light"
          }
        }
      ]
    },
    {
      "cell_type": "code",
      "metadata": {
        "id": "SlJBxYdVNv7s",
        "outputId": "f1a8b6f7-b90a-4f78-bfbd-7ef6eb1c420d",
        "colab": {
          "base_uri": "https://localhost:8080/"
        }
      },
      "source": [
        "kmeans.cluster_centers_    #เรียกดูค่า k-mean center ในแต่ละ cluster "
      ],
      "execution_count": 391,
      "outputs": [
        {
          "output_type": "execute_result",
          "data": {
            "text/plain": [
              "array([[  1.43785262,   2.20831045,   2.12020016,   1.59380516,\n",
              "         -1.26868759,  -2.18277409,   0.80298864,  -0.80932857,\n",
              "         -2.8201907 ,  -2.52670618,  -3.25664712,   0.32918072,\n",
              "          2.28202949,  -2.82022267,   0.70860608,  -4.12372035,\n",
              "          1.36680319,   1.98774228,  -0.65115324,   0.04246246,\n",
              "         -0.17937757,   1.64799993,   4.41662089,  10.23999964],\n",
              "       [  4.94437299,   1.0747713 ,   5.07868553,  -1.43730421,\n",
              "          1.34065516,   1.14127649,  -2.86198471,  -0.50567614,\n",
              "         -1.69129741,   3.70323664,  -0.62109618,   0.93292146,\n",
              "          1.45049351,   0.55414072,   2.77597954,  -6.89418095,\n",
              "          7.12054404,   5.96308979,   3.83180573,  -5.64808347,\n",
              "          3.17094454,  -6.59928657,   2.1495426 , -30.99643284]])"
            ]
          },
          "metadata": {
            "tags": []
          },
          "execution_count": 391
        }
      ]
    },
    {
      "cell_type": "markdown",
      "metadata": {
        "id": "smPoKm8xOuum"
      },
      "source": [
        "## เปรียบเทียบความแตกต่าง"
      ]
    },
    {
      "cell_type": "markdown",
      "metadata": {
        "id": "NEuE82WrO6U7"
      },
      "source": [
        "**กราฟการกระจายของข้อมูลที่ทำ clustering แล้วทำ visualize ข้อมูลแบบ 2 มิติ**"
      ]
    },
    {
      "cell_type": "code",
      "metadata": {
        "id": "vuxFrbfjOmJG",
        "outputId": "730312a7-c918-4acb-e1f3-ac247d5e01de",
        "colab": {
          "base_uri": "https://localhost:8080/",
          "height": 447
        }
      },
      "source": [
        "kmeans = KMeans(n_clusters=2)\n",
        "kmeans.fit(Data)\n",
        "y = kmeans.predict(Data)\n",
        "plt.scatter(new_pca_1[:,0],new_pca_1[:,1],c=y) # plot กราฟดูการกระจายของ Data แต่มี cluster เป็น 2 กลุ่ม\n"
      ],
      "execution_count": 395,
      "outputs": [
        {
          "output_type": "execute_result",
          "data": {
            "text/plain": [
              "<matplotlib.collections.PathCollection at 0x7f845e11f950>"
            ]
          },
          "metadata": {
            "tags": []
          },
          "execution_count": 395
        },
        {
          "output_type": "display_data",
          "data": {
            "image/png": "[encoded data removed]",
            "text/plain": [
              "<Figure size 504x504 with 1 Axes>"
            ]
          },
          "metadata": {
            "tags": [],
            "needs_background": "light"
          }
        }
      ]
    },
    {
      "cell_type": "markdown",
      "metadata": {
        "id": "HdG4uRRaO5_d"
      },
      "source": [
        "**กราฟการกระจายของข้อมูลที่ ลด Dimension ของข้อมูลเหลือ 2 มิติ แล้วทำ clustering แล้ว visualize ข้อมูลแบบ 2 มิติ**"
      ]
    },
    {
      "cell_type": "code",
      "metadata": {
        "id": "0BFl1NdBO5na",
        "outputId": "c2a7ec1d-ad04-4791-f320-1fdfe6e512d8",
        "colab": {
          "base_uri": "https://localhost:8080/",
          "height": 445
        }
      },
      "source": [
        "kmeans = KMeans(n_clusters=2)\n",
        "kmeans.fit(Data)\n",
        "y = kmeans.predict(Data)\n",
        "plt.scatter(out[:,0],out[:,1],c=y)   # plot กราฟดูการกระจายของ Data ที่ถูกลด Dimension แต่มี cluster เป็น 2 กลุ่ม"
      ],
      "execution_count": 396,
      "outputs": [
        {
          "output_type": "execute_result",
          "data": {
            "text/plain": [
              "<matplotlib.collections.PathCollection at 0x7f846122a290>"
            ]
          },
          "metadata": {
            "tags": []
          },
          "execution_count": 396
        },
        {
          "output_type": "display_data",
          "data": {
            "image/png": "[encoded data removed]",
            "text/plain": [
              "<Figure size 504x504 with 1 Axes>"
            ]
          },
          "metadata": {
            "tags": [],
            "needs_background": "light"
          }
        }
      ]
    },
    {
      "cell_type": "markdown",
      "metadata": {
        "id": "XIlekMP0Wdyf"
      },
      "source": [
        "**ตอบ** *กราฟทั้ง 2 มีความแตกต่างตรงที่การกระจายของข้อมูล ถึงจะแบ่งกลุ่มออกเป็น 2 กลุ่ม แต่กราฟที่ได้ก็มีหน้าตาที่ไม่เหมือนกัน เนื่องจากมีการถูกลด Dimension*"
      ]
    },
    {
      "cell_type": "code",
      "metadata": {
        "id": "XP4ltWOJZRJ1"
      },
      "source": [
        ""
      ],
      "execution_count": null,
      "outputs": []
    }
  ]
}